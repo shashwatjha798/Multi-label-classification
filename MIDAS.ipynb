{
 "cells": [
  {
   "cell_type": "markdown",
   "id": "handy-hunger",
   "metadata": {},
   "source": [
    "## Shashwat Jha"
   ]
  },
  {
   "cell_type": "code",
   "execution_count": 1,
   "id": "original-dream",
   "metadata": {
    "scrolled": true
   },
   "outputs": [],
   "source": [
    "#Importing all the necessary libraries and modules \n",
    "import pandas as pd\n",
    "import re \n",
    "import nltk \n",
    "import matplotlib.pyplot as plt\n",
    "from sklearn import preprocessing\n",
    "from sklearn.model_selection import train_test_split\n",
    "from sklearn.feature_extraction.text import CountVectorizer\n",
    "from sklearn.naive_bayes import MultinomialNB\n",
    "from sklearn.metrics import classification_report\n",
    "from sklearn.feature_extraction.text import TfidfVectorizer\n",
    "from sklearn.metrics import recall_score, precision_score, f1_score"
   ]
  },
  {
   "cell_type": "code",
   "execution_count": 2,
   "id": "entire-exclusive",
   "metadata": {
    "scrolled": true
   },
   "outputs": [],
   "source": [
    "#Reading the csv file using pandas\n",
    "df = pd.read_csv(\"flipkart.csv\")"
   ]
  },
  {
   "cell_type": "code",
   "execution_count": 3,
   "id": "assisted-billion",
   "metadata": {
    "scrolled": true
   },
   "outputs": [
    {
     "data": {
      "text/html": [
       "<div>\n",
       "<style scoped>\n",
       "    .dataframe tbody tr th:only-of-type {\n",
       "        vertical-align: middle;\n",
       "    }\n",
       "\n",
       "    .dataframe tbody tr th {\n",
       "        vertical-align: top;\n",
       "    }\n",
       "\n",
       "    .dataframe thead th {\n",
       "        text-align: right;\n",
       "    }\n",
       "</style>\n",
       "<table border=\"1\" class=\"dataframe\">\n",
       "  <thead>\n",
       "    <tr style=\"text-align: right;\">\n",
       "      <th></th>\n",
       "      <th>uniq_id</th>\n",
       "      <th>crawl_timestamp</th>\n",
       "      <th>product_url</th>\n",
       "      <th>product_name</th>\n",
       "      <th>product_category_tree</th>\n",
       "      <th>pid</th>\n",
       "      <th>retail_price</th>\n",
       "      <th>discounted_price</th>\n",
       "      <th>image</th>\n",
       "      <th>is_FK_Advantage_product</th>\n",
       "      <th>description</th>\n",
       "      <th>product_rating</th>\n",
       "      <th>overall_rating</th>\n",
       "      <th>brand</th>\n",
       "      <th>product_specifications</th>\n",
       "    </tr>\n",
       "  </thead>\n",
       "  <tbody>\n",
       "    <tr>\n",
       "      <th>0</th>\n",
       "      <td>c2d766ca982eca8304150849735ffef9</td>\n",
       "      <td>2016-03-25 22:59:23 +0000</td>\n",
       "      <td>http://www.flipkart.com/alisha-solid-women-s-c...</td>\n",
       "      <td>Alisha Solid Women's Cycling Shorts</td>\n",
       "      <td>[\"Clothing &gt;&gt; Women's Clothing &gt;&gt; Lingerie, Sl...</td>\n",
       "      <td>SRTEH2FF9KEDEFGF</td>\n",
       "      <td>999.0</td>\n",
       "      <td>379.0</td>\n",
       "      <td>[\"http://img5a.flixcart.com/image/short/u/4/a/...</td>\n",
       "      <td>False</td>\n",
       "      <td>Key Features of Alisha Solid Women's Cycling S...</td>\n",
       "      <td>No rating available</td>\n",
       "      <td>No rating available</td>\n",
       "      <td>Alisha</td>\n",
       "      <td>{\"product_specification\"=&gt;[{\"key\"=&gt;\"Number of ...</td>\n",
       "    </tr>\n",
       "    <tr>\n",
       "      <th>1</th>\n",
       "      <td>7f7036a6d550aaa89d34c77bd39a5e48</td>\n",
       "      <td>2016-03-25 22:59:23 +0000</td>\n",
       "      <td>http://www.flipkart.com/fabhomedecor-fabric-do...</td>\n",
       "      <td>FabHomeDecor Fabric Double Sofa Bed</td>\n",
       "      <td>[\"Furniture &gt;&gt; Living Room Furniture &gt;&gt; Sofa B...</td>\n",
       "      <td>SBEEH3QGU7MFYJFY</td>\n",
       "      <td>32157.0</td>\n",
       "      <td>22646.0</td>\n",
       "      <td>[\"http://img6a.flixcart.com/image/sofa-bed/j/f...</td>\n",
       "      <td>False</td>\n",
       "      <td>FabHomeDecor Fabric Double Sofa Bed (Finish Co...</td>\n",
       "      <td>No rating available</td>\n",
       "      <td>No rating available</td>\n",
       "      <td>FabHomeDecor</td>\n",
       "      <td>{\"product_specification\"=&gt;[{\"key\"=&gt;\"Installati...</td>\n",
       "    </tr>\n",
       "    <tr>\n",
       "      <th>2</th>\n",
       "      <td>f449ec65dcbc041b6ae5e6a32717d01b</td>\n",
       "      <td>2016-03-25 22:59:23 +0000</td>\n",
       "      <td>http://www.flipkart.com/aw-bellies/p/itmeh4grg...</td>\n",
       "      <td>AW Bellies</td>\n",
       "      <td>[\"Footwear &gt;&gt; Women's Footwear &gt;&gt; Ballerinas &gt;...</td>\n",
       "      <td>SHOEH4GRSUBJGZXE</td>\n",
       "      <td>999.0</td>\n",
       "      <td>499.0</td>\n",
       "      <td>[\"http://img5a.flixcart.com/image/shoe/7/z/z/r...</td>\n",
       "      <td>False</td>\n",
       "      <td>Key Features of AW Bellies Sandals Wedges Heel...</td>\n",
       "      <td>No rating available</td>\n",
       "      <td>No rating available</td>\n",
       "      <td>AW</td>\n",
       "      <td>{\"product_specification\"=&gt;[{\"key\"=&gt;\"Ideal For\"...</td>\n",
       "    </tr>\n",
       "    <tr>\n",
       "      <th>3</th>\n",
       "      <td>0973b37acd0c664e3de26e97e5571454</td>\n",
       "      <td>2016-03-25 22:59:23 +0000</td>\n",
       "      <td>http://www.flipkart.com/alisha-solid-women-s-c...</td>\n",
       "      <td>Alisha Solid Women's Cycling Shorts</td>\n",
       "      <td>[\"Clothing &gt;&gt; Women's Clothing &gt;&gt; Lingerie, Sl...</td>\n",
       "      <td>SRTEH2F6HUZMQ6SJ</td>\n",
       "      <td>699.0</td>\n",
       "      <td>267.0</td>\n",
       "      <td>[\"http://img5a.flixcart.com/image/short/6/2/h/...</td>\n",
       "      <td>False</td>\n",
       "      <td>Key Features of Alisha Solid Women's Cycling S...</td>\n",
       "      <td>No rating available</td>\n",
       "      <td>No rating available</td>\n",
       "      <td>Alisha</td>\n",
       "      <td>{\"product_specification\"=&gt;[{\"key\"=&gt;\"Number of ...</td>\n",
       "    </tr>\n",
       "    <tr>\n",
       "      <th>4</th>\n",
       "      <td>bc940ea42ee6bef5ac7cea3fb5cfbee7</td>\n",
       "      <td>2016-03-25 22:59:23 +0000</td>\n",
       "      <td>http://www.flipkart.com/sicons-all-purpose-arn...</td>\n",
       "      <td>Sicons All Purpose Arnica Dog Shampoo</td>\n",
       "      <td>[\"Pet Supplies &gt;&gt; Grooming &gt;&gt; Skin &amp; Coat Care...</td>\n",
       "      <td>PSOEH3ZYDMSYARJ5</td>\n",
       "      <td>220.0</td>\n",
       "      <td>210.0</td>\n",
       "      <td>[\"http://img5a.flixcart.com/image/pet-shampoo/...</td>\n",
       "      <td>False</td>\n",
       "      <td>Specifications of Sicons All Purpose Arnica Do...</td>\n",
       "      <td>No rating available</td>\n",
       "      <td>No rating available</td>\n",
       "      <td>Sicons</td>\n",
       "      <td>{\"product_specification\"=&gt;[{\"key\"=&gt;\"Pet Type\",...</td>\n",
       "    </tr>\n",
       "  </tbody>\n",
       "</table>\n",
       "</div>"
      ],
      "text/plain": [
       "                            uniq_id            crawl_timestamp  \\\n",
       "0  c2d766ca982eca8304150849735ffef9  2016-03-25 22:59:23 +0000   \n",
       "1  7f7036a6d550aaa89d34c77bd39a5e48  2016-03-25 22:59:23 +0000   \n",
       "2  f449ec65dcbc041b6ae5e6a32717d01b  2016-03-25 22:59:23 +0000   \n",
       "3  0973b37acd0c664e3de26e97e5571454  2016-03-25 22:59:23 +0000   \n",
       "4  bc940ea42ee6bef5ac7cea3fb5cfbee7  2016-03-25 22:59:23 +0000   \n",
       "\n",
       "                                         product_url  \\\n",
       "0  http://www.flipkart.com/alisha-solid-women-s-c...   \n",
       "1  http://www.flipkart.com/fabhomedecor-fabric-do...   \n",
       "2  http://www.flipkart.com/aw-bellies/p/itmeh4grg...   \n",
       "3  http://www.flipkart.com/alisha-solid-women-s-c...   \n",
       "4  http://www.flipkart.com/sicons-all-purpose-arn...   \n",
       "\n",
       "                            product_name  \\\n",
       "0    Alisha Solid Women's Cycling Shorts   \n",
       "1    FabHomeDecor Fabric Double Sofa Bed   \n",
       "2                             AW Bellies   \n",
       "3    Alisha Solid Women's Cycling Shorts   \n",
       "4  Sicons All Purpose Arnica Dog Shampoo   \n",
       "\n",
       "                               product_category_tree               pid  \\\n",
       "0  [\"Clothing >> Women's Clothing >> Lingerie, Sl...  SRTEH2FF9KEDEFGF   \n",
       "1  [\"Furniture >> Living Room Furniture >> Sofa B...  SBEEH3QGU7MFYJFY   \n",
       "2  [\"Footwear >> Women's Footwear >> Ballerinas >...  SHOEH4GRSUBJGZXE   \n",
       "3  [\"Clothing >> Women's Clothing >> Lingerie, Sl...  SRTEH2F6HUZMQ6SJ   \n",
       "4  [\"Pet Supplies >> Grooming >> Skin & Coat Care...  PSOEH3ZYDMSYARJ5   \n",
       "\n",
       "   retail_price  discounted_price  \\\n",
       "0         999.0             379.0   \n",
       "1       32157.0           22646.0   \n",
       "2         999.0             499.0   \n",
       "3         699.0             267.0   \n",
       "4         220.0             210.0   \n",
       "\n",
       "                                               image  is_FK_Advantage_product  \\\n",
       "0  [\"http://img5a.flixcart.com/image/short/u/4/a/...                    False   \n",
       "1  [\"http://img6a.flixcart.com/image/sofa-bed/j/f...                    False   \n",
       "2  [\"http://img5a.flixcart.com/image/shoe/7/z/z/r...                    False   \n",
       "3  [\"http://img5a.flixcart.com/image/short/6/2/h/...                    False   \n",
       "4  [\"http://img5a.flixcart.com/image/pet-shampoo/...                    False   \n",
       "\n",
       "                                         description       product_rating  \\\n",
       "0  Key Features of Alisha Solid Women's Cycling S...  No rating available   \n",
       "1  FabHomeDecor Fabric Double Sofa Bed (Finish Co...  No rating available   \n",
       "2  Key Features of AW Bellies Sandals Wedges Heel...  No rating available   \n",
       "3  Key Features of Alisha Solid Women's Cycling S...  No rating available   \n",
       "4  Specifications of Sicons All Purpose Arnica Do...  No rating available   \n",
       "\n",
       "        overall_rating         brand  \\\n",
       "0  No rating available        Alisha   \n",
       "1  No rating available  FabHomeDecor   \n",
       "2  No rating available            AW   \n",
       "3  No rating available        Alisha   \n",
       "4  No rating available        Sicons   \n",
       "\n",
       "                              product_specifications  \n",
       "0  {\"product_specification\"=>[{\"key\"=>\"Number of ...  \n",
       "1  {\"product_specification\"=>[{\"key\"=>\"Installati...  \n",
       "2  {\"product_specification\"=>[{\"key\"=>\"Ideal For\"...  \n",
       "3  {\"product_specification\"=>[{\"key\"=>\"Number of ...  \n",
       "4  {\"product_specification\"=>[{\"key\"=>\"Pet Type\",...  "
      ]
     },
     "execution_count": 3,
     "metadata": {},
     "output_type": "execute_result"
    }
   ],
   "source": [
    "#To view the frist five rows of the dataframe\n",
    "df.head()"
   ]
  },
  {
   "cell_type": "code",
   "execution_count": 4,
   "id": "falling-visibility",
   "metadata": {
    "scrolled": true
   },
   "outputs": [
    {
     "data": {
      "text/plain": [
       "(20000, 15)"
      ]
     },
     "execution_count": 4,
     "metadata": {},
     "output_type": "execute_result"
    }
   ],
   "source": [
    "#Outputs the number of rows and columns in the daqtaframe\n",
    "df.shape"
   ]
  },
  {
   "cell_type": "code",
   "execution_count": 5,
   "id": "relative-royalty",
   "metadata": {
    "scrolled": true
   },
   "outputs": [
    {
     "data": {
      "text/plain": [
       "Index(['uniq_id', 'crawl_timestamp', 'product_url', 'product_name',\n",
       "       'product_category_tree', 'pid', 'retail_price', 'discounted_price',\n",
       "       'image', 'is_FK_Advantage_product', 'description', 'product_rating',\n",
       "       'overall_rating', 'brand', 'product_specifications'],\n",
       "      dtype='object')"
      ]
     },
     "execution_count": 5,
     "metadata": {},
     "output_type": "execute_result"
    }
   ],
   "source": [
    "#Name of all the columns in our dataframe\n",
    "df.columns"
   ]
  },
  {
   "cell_type": "code",
   "execution_count": 6,
   "id": "arranged-coordinate",
   "metadata": {
    "scrolled": true
   },
   "outputs": [
    {
     "data": {
      "text/html": [
       "<div>\n",
       "<style scoped>\n",
       "    .dataframe tbody tr th:only-of-type {\n",
       "        vertical-align: middle;\n",
       "    }\n",
       "\n",
       "    .dataframe tbody tr th {\n",
       "        vertical-align: top;\n",
       "    }\n",
       "\n",
       "    .dataframe thead th {\n",
       "        text-align: right;\n",
       "    }\n",
       "</style>\n",
       "<table border=\"1\" class=\"dataframe\">\n",
       "  <thead>\n",
       "    <tr style=\"text-align: right;\">\n",
       "      <th></th>\n",
       "      <th>retail_price</th>\n",
       "      <th>discounted_price</th>\n",
       "    </tr>\n",
       "  </thead>\n",
       "  <tbody>\n",
       "    <tr>\n",
       "      <th>count</th>\n",
       "      <td>19922.000000</td>\n",
       "      <td>19922.000000</td>\n",
       "    </tr>\n",
       "    <tr>\n",
       "      <th>mean</th>\n",
       "      <td>2979.206104</td>\n",
       "      <td>1973.401767</td>\n",
       "    </tr>\n",
       "    <tr>\n",
       "      <th>std</th>\n",
       "      <td>9009.639341</td>\n",
       "      <td>7333.586040</td>\n",
       "    </tr>\n",
       "    <tr>\n",
       "      <th>min</th>\n",
       "      <td>35.000000</td>\n",
       "      <td>35.000000</td>\n",
       "    </tr>\n",
       "    <tr>\n",
       "      <th>25%</th>\n",
       "      <td>666.000000</td>\n",
       "      <td>350.000000</td>\n",
       "    </tr>\n",
       "    <tr>\n",
       "      <th>50%</th>\n",
       "      <td>1040.000000</td>\n",
       "      <td>550.000000</td>\n",
       "    </tr>\n",
       "    <tr>\n",
       "      <th>75%</th>\n",
       "      <td>1999.000000</td>\n",
       "      <td>999.000000</td>\n",
       "    </tr>\n",
       "    <tr>\n",
       "      <th>max</th>\n",
       "      <td>571230.000000</td>\n",
       "      <td>571230.000000</td>\n",
       "    </tr>\n",
       "  </tbody>\n",
       "</table>\n",
       "</div>"
      ],
      "text/plain": [
       "        retail_price  discounted_price\n",
       "count   19922.000000      19922.000000\n",
       "mean     2979.206104       1973.401767\n",
       "std      9009.639341       7333.586040\n",
       "min        35.000000         35.000000\n",
       "25%       666.000000        350.000000\n",
       "50%      1040.000000        550.000000\n",
       "75%      1999.000000        999.000000\n",
       "max    571230.000000     571230.000000"
      ]
     },
     "execution_count": 6,
     "metadata": {},
     "output_type": "execute_result"
    }
   ],
   "source": [
    "#Ouputs the statistical features of only numerical columns\n",
    "df.describe()"
   ]
  },
  {
   "cell_type": "code",
   "execution_count": 7,
   "id": "horizontal-median",
   "metadata": {
    "scrolled": true
   },
   "outputs": [
    {
     "name": "stdout",
     "output_type": "stream",
     "text": [
      "<class 'pandas.core.frame.DataFrame'>\n",
      "RangeIndex: 20000 entries, 0 to 19999\n",
      "Data columns (total 15 columns):\n",
      " #   Column                   Non-Null Count  Dtype  \n",
      "---  ------                   --------------  -----  \n",
      " 0   uniq_id                  20000 non-null  object \n",
      " 1   crawl_timestamp          20000 non-null  object \n",
      " 2   product_url              20000 non-null  object \n",
      " 3   product_name             20000 non-null  object \n",
      " 4   product_category_tree    20000 non-null  object \n",
      " 5   pid                      20000 non-null  object \n",
      " 6   retail_price             19922 non-null  float64\n",
      " 7   discounted_price         19922 non-null  float64\n",
      " 8   image                    19997 non-null  object \n",
      " 9   is_FK_Advantage_product  20000 non-null  bool   \n",
      " 10  description              19998 non-null  object \n",
      " 11  product_rating           20000 non-null  object \n",
      " 12  overall_rating           20000 non-null  object \n",
      " 13  brand                    14136 non-null  object \n",
      " 14  product_specifications   19986 non-null  object \n",
      "dtypes: bool(1), float64(2), object(12)\n",
      "memory usage: 1.2+ MB\n"
     ]
    }
   ],
   "source": [
    "#Used to ouput total number of non-null values in each row, data type of each column\n",
    "df.info()"
   ]
  },
  {
   "cell_type": "markdown",
   "id": "lyric-palestine",
   "metadata": {},
   "source": [
    "In this task we will take the \"description\" column as our main feature.<br>\n",
    "We can see that we have two null values in description column, in the codeblock below we are trying to get the index of these two instances."
   ]
  },
  {
   "cell_type": "code",
   "execution_count": 8,
   "id": "contemporary-agenda",
   "metadata": {
    "scrolled": true
   },
   "outputs": [
    {
     "data": {
      "text/plain": [
       "Int64Index([553, 17299], dtype='int64')"
      ]
     },
     "execution_count": 8,
     "metadata": {},
     "output_type": "execute_result"
    }
   ],
   "source": [
    "df[df['description'].isnull()].index"
   ]
  },
  {
   "cell_type": "code",
   "execution_count": 9,
   "id": "ready-trailer",
   "metadata": {
    "scrolled": true
   },
   "outputs": [
    {
     "name": "stdout",
     "output_type": "stream",
     "text": [
      "nan\n",
      "nan\n"
     ]
    }
   ],
   "source": [
    "#Printing out the description of the index 553 , 17299\n",
    "print(df['description'][553])\n",
    "print(df['description'][17299])"
   ]
  },
  {
   "cell_type": "markdown",
   "id": "painful-necklace",
   "metadata": {},
   "source": [
    "If we have decided to take description column as the main feature, we can drop the above two mentioned instances from our data frame as it doesn't have any description and thus it can't be used for either training or testing our model. "
   ]
  },
  {
   "cell_type": "code",
   "execution_count": 10,
   "id": "injured-spencer",
   "metadata": {
    "scrolled": true
   },
   "outputs": [],
   "source": [
    "df.drop([553, 17299] , inplace = True)"
   ]
  },
  {
   "cell_type": "code",
   "execution_count": 11,
   "id": "lucky-gibraltar",
   "metadata": {
    "scrolled": true
   },
   "outputs": [
    {
     "data": {
      "text/plain": [
       "(19998, 15)"
      ]
     },
     "execution_count": 11,
     "metadata": {},
     "output_type": "execute_result"
    }
   ],
   "source": [
    "# We have dropped two rows\n",
    "df.shape"
   ]
  },
  {
   "cell_type": "code",
   "execution_count": 12,
   "id": "based-transsexual",
   "metadata": {
    "scrolled": true
   },
   "outputs": [
    {
     "name": "stdout",
     "output_type": "stream",
     "text": [
      "Specifications of Pick Pocket Embroidered Women's Waistcoat General Details Pattern Embroidered Occasion Casual Ideal For Women's Waistcoat Details Lining Polyester Fabric Bengal Silk Additional Details Style Code TL-012 Fabric Care First Time Dry Clean\n"
     ]
    }
   ],
   "source": [
    "#Let's print out one random description to see what does our features look like \n",
    "print(df['description'][37])"
   ]
  },
  {
   "cell_type": "markdown",
   "id": "decreased-withdrawal",
   "metadata": {},
   "source": [
    "We see that there are many characters in the description which are not useful for us. Thus the next step that we adopt is of cleaning the strings of the desription column. We can clean these strings with the help of *regex* library."
   ]
  },
  {
   "cell_type": "code",
   "execution_count": 13,
   "id": "accompanied-terrain",
   "metadata": {
    "scrolled": true
   },
   "outputs": [],
   "source": [
    "def preprocessing_string(str_arg):\n",
    "    '''\n",
    "    input: str_arg --> Takes string to clean\n",
    "    output: cleaned_str --> Gives back cleaned string\n",
    "    This fuction cleans the text in the mentioned ways as comments after the line.This has been copied from some other kernel.\n",
    "\n",
    "    '''\n",
    "    cleaned_str=re.sub('[^a-z\\s]+',' ',str_arg,flags=re.IGNORECASE) #every char except alphabets is replaced\n",
    "    cleaned_str=re.sub('(\\s+)',' ',cleaned_str) #multiple spaces are replaced by single space\n",
    "    cleaned_str=cleaned_str.lower() #converting the cleaned string to lower case\n",
    "    \n",
    "    return cleaned_str # Returning the preprocessed string in tokenized form"
   ]
  },
  {
   "cell_type": "code",
   "execution_count": 14,
   "id": "mature-cameroon",
   "metadata": {
    "scrolled": true
   },
   "outputs": [
    {
     "name": "stdout",
     "output_type": "stream",
     "text": [
      "Key Features of Alisha Solid Women's Cycling Shorts Cotton Lycra Navy, Red, Navy,Specifications of Alisha Solid Women's Cycling Shorts Shorts Details Number of Contents in Sales Package Pack of 3 Fabric Cotton Lycra Type Cycling Shorts General Details Pattern Solid Ideal For Women's Fabric Care Gentle Machine Wash in Lukewarm Water, Do Not Bleach Additional Details Style Code ALTHT_3P_21 In the Box 3 shorts\n",
      "\n",
      "\n",
      "key features of alisha solid women s cycling shorts cotton lycra navy red navy specifications of alisha solid women s cycling shorts shorts details number of contents in sales package pack of fabric cotton lycra type cycling shorts general details pattern solid ideal for women s fabric care gentle machine wash in lukewarm water do not bleach additional details style code altht p in the box shorts\n"
     ]
    }
   ],
   "source": [
    "'''\n",
    "    Lets see how our string look after we appply the \"preprocessing_string\" function on it.\n",
    "'''\n",
    "print(df[\"description\"][0])\n",
    "print('\\n')\n",
    "print(preprocessing_string(df[\"description\"][0]))"
   ]
  },
  {
   "cell_type": "markdown",
   "id": "junior-airport",
   "metadata": {},
   "source": [
    "As mentioned in the task, the main goal is to find the category of product. The \"product_category_tree\" column in dataframe is our target.<br>"
   ]
  },
  {
   "cell_type": "code",
   "execution_count": 15,
   "id": "waiting-skirt",
   "metadata": {
    "scrolled": true
   },
   "outputs": [
    {
     "data": {
      "text/plain": [
       "0        [\"Clothing >> Women's Clothing >> Lingerie, Sl...\n",
       "1        [\"Furniture >> Living Room Furniture >> Sofa B...\n",
       "2        [\"Footwear >> Women's Footwear >> Ballerinas >...\n",
       "3        [\"Clothing >> Women's Clothing >> Lingerie, Sl...\n",
       "4        [\"Pet Supplies >> Grooming >> Skin & Coat Care...\n",
       "                               ...                        \n",
       "19995    [\"Baby Care >> Baby & Kids Gifts >> Stickers >...\n",
       "19996    [\"Baby Care >> Baby & Kids Gifts >> Stickers >...\n",
       "19997    [\"Baby Care >> Baby & Kids Gifts >> Stickers >...\n",
       "19998    [\"Baby Care >> Baby & Kids Gifts >> Stickers >...\n",
       "19999    [\"Baby Care >> Baby & Kids Gifts >> Stickers >...\n",
       "Name: product_category_tree, Length: 19998, dtype: object"
      ]
     },
     "execution_count": 15,
     "metadata": {},
     "output_type": "execute_result"
    }
   ],
   "source": [
    "#lets look at the product_category_tree column\n",
    "df['product_category_tree']"
   ]
  },
  {
   "cell_type": "markdown",
   "id": "touched-israeli",
   "metadata": {},
   "source": [
    "We can see that there are numerous categories in the dataframe, also we can notice that in each category there are some sub categories, as per the task requirement we only need focus on the \"main\" or so called \"parent\" categories.<br>\n",
    "For this purpose we need to process these categories in order to extract the \"main\" category of the product."
   ]
  },
  {
   "cell_type": "code",
   "execution_count": 16,
   "id": "engaged-franklin",
   "metadata": {
    "scrolled": true
   },
   "outputs": [],
   "source": [
    "# Category processing. (Check data to understand)\n",
    "df['product_category_tree'] = df['product_category_tree'].apply(lambda x : x.split('>>')[0][2:].strip())"
   ]
  },
  {
   "cell_type": "code",
   "execution_count": 17,
   "id": "toxic-broadcast",
   "metadata": {
    "scrolled": true
   },
   "outputs": [
    {
     "name": "stdout",
     "output_type": "stream",
     "text": [
      "Vishudh Printed Women's Straight Kurta\"]\n",
      "Clothing\n"
     ]
    }
   ],
   "source": [
    "#lets look at some of the main categories extracted by the help of the lambda, split and strip.\n",
    "print(df['product_category_tree'][50])\n",
    "print(df[\"product_category_tree\"][0])"
   ]
  },
  {
   "cell_type": "code",
   "execution_count": 18,
   "id": "asian-going",
   "metadata": {
    "scrolled": true
   },
   "outputs": [
    {
     "data": {
      "text/plain": [
       "266"
      ]
     },
     "execution_count": 18,
     "metadata": {},
     "output_type": "execute_result"
    }
   ],
   "source": [
    "#Total number of uniques \"parent\"\n",
    "df['product_category_tree'].nunique()"
   ]
  },
  {
   "cell_type": "code",
   "execution_count": 19,
   "id": "macro-nepal",
   "metadata": {
    "scrolled": true
   },
   "outputs": [
    {
     "data": {
      "text/plain": [
       "array(['Clothing', 'Furniture', 'Footwear', 'Pet Supplies',\n",
       "       'Eternal Gandhi Super Series Crystal Paper Weight...\"]',\n",
       "       'Pens & Stationery', 'Sports & Fitness',\n",
       "       'Beauty and Personal Care',\n",
       "       'Bengal Blooms Rose Artificial Plant  with Pot (3...\"]',\n",
       "       'Bags, Wallets & Belts', 'Home Decor & Festive Needs',\n",
       "       'Automotive', 'Tools & Hardware',\n",
       "       'Vishudh Printed Women\\'s Straight Kurta\"]',\n",
       "       'Vishudh Printed Women\\'s Anarkali Kurta\"]',\n",
       "       'BuildTrack PIR Wireless Motion Sensor - One Swit...\"]',\n",
       "       'Skayvon SUMMERSIBLE SINGLE PHASE PUMP CONTROLLER...\"]',\n",
       "       'MASARA Solid Women\\'s Straight Kurta\"]',\n",
       "       'Skayvon SUBMERSIBBLE THREE PHASE PUMP CONTROLLER...\"]',\n",
       "       'Behringer Xenyx 502 Analog Sound Mixer\"]',\n",
       "       'Noor Embroidered Women\\'s Straight Kurta\"]',\n",
       "       'Libas Printed Women\\'s A-line Kurta\"]',\n",
       "       'Libas Printed Women\\'s Anarkali Kurta\"]', 'Home Furnishing',\n",
       "       'Baby Care', 'Mobiles & Accessories', 'Food & Nutrition',\n",
       "       'Watches', 'Toys & School Supplies', 'Jewellery',\n",
       "       'Cellbazaar Blackberry 8520 WHITE LCD LCD (YIT-562)\"]',\n",
       "       'Dressberry Gold Synthetic  Clutch\"]',\n",
       "       'Mast & Harbour Black Synthetic  Clutch\"]',\n",
       "       'Sisel Printed Poly Cotton Women\\'s Stole\"]',\n",
       "       'Knight Ace Kraasa Sports Running Shoes, Cycling ...\"]',\n",
       "       'Indistar Self Design Viscose Women\\'s Stole\"]',\n",
       "       'Glacier Running Shoes\"]', 'Dressberry Black Synthetic  Clutch\"]',\n",
       "       'Asics Gel-Cumulus 17 Running Shoes\"]',\n",
       "       'Mast & Harbour Gold Synthetic  Clutch\"]',\n",
       "       'Asics Gel-Kayano 22 Running Shoes\"]',\n",
       "       'Dressberry Orange Synthetic  Clutch\"]',\n",
       "       'Dressberry Green Synthetic  Clutch\"]', 'Escan Lace Up\"]',\n",
       "       'Nine Maternity Wear Women\\'s Fit and Flare Dress\"]',\n",
       "       'Sunglasses\"]', 'Kitchen & Dining', 'Home & Kitchen', 'Computers',\n",
       "       'Cameras & Accessories', 'ANAND ARCHIES Girls Flats\"]',\n",
       "       'ANAND ARCHIES Girls Wedges\"]',\n",
       "       'Prime Printed 8 Seater Table Cover (Multicolor, ...\"]',\n",
       "       'Health & Personal Care Appliances',\n",
       "       'Speedwav 240437 Sun Shade For Hyundai i10 (Dashb...\"]',\n",
       "       'Vitamins Solid Baby Girl\\'s Basic Shorts\"]', 'Gaming',\n",
       "       'Home Improvement', 'Sumo Baby Walker (Red)\"]',\n",
       "       'Kombee Girl\\'s Printed Red, Pink Top & Capri Set\"]',\n",
       "       'NEWGEN TECH EO-HS3303 218 Wired Headset (White)\"]',\n",
       "       'Automation & Robotics',\n",
       "       'K&P Dr.Ambedkar Large 04 Showpiece  -  19 cm (Po...\"]',\n",
       "       'K&P Lord Ganesha Large 03 Showpiece  -  19 cm (P...\"]',\n",
       "       'Adidas IND PRO THI GUA Thigh Guard (White, Blue,...\"]',\n",
       "       'Bootwale Bellies\"]',\n",
       "       'clickforsign Avoid Contanimation Wash your Hands...\"]',\n",
       "       'Treppe Bellies\"]', 'Kanvas Bellies\"]',\n",
       "       'Klaur Melbourne Bellies\"]',\n",
       "       'Clickforsign Vehicles parked Illegally will be t...\"]',\n",
       "       'clickforsign Sound horn Before entering Emergenc...\"]',\n",
       "       'kem Flow Gold skinny Fit Baby Girl\\'s Blue Jeans\"]',\n",
       "       'Carbanao Chrome Grill Chevrolet Cruze Car Grill ...\"]',\n",
       "       'Oddy RS 1.5 X 2 100 Sheets Self Stick Reposition...\"]',\n",
       "       'Synergy SFJB0105 Grocery Bag (Blue)\"]',\n",
       "       'SHOPOJ White Paper Sky Lantern (80 cm X 34 cm, P...\"]',\n",
       "       'SUPERMOD Men\\'s Brief\"]', 'Sunglasses',\n",
       "       'Lilliput Top Baby Girl\\'s  Combo\"]',\n",
       "       'Frabjous German silver Rings For Women Alloy Zir...\"]',\n",
       "       'Zevrr Sterling Silver Swarovski Zirconia Platinu...\"]',\n",
       "       'Rasav Jewels Yellow Gold Diamond 18 K Ring\"]',\n",
       "       'Royal Seal Creations 40 ST COLOR Silver Zircon N...\"]',\n",
       "       'Home Entertainment',\n",
       "       'ANASAZI Casual 3/4 Sleeve Solid Women\\'s Top\"]',\n",
       "       'INVENTURE RETAIL Nail Cutter\"]',\n",
       "       'Fabpoppy Printed Women\\'s Jumpsuit\"]',\n",
       "       'Power Smart Quick Charging Pack For PAN CGR-DU-2...\"]',\n",
       "       'Gking Hand Stiched Steering Cover For Maruti Ert...\"]',\n",
       "       'GM Power mate 4 Strip Surge Protector (White)\"]',\n",
       "       'Shrih SH-0192 Wired USB Flexible Keyboard (Red)\"]',\n",
       "       'Threads & Pals Full Sleeve Printed, Solid Men\\'s ...\"]',\n",
       "       'Threads & Pals Full Sleeve Self Design Men\\'s Swe...\"]',\n",
       "       'Gking Hand Stiched Steering Cover For Renault Sc...\"]',\n",
       "       'Power Smart Quick Charging Pack For PAN CGR-D28 ...\"]',\n",
       "       'xy decor Cotton Sofa Cover (white Pack of 6)\"]',\n",
       "       'Favourite BikerZ 3514 RAD air filter Ionic Air F...\"]',\n",
       "       'Disney Printed Baby Boy\\'s Hooded Grey T-Shirt\"]',\n",
       "       'Little Stars Girl\\'s A-line Multicolor Dress\"]',\n",
       "       'Wearable Smart Devices',\n",
       "       'The Crazy Me 1 Compartments Eco-Friendly leather...\"]',\n",
       "       'fourgee Slim Fit Boy\\'s Black Jeans\"]',\n",
       "       'Laser X Checkered Men\\'s Boxer (Pack of 4)\"]',\n",
       "       'INKT INKT A5 Wiro Notebook A5 Notebook Ring Boun...\"]',\n",
       "       'E\\'Hiose Girl\\'s Leggings (Pack of 6)\"]',\n",
       "       'Lucky Thailand GL/ LG30 Glass (300 ml, Clear, Pa...\"]',\n",
       "       'Ocean GP/Pyramid Glass (300 ml, Clear, Pack of 12)\"]',\n",
       "       'Wella Elements Leight Weight Renewing Conditione...\"]',\n",
       "       'Pu-Good Women Flats\"]', 'Olvin Aviator Sunglasses\"]',\n",
       "       'TSG Breeze Printed Women\\'s Round Neck Multicolor...\"]',\n",
       "       'Pout Brass Bangle\"]', 'classyworld Brass Cufflink (Silver-01)\"]',\n",
       "       'HANS Men\\'s Crew Length Socks\"]',\n",
       "       'TIMBERLAKE Slim Fit Fit Women\\'s Brown Jeans\"]',\n",
       "       'Olvin Oval Sunglasses\"]',\n",
       "       'Urban Girl Foundation Brush (Pack of 12)\"]',\n",
       "       'FEET FLOW Women Flats\"]', 'Jazz Eyewears Over-sized Sunglasses\"]',\n",
       "       'Miss Wow Slim Fit Women\\'s Blue Jeans\"]',\n",
       "       'Dilan Jewels Alloy Zircon 18K Yellow Gold Bangle...\"]',\n",
       "       'SMART TRADERS Women Wedges\"]',\n",
       "       'Clovia Women\\'s Full Coverage Bra\"]',\n",
       "       'Olvin Wayfarer Sunglasses\"]',\n",
       "       'PrivateLifes MasterPiece Women\\'s Push-up Bra\"]',\n",
       "       'COIRFIT Single Coir Mattress\"]', 'Clovia Women\\'s T-Shirt Bra\"]',\n",
       "       'Spa Culture Fit Fit Women\\'s Black Jeans\"]',\n",
       "       'run of luck Solid Women\\'s Round Neck Dark Blue T...\"]',\n",
       "       'SAY UV Sterilizer Solid Filter Cartridge (0, Pac...\"]',\n",
       "       'Urban Girl Foundation Brush (Pack of 7)\"]',\n",
       "       'Legmark Slim Fit Women\\'s Light Blue Jeans\"]',\n",
       "       'Siyas Collection Lac Cubic Zirconia Bangle Set (...\"]',\n",
       "       'Dassler Slim Fit Women\\'s Multicolor Jeans\"]',\n",
       "       'piftif Women\\'s Sports Bra\"]', 'REMSON INDIA Women Flats\"]',\n",
       "       'killys Men\\'s Solid No Show Socks\"]', 'INDILEGO Women Flats\"]',\n",
       "       'Firangi Cotton, Polyester Free Floor Mat Firangi...\"]',\n",
       "       'TIMBERLAKE Slim Fit Fit Women\\'s Red Jeans\"]',\n",
       "       'Starsy Solid Women\\'s Round Neck Green T-Shirt\"]',\n",
       "       'Oly Two Fit Fit Women\\'s Black Jeans\"]',\n",
       "       'Olvin Rectangular Sunglasses\"]',\n",
       "       'soie Fashion Women\\'s Sports Bra\"]',\n",
       "       'Auraa Men\\'s, Women\\'s Solid No Show Socks\"]',\n",
       "       'e-Fresh Boy\\'s Brief (Pack of 5)\"]',\n",
       "       'TIMBERLAKE Slim Fit Fit Women\\'s Blue Jeans\"]',\n",
       "       'NEWGEN TECH EO-HS3303 179 Wired Headset (White)\"]',\n",
       "       'Attitude Printed Women\\'s Round Neck Black T-Shirt\"]',\n",
       "       'Kalpaveda Copper Bowl (Gold, Pack of 1)\"]', 'Walkline Slippers\"]',\n",
       "       'D&D Women Flats\"]', 'e-Fresh Baby Boy\\'s Brief (Pack of 10)\"]',\n",
       "       'NEWGEN TECH EO-HS3303 58 Wired Headset (White)\"]',\n",
       "       'Ajaero Slim Fit Women\\'s Dark Blue Jeans\"]',\n",
       "       'Ruhi\\'s Creations Cotton Floral King sized Double...\"]',\n",
       "       'SAY Thread Wounded Candle 10\\\\\" Set of 4 pcs Solid...\"]',\n",
       "       'The Cotton Company Solid Women\\'s Polo Neck Pink ...\"]',\n",
       "       'Samprada Modern art Tapestry (Black, Pink)\"]',\n",
       "       'Naaz Dart game Board Game\"]',\n",
       "       'Oly Two Fit Fit Women\\'s Dark Blue Jeans\"]',\n",
       "       'Camey Men\\'s Quarter Length Socks\"]',\n",
       "       'fourgee Slim Fit Women\\'s Blue Jeans\"]',\n",
       "       'classyworld Brass Cufflink (Grey-02)\"]',\n",
       "       'Viral Girl Women\\'s Full Coverage Bra\"]',\n",
       "       'Wellon Fittings set (16 pieces) for RO Water Pur...\"]',\n",
       "       'Urban Girl Foundation Brush (Pack of 10)\"]',\n",
       "       'Amita Home Furnishing Cotton Printed Single Beds...\"]',\n",
       "       'Impala Alloy Cufflink (White)\"]',\n",
       "       'Ruhi\\'s Creations Polyester Silk Blend Cartoon Ki...\"]',\n",
       "       'Naaz 2 in 1 Paper Quilling Board Game\"]',\n",
       "       'Starsy Printed Women\\'s Round Neck Black T-Shirt\"]',\n",
       "       'Fly U Slim Fit Fit Women\\'s Brown Jeans\"]',\n",
       "       'Crafty Hands Kutchchi Mirrorwork Tapestry (Maroon)\"]',\n",
       "       'tadd Men\\'s, Women\\'s Ankle Length Socks\"]',\n",
       "       'Dolz Slim Fit Fit Women\\'s Brown Jeans\"]',\n",
       "       'Shrih Toe & Foot Protector Pain Relief Pad (Pack...\"]',\n",
       "       'LondonHouze Printed Women\\'s Round Neck Grey T-Shirt\"]',\n",
       "       'Legmark Slim Fit Women\\'s Blue Jeans\"]',\n",
       "       'Linzina Fashions LIN-HOSS-1.5 Faucet Set\"]',\n",
       "       'soie Fashion Women\\'s Full Coverage Bra\"]',\n",
       "       'Clovia Women\\'s Plunge Bra\"]', 'Foot Candy Women Flats\"]',\n",
       "       'Amita Home Furnishing Cotton Floral Single Bedsh...\"]',\n",
       "       '883 Police Full Sleeve Solid Men\\'s Jacket\"]',\n",
       "       'Style World Women Flats\"]', 'Just Wow Women Flats\"]',\n",
       "       'SMART TRADERS Women Flats\"]',\n",
       "       'Ruhi\\'s Creations Cotton Cartoon King sized Doubl...\"]',\n",
       "       'SJ Bushnell 122/1000M Binoculars (36 mm, Black)\"]',\n",
       "       'SJ Barstel 56m / 1000m Binoculars (30 mm, Black)\"]',\n",
       "       'SJ Comet Zoom DPSI Binoculars (30 mm, Black)\"]',\n",
       "       'Pia International 10X70X70 WITH ZOOM SAKURA Bino...\"]',\n",
       "       'SHOPOJ Purple Paper Sky Lantern (80 cm X 34 cm, ...\"]',\n",
       "       'Car vastra 1pcs Car Vastra Honda Beige Backrest ...\"]',\n",
       "       'SHOPOJ Yellow Paper Sky Lantern (80 cm X 34 cm, ...\"]',\n",
       "       'SHOPOJ Multicolor Paper Sky Lantern (80 cm X 34 ...\"]',\n",
       "       'Sj Bushnell 119M / 1000 Binoculars (36 mm, Black)\"]',\n",
       "       'FIFO Bottom Women\\'s  Combo\"]',\n",
       "       'Himmlisch 20503 Car Bottle Holder (Plastic)\"]',\n",
       "       'V&G Professional HD-37 Hair Dryer (Red)\"]',\n",
       "       'Anuradha Art Stylish Hair Clip (Blue)\"]',\n",
       "       'Shonaya Printed Bhagalpuri Art Silk Sari\"]',\n",
       "       'Anuradha Art Stylish Hair Clip (Black)\"]',\n",
       "       'JUSF2 Black Color Hair Band (Multicolor)\"]',\n",
       "       'Sonaxo Men Running Shoes\"]',\n",
       "       'Koie  Battery - For Samsung 7562 Premium Quality...\"]',\n",
       "       'OEM 170774 Bike Side Stand\"]', 'Kittens Boys Flats\"]',\n",
       "       'AutoKraftZ Optimum Locking Device For Bajaj Puls...\"]',\n",
       "       'GALLOWAY skinny Fit Women\\'s Jeans\"]',\n",
       "       'Dremel 2615.023.132 Plastic Friction Work Bench ...\"]', 'Eyewear',\n",
       "       'ABEEZ Boys, Men, Girls (Black, Pack of 1)\"]',\n",
       "       'Joyra Heart Sterling Silver Swarovski Crystal, S...\"]',\n",
       "       'BLM Casual Printed Women\\'s Kurti\"]',\n",
       "       'SMART DENIM Solid Women\\'s White Denim Shorts\"]',\n",
       "       'ATV Pouch for Acer Liquid Z330 (STEEL BLUE)\"]',\n",
       "       'Be 13 Printed Boy\\'s Round Neck T-Shirt (Pack of 2)\"]',\n",
       "       'Taurus Black & white Lace Up\"]',\n",
       "       'Abhinl Fashion Cotton Printed Semi-stitched Salw...\"]',\n",
       "       'UFO Self Design Round Neck Casual Girl\\'s Sweater\"]',\n",
       "       'LGRL Women\\'s Leggings\"]', 'Breakbounce Men\\'s Vest\"]',\n",
       "       'UFO Full Sleeve Solid Girl\\'s Jacket\"]',\n",
       "       'BALAJI EXPORTS Bottled Wine Cooler (9 Bottles)\"]',\n",
       "       'Siemens 5SL Betagard 5SL MCB (1)\"]',\n",
       "       'Remax Rm-10000 Remax Vanguard 10000mah 10000 mAh...\"]',\n",
       "       'Boreal Roller Brush\"]',\n",
       "       'Srajanaa sr114 Travel Shaving Kit (Black)\"]',\n",
       "       'Selfcare Women\\'s Thong Panty (Pack of 3)\"]',\n",
       "       'Sugandh Vatika 24 Natural Masala, Sandal Incense...\"]',\n",
       "       'Arial Morris Women Flats\"]', 'eBooks',\n",
       "       'Zikrak Exim Women Wedges\"]', 'Zixtro Bug (Black, Backpack)\"]',\n",
       "       'New Darling Women\\'s Printed Top & Pyjama Set\"]',\n",
       "       'RajeshFashion Women\\'s Leggings\"]',\n",
       "       'United Colors of Benetton Girl\\'s Trousers\"]',\n",
       "       'SRPC BAOER STARWALKER EXECUTIVE ROLLERBALL Pen G...\"]',\n",
       "       'Kraft Seeds Rosemary Herb (Pack Of 5) Seed (75 p...\"]',\n",
       "       'Autoplus M AP15 Arm Sleeve (Black)\"]',\n",
       "       'Autoplus M AP18 Arm Sleeve (Black)\"]',\n",
       "       'Kraft Seeds Thyme Herbs Seed (200 per packet)\"]',\n",
       "       'Kraft Seeds Dill Herb Seed (50 per packet)\"]',\n",
       "       'Leading lady Women\\'s Camisole\"]', 'Yo Baby Girl\\'s Trousers\"]',\n",
       "       'THERISE MD0005 Wired Headset (Pink)\"]',\n",
       "       'Nut Khut Embroidered Kurta & Churidar\"]',\n",
       "       'Vinenzia Printed Winter Men\\'s Gloves\"]',\n",
       "       'Planet Waves Woodstock Strap (Multicolor)\"]',\n",
       "       'Speedwav 216456 Manual Rear View Mirror (Right, ...\"]',\n",
       "       'Speedwav 216510 Manual Rear View Mirror (Right, ...\"]',\n",
       "       'Speedwav 216552 Manual Rear View Mirror (Right, ...\"]',\n",
       "       'Speedwav 186136 Manual Rear View Mirror (Right, ...\"]',\n",
       "       'Small Toes Bellies\"]',\n",
       "       'EASIES Solid Single Breasted Casual Men\\'s Blazer\"]',\n",
       "       'Clovia Lingerie Set\"]',\n",
       "       'Speedwav 186926 Royal Enfield 350 Twin Spark LED...\"]',\n",
       "       'Speedwav 186879 Bajaj Pulsar 200 NS DTS-i LED In...\"]',\n",
       "       'Household Supplies', 'Pazel Slim Fit Men\\'s Jeans\"]',\n",
       "       'SMART TRADERS Girls Bellies\"]',\n",
       "       'Corcepts Universal Tablet HD Ultra Clear Transpa...\"]',\n",
       "       'Areon Luxurious Fragrance Long Lasting Car,Home,...\"]'],\n",
       "      dtype=object)"
      ]
     },
     "execution_count": 19,
     "metadata": {},
     "output_type": "execute_result"
    }
   ],
   "source": [
    "#Printing out all the unique categories\n",
    "df['product_category_tree'].unique()"
   ]
  },
  {
   "cell_type": "markdown",
   "id": "alpine-trick",
   "metadata": {},
   "source": [
    "As we can notice there are many examples where the product doesn't have a definite category.<br>\n",
    "For example instead of categorising the product under clothing, it's rather filled the product detail as the category.<br>\n",
    "See the code cell below."
   ]
  },
  {
   "cell_type": "code",
   "execution_count": 20,
   "id": "other-animal",
   "metadata": {
    "scrolled": true
   },
   "outputs": [
    {
     "name": "stdout",
     "output_type": "stream",
     "text": [
      "Vishudh Printed Women's Straight Kurta\"]\n"
     ]
    }
   ],
   "source": [
    "print(df['product_category_tree'][50])"
   ]
  },
  {
   "cell_type": "markdown",
   "id": "everyday-arena",
   "metadata": {},
   "source": [
    "In order to prevent such instances where the product category is not definite we will chose only those categories which have a definite property such as clothing, footwear, camera and acessories etc"
   ]
  },
  {
   "cell_type": "code",
   "execution_count": 21,
   "id": "uniform-philadelphia",
   "metadata": {
    "scrolled": true
   },
   "outputs": [],
   "source": [
    "# Taking only top categories\n",
    "top_cat = list(df.groupby('product_category_tree').count().sort_values(by='uniq_id',ascending=False).head(28).index)"
   ]
  },
  {
   "cell_type": "code",
   "execution_count": 22,
   "id": "knowing-paragraph",
   "metadata": {
    "scrolled": true
   },
   "outputs": [
    {
     "name": "stdout",
     "output_type": "stream",
     "text": [
      "['Clothing', 'Jewellery', 'Footwear', 'Mobiles & Accessories', 'Automotive', 'Home Decor & Festive Needs', 'Beauty and Personal Care', 'Home Furnishing', 'Kitchen & Dining', 'Computers', 'Watches', 'Baby Care', 'Tools & Hardware', 'Toys & School Supplies', 'Pens & Stationery', 'Bags, Wallets & Belts', 'Furniture', 'Sports & Fitness', 'Cameras & Accessories', 'Home Improvement', 'Health & Personal Care Appliances', 'Sunglasses', 'Gaming', 'Pet Supplies', 'Home & Kitchen', 'Home Entertainment', 'eBooks', 'Eyewear']\n"
     ]
    }
   ],
   "source": [
    "print(top_cat)"
   ]
  },
  {
   "cell_type": "code",
   "execution_count": 23,
   "id": "enhanced-market",
   "metadata": {
    "scrolled": true
   },
   "outputs": [],
   "source": [
    "# Selecting only relevant columns\n",
    "processed_df = df[df['product_category_tree'].isin(top_cat)][['product_category_tree','description']]"
   ]
  },
  {
   "cell_type": "code",
   "execution_count": 24,
   "id": "photographic-yukon",
   "metadata": {
    "scrolled": true
   },
   "outputs": [
    {
     "data": {
      "text/html": [
       "<div>\n",
       "<style scoped>\n",
       "    .dataframe tbody tr th:only-of-type {\n",
       "        vertical-align: middle;\n",
       "    }\n",
       "\n",
       "    .dataframe tbody tr th {\n",
       "        vertical-align: top;\n",
       "    }\n",
       "\n",
       "    .dataframe thead th {\n",
       "        text-align: right;\n",
       "    }\n",
       "</style>\n",
       "<table border=\"1\" class=\"dataframe\">\n",
       "  <thead>\n",
       "    <tr style=\"text-align: right;\">\n",
       "      <th></th>\n",
       "      <th>product_category_tree</th>\n",
       "      <th>description</th>\n",
       "    </tr>\n",
       "  </thead>\n",
       "  <tbody>\n",
       "    <tr>\n",
       "      <th>0</th>\n",
       "      <td>Clothing</td>\n",
       "      <td>Key Features of Alisha Solid Women's Cycling S...</td>\n",
       "    </tr>\n",
       "    <tr>\n",
       "      <th>1</th>\n",
       "      <td>Furniture</td>\n",
       "      <td>FabHomeDecor Fabric Double Sofa Bed (Finish Co...</td>\n",
       "    </tr>\n",
       "    <tr>\n",
       "      <th>2</th>\n",
       "      <td>Footwear</td>\n",
       "      <td>Key Features of AW Bellies Sandals Wedges Heel...</td>\n",
       "    </tr>\n",
       "    <tr>\n",
       "      <th>3</th>\n",
       "      <td>Clothing</td>\n",
       "      <td>Key Features of Alisha Solid Women's Cycling S...</td>\n",
       "    </tr>\n",
       "    <tr>\n",
       "      <th>4</th>\n",
       "      <td>Pet Supplies</td>\n",
       "      <td>Specifications of Sicons All Purpose Arnica Do...</td>\n",
       "    </tr>\n",
       "    <tr>\n",
       "      <th>...</th>\n",
       "      <td>...</td>\n",
       "      <td>...</td>\n",
       "    </tr>\n",
       "    <tr>\n",
       "      <th>19995</th>\n",
       "      <td>Baby Care</td>\n",
       "      <td>Buy WallDesign Small Vinyl Sticker for Rs.730 ...</td>\n",
       "    </tr>\n",
       "    <tr>\n",
       "      <th>19996</th>\n",
       "      <td>Baby Care</td>\n",
       "      <td>Buy Wallmantra Large Vinyl Stickers Sticker fo...</td>\n",
       "    </tr>\n",
       "    <tr>\n",
       "      <th>19997</th>\n",
       "      <td>Baby Care</td>\n",
       "      <td>Buy Elite Collection Medium Acrylic Sticker fo...</td>\n",
       "    </tr>\n",
       "    <tr>\n",
       "      <th>19998</th>\n",
       "      <td>Baby Care</td>\n",
       "      <td>Buy Elite Collection Medium Acrylic Sticker fo...</td>\n",
       "    </tr>\n",
       "    <tr>\n",
       "      <th>19999</th>\n",
       "      <td>Baby Care</td>\n",
       "      <td>Buy Elite Collection Medium Acrylic Sticker fo...</td>\n",
       "    </tr>\n",
       "  </tbody>\n",
       "</table>\n",
       "<p>19661 rows × 2 columns</p>\n",
       "</div>"
      ],
      "text/plain": [
       "      product_category_tree                                        description\n",
       "0                  Clothing  Key Features of Alisha Solid Women's Cycling S...\n",
       "1                 Furniture  FabHomeDecor Fabric Double Sofa Bed (Finish Co...\n",
       "2                  Footwear  Key Features of AW Bellies Sandals Wedges Heel...\n",
       "3                  Clothing  Key Features of Alisha Solid Women's Cycling S...\n",
       "4              Pet Supplies  Specifications of Sicons All Purpose Arnica Do...\n",
       "...                     ...                                                ...\n",
       "19995             Baby Care  Buy WallDesign Small Vinyl Sticker for Rs.730 ...\n",
       "19996             Baby Care  Buy Wallmantra Large Vinyl Stickers Sticker fo...\n",
       "19997             Baby Care  Buy Elite Collection Medium Acrylic Sticker fo...\n",
       "19998             Baby Care  Buy Elite Collection Medium Acrylic Sticker fo...\n",
       "19999             Baby Care  Buy Elite Collection Medium Acrylic Sticker fo...\n",
       "\n",
       "[19661 rows x 2 columns]"
      ]
     },
     "execution_count": 24,
     "metadata": {},
     "output_type": "execute_result"
    }
   ],
   "source": [
    "processed_df"
   ]
  },
  {
   "cell_type": "markdown",
   "id": "sublime-palestine",
   "metadata": {},
   "source": [
    "In the code cell below we are plotting a bar plot to show which category has maximum number of product.<br>\n",
    "We should notice that the total no. of products will not be equal to 20,000 as we have removed some rows from our original dataset as mentioned in the above cells<br>"
   ]
  },
  {
   "cell_type": "code",
   "execution_count": 25,
   "id": "independent-paintball",
   "metadata": {
    "scrolled": true
   },
   "outputs": [
    {
     "data": {
      "image/png": "[encoded data removed]",
      "text/plain": [
       "<Figure size 864x576 with 1 Axes>"
      ]
     },
     "metadata": {
      "needs_background": "light"
     },
     "output_type": "display_data"
    },
    {
     "name": "stdout",
     "output_type": "stream",
     "text": [
      "Top Main Categories by Sales.\n",
      "\n",
      "Clothing                             6197\n",
      "Jewellery                            3531\n",
      "Footwear                             1227\n",
      "Mobiles & Accessories                1099\n",
      "Automotive                           1012\n",
      "Home Decor & Festive Needs            929\n",
      "Beauty and Personal Care              710\n",
      "Home Furnishing                       699\n",
      "Kitchen & Dining                      647\n",
      "Computers                             578\n",
      "Watches                               530\n",
      "Baby Care                             483\n",
      "Tools & Hardware                      391\n",
      "Toys & School Supplies                330\n",
      "Pens & Stationery                     313\n",
      "Bags, Wallets & Belts                 265\n",
      "Furniture                             180\n",
      "Sports & Fitness                      166\n",
      "Cameras & Accessories                  82\n",
      "Home Improvement                       81\n",
      "Health & Personal Care Appliances      43\n",
      "Gaming                                 35\n",
      "Sunglasses                             35\n",
      "Pet Supplies                           30\n",
      "Home & Kitchen                         24\n",
      "Home Entertainment                     19\n",
      "eBooks                                 15\n",
      "Eyewear                                10\n",
      "Name: product_category_tree, dtype: int64\n"
     ]
    }
   ],
   "source": [
    "plt.figure(figsize=(12,8))\n",
    "df['product_category_tree'].value_counts()[:28].sort_values(ascending=True).plot(kind='bar')\n",
    "plt.title('Main Category',fontsize=20)\n",
    "plt.yticks(fontsize=12)\n",
    "plt.xticks(fontsize=12)\n",
    "plt.show()\n",
    "print('Top Main Categories by Sales.\\n')\n",
    "print(df['product_category_tree'].value_counts()[:28])"
   ]
  },
  {
   "cell_type": "code",
   "execution_count": 26,
   "id": "heard-damage",
   "metadata": {
    "scrolled": true
   },
   "outputs": [],
   "source": [
    "## Cleaning strings\n",
    "processed_df['description'] = processed_df['description'].astype('str').apply(preprocessing_string)"
   ]
  },
  {
   "cell_type": "code",
   "execution_count": 27,
   "id": "national-navigator",
   "metadata": {
    "scrolled": true
   },
   "outputs": [
    {
     "data": {
      "text/html": [
       "<div>\n",
       "<style scoped>\n",
       "    .dataframe tbody tr th:only-of-type {\n",
       "        vertical-align: middle;\n",
       "    }\n",
       "\n",
       "    .dataframe tbody tr th {\n",
       "        vertical-align: top;\n",
       "    }\n",
       "\n",
       "    .dataframe thead th {\n",
       "        text-align: right;\n",
       "    }\n",
       "</style>\n",
       "<table border=\"1\" class=\"dataframe\">\n",
       "  <thead>\n",
       "    <tr style=\"text-align: right;\">\n",
       "      <th></th>\n",
       "      <th>product_category_tree</th>\n",
       "      <th>description</th>\n",
       "    </tr>\n",
       "  </thead>\n",
       "  <tbody>\n",
       "    <tr>\n",
       "      <th>0</th>\n",
       "      <td>Clothing</td>\n",
       "      <td>key features of alisha solid women s cycling s...</td>\n",
       "    </tr>\n",
       "    <tr>\n",
       "      <th>1</th>\n",
       "      <td>Furniture</td>\n",
       "      <td>fabhomedecor fabric double sofa bed finish col...</td>\n",
       "    </tr>\n",
       "    <tr>\n",
       "      <th>2</th>\n",
       "      <td>Footwear</td>\n",
       "      <td>key features of aw bellies sandals wedges heel...</td>\n",
       "    </tr>\n",
       "    <tr>\n",
       "      <th>3</th>\n",
       "      <td>Clothing</td>\n",
       "      <td>key features of alisha solid women s cycling s...</td>\n",
       "    </tr>\n",
       "    <tr>\n",
       "      <th>4</th>\n",
       "      <td>Pet Supplies</td>\n",
       "      <td>specifications of sicons all purpose arnica do...</td>\n",
       "    </tr>\n",
       "    <tr>\n",
       "      <th>...</th>\n",
       "      <td>...</td>\n",
       "      <td>...</td>\n",
       "    </tr>\n",
       "    <tr>\n",
       "      <th>19995</th>\n",
       "      <td>Baby Care</td>\n",
       "      <td>buy walldesign small vinyl sticker for rs onli...</td>\n",
       "    </tr>\n",
       "    <tr>\n",
       "      <th>19996</th>\n",
       "      <td>Baby Care</td>\n",
       "      <td>buy wallmantra large vinyl stickers sticker fo...</td>\n",
       "    </tr>\n",
       "    <tr>\n",
       "      <th>19997</th>\n",
       "      <td>Baby Care</td>\n",
       "      <td>buy elite collection medium acrylic sticker fo...</td>\n",
       "    </tr>\n",
       "    <tr>\n",
       "      <th>19998</th>\n",
       "      <td>Baby Care</td>\n",
       "      <td>buy elite collection medium acrylic sticker fo...</td>\n",
       "    </tr>\n",
       "    <tr>\n",
       "      <th>19999</th>\n",
       "      <td>Baby Care</td>\n",
       "      <td>buy elite collection medium acrylic sticker fo...</td>\n",
       "    </tr>\n",
       "  </tbody>\n",
       "</table>\n",
       "<p>19661 rows × 2 columns</p>\n",
       "</div>"
      ],
      "text/plain": [
       "      product_category_tree                                        description\n",
       "0                  Clothing  key features of alisha solid women s cycling s...\n",
       "1                 Furniture  fabhomedecor fabric double sofa bed finish col...\n",
       "2                  Footwear  key features of aw bellies sandals wedges heel...\n",
       "3                  Clothing  key features of alisha solid women s cycling s...\n",
       "4              Pet Supplies  specifications of sicons all purpose arnica do...\n",
       "...                     ...                                                ...\n",
       "19995             Baby Care  buy walldesign small vinyl sticker for rs onli...\n",
       "19996             Baby Care  buy wallmantra large vinyl stickers sticker fo...\n",
       "19997             Baby Care  buy elite collection medium acrylic sticker fo...\n",
       "19998             Baby Care  buy elite collection medium acrylic sticker fo...\n",
       "19999             Baby Care  buy elite collection medium acrylic sticker fo...\n",
       "\n",
       "[19661 rows x 2 columns]"
      ]
     },
     "execution_count": 27,
     "metadata": {},
     "output_type": "execute_result"
    }
   ],
   "source": [
    "processed_df"
   ]
  },
  {
   "cell_type": "code",
   "execution_count": 28,
   "id": "worldwide-forest",
   "metadata": {
    "scrolled": true
   },
   "outputs": [],
   "source": [
    "# Creating a list of categories for later use\n",
    "cat_list = list(processed_df['product_category_tree'].unique())"
   ]
  },
  {
   "cell_type": "code",
   "execution_count": 29,
   "id": "dietary-beijing",
   "metadata": {
    "scrolled": true
   },
   "outputs": [
    {
     "name": "stdout",
     "output_type": "stream",
     "text": [
      "['Clothing', 'Furniture', 'Footwear', 'Pet Supplies', 'Pens & Stationery', 'Sports & Fitness', 'Beauty and Personal Care', 'Bags, Wallets & Belts', 'Home Decor & Festive Needs', 'Automotive', 'Tools & Hardware', 'Home Furnishing', 'Baby Care', 'Mobiles & Accessories', 'Watches', 'Toys & School Supplies', 'Jewellery', 'Kitchen & Dining', 'Home & Kitchen', 'Computers', 'Cameras & Accessories', 'Health & Personal Care Appliances', 'Gaming', 'Home Improvement', 'Sunglasses', 'Home Entertainment', 'Eyewear', 'eBooks']\n"
     ]
    }
   ],
   "source": [
    "# Printing the list of top categories\n",
    "print(cat_list)"
   ]
  },
  {
   "cell_type": "code",
   "execution_count": 30,
   "id": "fitting-charlotte",
   "metadata": {
    "scrolled": true
   },
   "outputs": [],
   "source": [
    "# Encoding the product category\n",
    "le = preprocessing.LabelEncoder()\n",
    "category_encoded=le.fit_transform(processed_df['product_category_tree'])\n",
    "processed_df['product_category_tree'] = category_encoded"
   ]
  },
  {
   "cell_type": "code",
   "execution_count": 31,
   "id": "olive-companion",
   "metadata": {
    "scrolled": true
   },
   "outputs": [
    {
     "name": "stdout",
     "output_type": "stream",
     "text": [
      "['0-Automotive']\n",
      "['1-Baby Care']\n",
      "['2-Bags, Wallets & Belts']\n",
      "['3-Beauty and Personal Care']\n",
      "['4-Cameras & Accessories']\n",
      "['5-Clothing']\n",
      "['6-Computers']\n",
      "['7-Eyewear']\n",
      "['8-Footwear']\n",
      "['9-Furniture']\n",
      "['10-Gaming']\n",
      "['11-Health & Personal Care Appliances']\n",
      "['12-Home & Kitchen']\n",
      "['13-Home Decor & Festive Needs']\n",
      "['14-Home Entertainment']\n",
      "['15-Home Furnishing']\n",
      "['16-Home Improvement']\n",
      "['17-Jewellery']\n",
      "['18-Kitchen & Dining']\n",
      "['19-Mobiles & Accessories']\n",
      "['20-Pens & Stationery']\n",
      "['21-Pet Supplies']\n",
      "['22-Sports & Fitness']\n",
      "['23-Sunglasses']\n",
      "['24-Tools & Hardware']\n",
      "['25-Toys & School Supplies']\n",
      "['26-Watches']\n",
      "['27-eBooks']\n"
     ]
    }
   ],
   "source": [
    "#Printing the encoded value and their corresponding values\n",
    "for i in range(28):\n",
    "    print(str(i) + \"-\" + le.inverse_transform([i]))"
   ]
  },
  {
   "cell_type": "code",
   "execution_count": 32,
   "id": "speaking-commission",
   "metadata": {
    "scrolled": true
   },
   "outputs": [
    {
     "data": {
      "text/html": [
       "<div>\n",
       "<style scoped>\n",
       "    .dataframe tbody tr th:only-of-type {\n",
       "        vertical-align: middle;\n",
       "    }\n",
       "\n",
       "    .dataframe tbody tr th {\n",
       "        vertical-align: top;\n",
       "    }\n",
       "\n",
       "    .dataframe thead th {\n",
       "        text-align: right;\n",
       "    }\n",
       "</style>\n",
       "<table border=\"1\" class=\"dataframe\">\n",
       "  <thead>\n",
       "    <tr style=\"text-align: right;\">\n",
       "      <th></th>\n",
       "      <th>product_category_tree</th>\n",
       "      <th>description</th>\n",
       "    </tr>\n",
       "  </thead>\n",
       "  <tbody>\n",
       "    <tr>\n",
       "      <th>0</th>\n",
       "      <td>5</td>\n",
       "      <td>key features of alisha solid women s cycling s...</td>\n",
       "    </tr>\n",
       "    <tr>\n",
       "      <th>1</th>\n",
       "      <td>9</td>\n",
       "      <td>fabhomedecor fabric double sofa bed finish col...</td>\n",
       "    </tr>\n",
       "    <tr>\n",
       "      <th>2</th>\n",
       "      <td>8</td>\n",
       "      <td>key features of aw bellies sandals wedges heel...</td>\n",
       "    </tr>\n",
       "    <tr>\n",
       "      <th>3</th>\n",
       "      <td>5</td>\n",
       "      <td>key features of alisha solid women s cycling s...</td>\n",
       "    </tr>\n",
       "    <tr>\n",
       "      <th>4</th>\n",
       "      <td>21</td>\n",
       "      <td>specifications of sicons all purpose arnica do...</td>\n",
       "    </tr>\n",
       "  </tbody>\n",
       "</table>\n",
       "</div>"
      ],
      "text/plain": [
       "   product_category_tree                                        description\n",
       "0                      5  key features of alisha solid women s cycling s...\n",
       "1                      9  fabhomedecor fabric double sofa bed finish col...\n",
       "2                      8  key features of aw bellies sandals wedges heel...\n",
       "3                      5  key features of alisha solid women s cycling s...\n",
       "4                     21  specifications of sicons all purpose arnica do..."
      ]
     },
     "execution_count": 32,
     "metadata": {},
     "output_type": "execute_result"
    }
   ],
   "source": [
    "processed_df.head()"
   ]
  },
  {
   "cell_type": "markdown",
   "id": "legendary-desert",
   "metadata": {},
   "source": [
    "We have taken only those products which have a definite categories.<br>\n",
    "In the code cell below we can notice the change in the shape of our dataframe."
   ]
  },
  {
   "cell_type": "code",
   "execution_count": 33,
   "id": "identical-removal",
   "metadata": {
    "scrolled": true
   },
   "outputs": [
    {
     "data": {
      "text/plain": [
       "(19661, 2)"
      ]
     },
     "execution_count": 33,
     "metadata": {},
     "output_type": "execute_result"
    }
   ],
   "source": [
    "#Shape of processed_df\n",
    "processed_df.shape"
   ]
  },
  {
   "cell_type": "code",
   "execution_count": 34,
   "id": "opening-dakota",
   "metadata": {
    "scrolled": true
   },
   "outputs": [],
   "source": [
    "'''\n",
    "This code block is for spliting train test data\n",
    "\n",
    "We are splitting our dataset as follows:\n",
    "Training Data - 80%\n",
    "Testing Data  - 20%\n",
    "\n",
    "'''\n",
    "X_train, X_test, y_train, y_test = train_test_split(processed_df['description'],processed_df['product_category_tree'],test_size=0.2)"
   ]
  },
  {
   "cell_type": "code",
   "execution_count": 35,
   "id": "fantastic-theorem",
   "metadata": {
    "scrolled": true
   },
   "outputs": [
    {
     "name": "stdout",
     "output_type": "stream",
     "text": [
      "(15728,)\n",
      "(3933,)\n",
      "(15728,)\n",
      "(3933,)\n"
     ]
    }
   ],
   "source": [
    "print(X_train.shape)\n",
    "print(X_test.shape)\n",
    "print(y_train.shape)\n",
    "print(y_test.shape)"
   ]
  },
  {
   "cell_type": "markdown",
   "id": "driving-event",
   "metadata": {},
   "source": [
    "Let's look at the our training features"
   ]
  },
  {
   "cell_type": "code",
   "execution_count": 36,
   "id": "ranking-number",
   "metadata": {
    "scrolled": true
   },
   "outputs": [
    {
     "name": "stdout",
     "output_type": "stream",
     "text": [
      "5509     fab flash fire retrardant pvc sq mm yellow m w...\n",
      "10076    clovia padded women s plunge bra buy nile blue...\n",
      "19558    miss chase women s high low dress buy navy and...\n",
      "7341     flipkart com buy dolphin gallery no no art pla...\n",
      "10145    key features of debock xiaomi mi tempered glas...\n",
      "Name: description, dtype: object\n"
     ]
    }
   ],
   "source": [
    "print(X_train.head())"
   ]
  },
  {
   "cell_type": "markdown",
   "id": "possible-rocket",
   "metadata": {},
   "source": [
    "Let's look at our training labels"
   ]
  },
  {
   "cell_type": "code",
   "execution_count": 37,
   "id": "skilled-fiction",
   "metadata": {
    "scrolled": true
   },
   "outputs": [
    {
     "name": "stdout",
     "output_type": "stream",
     "text": [
      "5509     24\n",
      "10076     5\n",
      "19558     5\n",
      "7341     20\n",
      "10145    19\n",
      "Name: product_category_tree, dtype: int32\n"
     ]
    }
   ],
   "source": [
    "print(y_train.head())"
   ]
  },
  {
   "cell_type": "markdown",
   "id": "stable-principle",
   "metadata": {},
   "source": [
    "Scikit-learn’s CountVectorizer is used to transform a corpora of text to a vector of term / token counts. It also provides the capability to preprocess your text data prior to generating the vector representation making it a highly flexible feature representation module for text.<br>\n",
    "https://scikit-learn.org/stable/modules/generated/sklearn.feature_extraction.text.CountVectorizer.html<br>\n",
    "https://developers.google.com/machine-learning/guides/text-classification/step-3#vectorization"
   ]
  },
  {
   "cell_type": "code",
   "execution_count": 38,
   "id": "acting-rough",
   "metadata": {
    "scrolled": true
   },
   "outputs": [],
   "source": [
    "'''\n",
    "This code block is for converting the training data to vectorized form\n",
    "\n",
    "'''\n",
    "# Instantiating the vectorizer and removing stop words\n",
    "vect = CountVectorizer(analyzer='word', stop_words = 'english')\n",
    "# Converting the train data\n",
    "X_train_matrix = vect.fit_transform(X_train) "
   ]
  },
  {
   "cell_type": "code",
   "execution_count": 39,
   "id": "certain-protection",
   "metadata": {
    "scrolled": true
   },
   "outputs": [
    {
     "data": {
      "text/plain": [
       "(15728, 17533)"
      ]
     },
     "execution_count": 39,
     "metadata": {},
     "output_type": "execute_result"
    }
   ],
   "source": [
    "# vect.get_feature_names()\n",
    "X_train_matrix.shape"
   ]
  },
  {
   "cell_type": "markdown",
   "id": "designing-index",
   "metadata": {},
   "source": [
    "rows x columns<br>\n",
    "document = rows<br>\n",
    "term = columns<br>"
   ]
  },
  {
   "cell_type": "code",
   "execution_count": 40,
   "id": "detected-allen",
   "metadata": {
    "scrolled": true
   },
   "outputs": [
    {
     "data": {
      "text/plain": [
       "{'fab': 5392,\n",
       " 'flash': 5797,\n",
       " 'retrardant': 12856,\n",
       " 'pvc': 12209,\n",
       " 'sq': 14610,\n",
       " 'mm': 9850,\n",
       " 'yellow': 17363,\n",
       " 'wire': 17125,\n",
       " 'price': 11938,\n",
       " 'rs': 13147,\n",
       " 'isi': 7855,\n",
       " 'marked': 9415,\n",
       " 'house': 7224,\n",
       " 'ec': 4698,\n",
       " 'grade': 6576,\n",
       " 'copper': 3341,\n",
       " 'virgin': 16682,\n",
       " 'resin': 12801,\n",
       " 'cable': 2171,\n",
       " 'comes': 3049,\n",
       " 'guage': 6690,\n",
       " 'wiring': 17131,\n",
       " 'lasts': 8657,\n",
       " 'longer': 9056,\n",
       " 'specifications': 14487,\n",
       " 'performance': 11316,\n",
       " 'features': 5579,\n",
       " 'current': 3652,\n",
       " 'carrying': 2344,\n",
       " 'capacity': 2266,\n",
       " 'overall': 10905,\n",
       " 'diameter': 4131,\n",
       " 'voltage': 16766,\n",
       " 'length': 8799,\n",
       " 'nominal': 10481,\n",
       " 'area': 806,\n",
       " 'conductor': 3191,\n",
       " 'insulation': 7721,\n",
       " 'thickness': 15598,\n",
       " 'general': 6305,\n",
       " 'brand': 1897,\n",
       " 'suitable': 15027,\n",
       " 'industrial': 7584,\n",
       " 'domestic': 4400,\n",
       " 'commercial': 3077,\n",
       " 'type': 16186,\n",
       " 'stranded': 14839,\n",
       " 'shade': 13710,\n",
       " 'model': 9881,\n",
       " 'material': 9480,\n",
       " 'electrolytic': 4810,\n",
       " 'color': 3000,\n",
       " 'box': 1849,\n",
       " 'additional': 218,\n",
       " 'certification': 2497,\n",
       " 'mark': 9414,\n",
       " 'clovia': 2886,\n",
       " 'padded': 10981,\n",
       " 'women': 17174,\n",
       " 'plunge': 11627,\n",
       " 'bra': 1872,\n",
       " 'buy': 2154,\n",
       " 'nile': 10426,\n",
       " 'blue': 1695,\n",
       " 'online': 10712,\n",
       " 'india': 7543,\n",
       " 'shop': 13870,\n",
       " 'apparels': 735,\n",
       " 'huge': 7272,\n",
       " 'collection': 2992,\n",
       " 'branded': 1899,\n",
       " 'clothes': 2880,\n",
       " 'flipkart': 5842,\n",
       " 'com': 3031,\n",
       " 'miss': 9823,\n",
       " 'chase': 2585,\n",
       " 'high': 7052,\n",
       " 'low': 9115,\n",
       " 'dress': 4490,\n",
       " 'navy': 10258,\n",
       " 'white': 17037,\n",
       " 'dolphin': 4396,\n",
       " 'gallery': 6217,\n",
       " 'art': 862,\n",
       " 'plastic': 11567,\n",
       " 'pencil': 11269,\n",
       " 'boxes': 1853,\n",
       " 'genuine': 6322,\n",
       " 'products': 12013,\n",
       " 'day': 3808,\n",
       " 'replacement': 12751,\n",
       " 'guarantee': 6692,\n",
       " 'free': 6046,\n",
       " 'shipping': 13836,\n",
       " 'cash': 2371,\n",
       " 'delivery': 3945,\n",
       " 'key': 8309,\n",
       " 'debock': 3847,\n",
       " 'xiaomi': 17304,\n",
       " 'mi': 9705,\n",
       " 'tempered': 15488,\n",
       " 'glass': 6426,\n",
       " 'anti': 680,\n",
       " 'reflection': 12601,\n",
       " 'screen': 13500,\n",
       " 'protector': 12085,\n",
       " 'specially': 14480,\n",
       " 'processed': 11996,\n",
       " 'effective': 4747,\n",
       " 'protecting': 12082,\n",
       " 'damage': 3739,\n",
       " 'good': 6525,\n",
       " 'care': 2306,\n",
       " 'designed': 4020,\n",
       " 'id': 7362,\n",
       " 'transparent': 15942,\n",
       " 'scratch': 13493,\n",
       " 'resistant': 12806,\n",
       " 'glare': 6423,\n",
       " 'sales': 13287,\n",
       " 'package': 10967,\n",
       " 'guard': 6696,\n",
       " 'radiant': 12329,\n",
       " 'bay': 1328,\n",
       " 'floral': 5863,\n",
       " 'fusion': 6178,\n",
       " 'gold': 6505,\n",
       " 'diamond': 4134,\n",
       " 'ring': 12966,\n",
       " 'officers': 10655,\n",
       " 'choice': 2693,\n",
       " 'solid': 14365,\n",
       " 'men': 9619,\n",
       " 'round': 13112,\n",
       " 'neck': 10293,\n",
       " 'shirt': 13838,\n",
       " 'pure': 12179,\n",
       " 'combed': 3036,\n",
       " 'cotton': 3399,\n",
       " 'half': 6766,\n",
       " 'sleeve': 14159,\n",
       " 'mhk': 9702,\n",
       " 'pouch': 11807,\n",
       " 'apple': 747,\n",
       " 'ipad': 7823,\n",
       " 'air': 396,\n",
       " 'th': 15555,\n",
       " 'generation': 6306,\n",
       " 'brown': 2014,\n",
       " 'protect': 12079,\n",
       " 'device': 4076,\n",
       " 'dings': 4212,\n",
       " 'scratches': 13495,\n",
       " 'unique': 16302,\n",
       " 'custom': 3670,\n",
       " 'case': 2366,\n",
       " 'express': 5338,\n",
       " 'individuality': 7569,\n",
       " 'stylish': 14963,\n",
       " 'designs': 4027,\n",
       " 'lightweight': 8893,\n",
       " 'durable': 4598,\n",
       " 'easy': 4684,\n",
       " 'grip': 6653,\n",
       " 'provides': 12101,\n",
       " 'superior': 15093,\n",
       " 'hand': 6782,\n",
       " 'comfort': 3057,\n",
       " 'precise': 11864,\n",
       " 'cut': 3684,\n",
       " 'holes': 7145,\n",
       " 'access': 120,\n",
       " 'buttons': 2151,\n",
       " 'speaker': 14467,\n",
       " 'headset': 6932,\n",
       " 'jack': 7908,\n",
       " 'mic': 9709,\n",
       " 'camera': 2221,\n",
       " 'lens': 8804,\n",
       " 'slim': 14184,\n",
       " 'fit': 5757,\n",
       " 'light': 8878,\n",
       " 'weight': 16972,\n",
       " 'quality': 12250,\n",
       " 'protective': 12084,\n",
       " 'cell': 2459,\n",
       " 'phone': 11401,\n",
       " 'safe': 13250,\n",
       " 'protected': 12081,\n",
       " 'style': 14947,\n",
       " 'slip': 14191,\n",
       " 'add': 210,\n",
       " 'splash': 14553,\n",
       " 'deliver': 3941,\n",
       " 'instant': 7704,\n",
       " 'protection': 12083,\n",
       " 'cases': 2369,\n",
       " 'artificial': 879,\n",
       " 'leather': 8737,\n",
       " 'approved': 770,\n",
       " 'peta': 11366,\n",
       " 'allure': 490,\n",
       " 'auto': 1049,\n",
       " 'cm': 2904,\n",
       " 'car': 2285,\n",
       " 'mat': 9474,\n",
       " 'honda': 7171,\n",
       " 'brio': 1973,\n",
       " 'best': 1486,\n",
       " 'prices': 11941,\n",
       " 'vr': 16781,\n",
       " 'designers': 4022,\n",
       " 'necklace': 10297,\n",
       " 'joyeria': 8104,\n",
       " 'milan': 9752,\n",
       " 'great': 6621,\n",
       " 'print': 11962,\n",
       " 'wool': 17194,\n",
       " 'viscose': 16694,\n",
       " 'kashmiri': 8256,\n",
       " 'cashmilon': 2373,\n",
       " 'ruffle': 13185,\n",
       " 'yarn': 17348,\n",
       " 'stole': 14801,\n",
       " 'speciality': 14475,\n",
       " 'designer': 4021,\n",
       " 'bootie': 1798,\n",
       " 'pattern': 11175,\n",
       " 'beautiful': 1377,\n",
       " 'black': 1604,\n",
       " 'rare': 12418,\n",
       " 'square': 14613,\n",
       " 'block': 1670,\n",
       " 'printed': 11963,\n",
       " 'booties': 1799,\n",
       " 'used': 16392,\n",
       " 'soft': 14326,\n",
       " 'skin': 14105,\n",
       " 'blended': 1642,\n",
       " 'silk': 14005,\n",
       " 'produce': 12004,\n",
       " 'cost': 3383,\n",
       " 'product': 12009,\n",
       " 'details': 4054,\n",
       " 'ideal': 7366,\n",
       " 'occasion': 10618,\n",
       " 'casual': 2386,\n",
       " 'scarf': 13428,\n",
       " 'number': 10552,\n",
       " 'contents': 3277,\n",
       " 'pack': 10966,\n",
       " 'fabric': 5403,\n",
       " 'inch': 7501,\n",
       " 'width': 17066,\n",
       " 'code': 2954,\n",
       " 'dli': 4362,\n",
       " 'shw': 13959,\n",
       " 'nucode': 10547,\n",
       " 'graphic': 6606,\n",
       " 'maroon': 9428,\n",
       " 'skoda': 14117,\n",
       " 'fabia': 5398,\n",
       " 'tiny': 15706,\n",
       " 'toon': 15797,\n",
       " 'boy': 1856,\n",
       " 'jeans': 7983,\n",
       " 'sportshouse': 14579,\n",
       " 'radium': 12338,\n",
       " 'lord': 9079,\n",
       " 'ganesha': 6230,\n",
       " 'showpiece': 13921,\n",
       " 'polyresin': 11712,\n",
       " 'height': 6968,\n",
       " 'multicolor': 10103,\n",
       " 'just': 8152,\n",
       " 'figure': 5678,\n",
       " 'home': 7158,\n",
       " 'office': 10654,\n",
       " 'factory': 5433,\n",
       " 'satisfactory': 13372,\n",
       " 'result': 12839,\n",
       " 'ganesh': 6229,\n",
       " 'powerful': 11823,\n",
       " 'god': 6490,\n",
       " 'gods': 6494,\n",
       " 'according': 141,\n",
       " 'hindu': 7083,\n",
       " 'vastu': 16509,\n",
       " 'work': 17201,\n",
       " 'starts': 14697,\n",
       " 'auspicious': 1031,\n",
       " 'important': 7465,\n",
       " 'piece': 11446,\n",
       " 'figurine': 5680,\n",
       " 'religious': 12688,\n",
       " 'idols': 7379,\n",
       " 'colour': 3012,\n",
       " 'send': 13612,\n",
       " 'availability': 1068,\n",
       " 'differ': 4162,\n",
       " 'image': 7417,\n",
       " 'glows': 6467,\n",
       " 'dark': 3773,\n",
       " 'glow': 6465,\n",
       " 'dimensions': 4200,\n",
       " 'depth': 3999,\n",
       " 'warranty': 16871,\n",
       " 'covered': 3438,\n",
       " 'limited': 8914,\n",
       " 'manufacturing': 9387,\n",
       " 'defects': 3898,\n",
       " 'league': 8723,\n",
       " 'girl': 6392,\n",
       " 'gathered': 6263,\n",
       " 'pink': 11478,\n",
       " 'vgreen': 16607,\n",
       " 'plant': 11555,\n",
       " 'container': 3266,\n",
       " 'set': 13679,\n",
       " 'magiq': 9250,\n",
       " 'nice': 10396,\n",
       " 'merry': 9654,\n",
       " 'push': 12203,\n",
       " 'hotpiper': 7216,\n",
       " 'golden': 6509,\n",
       " 'crystal': 3590,\n",
       " 'plated': 11571,\n",
       " 'acrylic': 176,\n",
       " 'striped': 14897,\n",
       " 'lungi': 9169,\n",
       " 'kings': 8371,\n",
       " 'tassels': 15389,\n",
       " 'deal': 3834,\n",
       " 'presents': 11903,\n",
       " 'curtains': 3656,\n",
       " 'choose': 2701,\n",
       " 'wide': 17062,\n",
       " 'range': 12404,\n",
       " 'choices': 2694,\n",
       " 'make': 9306,\n",
       " 'ur': 16370,\n",
       " 'look': 9063,\n",
       " 'breathtaking': 1939,\n",
       " 'tp': 15872,\n",
       " 'link': 8937,\n",
       " 'ac': 105,\n",
       " 'wi': 17057,\n",
       " 'fi': 5653,\n",
       " 'extender': 5351,\n",
       " 'rorlig': 13088,\n",
       " 'rr': 13141,\n",
       " 'expedition': 5304,\n",
       " 'analog': 591,\n",
       " 'watch': 16887,\n",
       " 'boys': 1858,\n",
       " 'bombarded': 1765,\n",
       " 'complimenting': 3138,\n",
       " 'glances': 6421,\n",
       " 'walk': 16822,\n",
       " 'wearing': 16937,\n",
       " 'coloured': 3015,\n",
       " 'featuring': 5580,\n",
       " 'dial': 4126,\n",
       " 'attractive': 1011,\n",
       " 'strap': 14841,\n",
       " 'classy': 2801,\n",
       " 'touch': 15838,\n",
       " 'accessory': 128,\n",
       " 'fine': 5720,\n",
       " 'pick': 11433,\n",
       " 'flaunt': 5812,\n",
       " 'casuals': 2387,\n",
       " 'formals': 5985,\n",
       " 'urban': 16372,\n",
       " 'diseno': 4262,\n",
       " 'suspenders': 15156,\n",
       " 'elastic': 4789,\n",
       " 'suspender': 15155,\n",
       " 'oxyglow': 10955,\n",
       " 'fruit': 6111,\n",
       " 'massage': 9461,\n",
       " 'cream': 3503,\n",
       " 'vitamin': 16719,\n",
       " 'facial': 5423,\n",
       " 'kit': 8386,\n",
       " 'ajile': 417,\n",
       " 'pantaloons': 11069,\n",
       " 'coral': 3347,\n",
       " 'design': 4018,\n",
       " 'marble': 9398,\n",
       " 'chopra': 2706,\n",
       " 'harp': 6863,\n",
       " 'metal': 9670,\n",
       " 'roadster': 13018,\n",
       " 'sweater': 15197,\n",
       " 'long': 9052,\n",
       " 'sleeves': 14162,\n",
       " 'zip': 17479,\n",
       " 'pocket': 11646,\n",
       " 'ribbed': 12930,\n",
       " 'hemlinea': 6996,\n",
       " 'perfect': 11306,\n",
       " 'blend': 1641,\n",
       " 'wardrobe': 16856,\n",
       " 'team': 15428,\n",
       " 'pair': 11004,\n",
       " 'boots': 1800,\n",
       " 'smart': 14222,\n",
       " 'oviyon': 10929,\n",
       " 'green': 6625,\n",
       " 'gives': 6401,\n",
       " 'lasting': 8656,\n",
       " 'durability': 4596,\n",
       " 'occasions': 10621,\n",
       " 'regular': 12633,\n",
       " 'makes': 9312,\n",
       " 'comfortable': 3059,\n",
       " 'power': 11818,\n",
       " 'butyl': 2152,\n",
       " 'tube': 16091,\n",
       " 'wheeler': 17012,\n",
       " 'indica': 7551,\n",
       " 'qualis': 12248,\n",
       " 'rubber': 13165,\n",
       " 'size': 14076,\n",
       " 'tyre': 16195,\n",
       " 'compatibility': 3112,\n",
       " 'sparx': 14461,\n",
       " 'red': 12554,\n",
       " 'shoes': 13860,\n",
       " 'encapsulate': 4944,\n",
       " 'ultimate': 16226,\n",
       " 'sneakers': 14280,\n",
       " 'ensure': 5025,\n",
       " 'nerve': 10341,\n",
       " 'feet': 5597,\n",
       " 'relax': 12669,\n",
       " 'sole': 14356,\n",
       " 'club': 2890,\n",
       " 'outfit': 10874,\n",
       " 'refined': 12595,\n",
       " 'finish': 5733,\n",
       " 'shoe': 13857,\n",
       " 'tip': 15707,\n",
       " 'shape': 13741,\n",
       " 'closure': 2875,\n",
       " 'laced': 8576,\n",
       " 'eva': 5192,\n",
       " 'single': 14048,\n",
       " 'vary': 16499,\n",
       " 'depending': 3988,\n",
       " 'heel': 6964,\n",
       " 'outer': 10873,\n",
       " 'synthetic': 15271,\n",
       " 'flippd': 5843,\n",
       " 'fd': 5563,\n",
       " 'water': 16892,\n",
       " 'buckle': 2060,\n",
       " 'clasp': 2791,\n",
       " 'discounts': 4254,\n",
       " 'lotus': 9094,\n",
       " 'sun': 15051,\n",
       " 'uv': 16425,\n",
       " 'mattegel': 9495,\n",
       " 'spf': 14512,\n",
       " 'pa': 10961,\n",
       " 'lowest': 9120,\n",
       " 'rock': 13036,\n",
       " 'flip': 5841,\n",
       " 'cover': 3435,\n",
       " 'blackberrys': 1608,\n",
       " 'breasted': 1927,\n",
       " 'blazer': 1630,\n",
       " 'semi': 13605,\n",
       " 'summers': 15046,\n",
       " 'uj': 16222,\n",
       " 'slater': 14142,\n",
       " 'uc': 16205,\n",
       " 'nyaq': 10586,\n",
       " 'dry': 4534,\n",
       " 'clean': 2807,\n",
       " 'medex': 9559,\n",
       " 'powder': 11816,\n",
       " 'pcs': 11213,\n",
       " 'latex': 8662,\n",
       " 'examination': 5238,\n",
       " 'gloves': 6463,\n",
       " 'non': 10482,\n",
       " 'sterile': 14750,\n",
       " 'fitting': 5763,\n",
       " 'strength': 14865,\n",
       " 'medical': 9565,\n",
       " 'hospitals': 7208,\n",
       " 'laboratories': 8569,\n",
       " 'food': 5947,\n",
       " 'industry': 7587,\n",
       " 'automotive': 1059,\n",
       " 'saloons': 13297,\n",
       " 'spas': 14462,\n",
       " 'salient': 13288,\n",
       " 'ambidextrous': 545,\n",
       " 'finger': 5725,\n",
       " 'textured': 15545,\n",
       " 'beaded': 1351,\n",
       " 'cuff': 3611,\n",
       " 'application': 753,\n",
       " 'electronics': 4814,\n",
       " 'solvents': 14378,\n",
       " 'chemicals': 2617,\n",
       " 'hydro': 7327,\n",
       " 'carbons': 2297,\n",
       " 'oil': 10670,\n",
       " 'grease': 6620,\n",
       " 'exam': 5237,\n",
       " 'dailyobjects': 3730,\n",
       " 'mini': 9784,\n",
       " 'retina': 12854,\n",
       " 'display': 4280,\n",
       " 'largest': 8651,\n",
       " 'seller': 13600,\n",
       " 'customisable': 3674,\n",
       " 'smartphone': 14228,\n",
       " 'curated': 3637,\n",
       " 'exclusive': 5265,\n",
       " 'licensed': 8862,\n",
       " 'painstakingly': 10996,\n",
       " 'sourced': 14425,\n",
       " 'artists': 888,\n",
       " 'love': 9102,\n",
       " 'world': 17216,\n",
       " 'currently': 3653,\n",
       " 'amazing': 538,\n",
       " 'countries': 3417,\n",
       " 'available': 1070,\n",
       " 'different': 4165,\n",
       " 'models': 9884,\n",
       " 'smartphones': 14229,\n",
       " 'bluestone': 1701,\n",
       " 'tripartite': 16035,\n",
       " 'axis': 1129,\n",
       " 'stones': 14807,\n",
       " 'including': 7509,\n",
       " 'diamonds': 4136,\n",
       " 'verified': 16569,\n",
       " 'international': 7767,\n",
       " 'gem': 6291,\n",
       " 'testing': 15529,\n",
       " 'sgl': 13706,\n",
       " 'hkd': 7111,\n",
       " 'eyed': 5380,\n",
       " 'peas': 11241,\n",
       " 'culinary': 3617,\n",
       " 'vegetable': 16531,\n",
       " 'seed': 13572,\n",
       " 'mahindra': 9281,\n",
       " 'quanto': 12256,\n",
       " 'autocare': 1050,\n",
       " 'scorpio': 13479,\n",
       " 'florentyne': 5869,\n",
       " 'beige': 1415,\n",
       " 'tetalee': 15531,\n",
       " 'kurti': 8540,\n",
       " 'junk': 8147,\n",
       " 'brass': 1910,\n",
       " 'dori': 4428,\n",
       " 'wallmantra': 16836,\n",
       " 'extra': 5363,\n",
       " 'large': 8649,\n",
       " 'vinyl': 16673,\n",
       " 'stickers': 14767,\n",
       " 'sticker': 14766,\n",
       " 'serebroarts': 13658,\n",
       " 'iron': 7837,\n",
       " 'decorative': 3869,\n",
       " 'platter': 11579,\n",
       " 'silver': 14016,\n",
       " 'ceremony': 2493,\n",
       " 'wedding': 16959,\n",
       " 'engagement': 4985,\n",
       " 'alberto': 441,\n",
       " 'torresi': 15823,\n",
       " 'loafers': 9015,\n",
       " 'destudio': 4049,\n",
       " 'small': 14219,\n",
       " 'wall': 16829,\n",
       " 'pinch': 11473,\n",
       " 'corner': 3360,\n",
       " 'multi': 10098,\n",
       " 'decal': 3851,\n",
       " 'suit': 15026,\n",
       " 'need': 10308,\n",
       " 'hurry': 7309,\n",
       " 'decals': 3852,\n",
       " 'affordable': 339,\n",
       " 'rate': 12434,\n",
       " 'ft': 6121,\n",
       " 'colors': 3009,\n",
       " 'don': 4404,\n",
       " 'wait': 16816,\n",
       " 'start': 14693,\n",
       " 'designing': 4025,\n",
       " 'walls': 16840,\n",
       " 'shopmania': 13881,\n",
       " 'music': 10145,\n",
       " 'band': 1235,\n",
       " 'notebook': 10509,\n",
       " 'spiral': 14544,\n",
       " 'bound': 1837,\n",
       " 'ruling': 13200,\n",
       " 'ruled': 13196,\n",
       " 'nb': 10270,\n",
       " 'gsm': 6687,\n",
       " 'hard': 6843,\n",
       " 'laminated': 8619,\n",
       " 'pages': 10989,\n",
       " 'binding': 1571,\n",
       " 'special': 14472,\n",
       " 'notepad': 10512,\n",
       " 'diary': 4146,\n",
       " 'writing': 17268,\n",
       " 'pad': 10980,\n",
       " 'ziveg': 17492,\n",
       " 'spring': 14595,\n",
       " 'sparkle': 14455,\n",
       " 'platinum': 11578,\n",
       " 'swarovski': 15189,\n",
       " 'sterling': 14752,\n",
       " 'hoop': 7189,\n",
       " 'earring': 4666,\n",
       " 'leatherworld': 8742,\n",
       " 'wedges': 16962,\n",
       " 'fashiondeal': 5497,\n",
       " 'embroidered': 4901,\n",
       " 'blouse': 1682,\n",
       " 'numero': 10556,\n",
       " 'uno': 16328,\n",
       " 'polo': 11687,\n",
       " 'aqua': 784,\n",
       " 'click': 2831,\n",
       " 'away': 1120,\n",
       " 'heels': 6966,\n",
       " 'homedesires': 7161,\n",
       " 'pop': 11729,\n",
       " 'bumper': 2101,\n",
       " 'isuzu': 7872,\n",
       " 'mu': 10081,\n",
       " 'guards': 6698,\n",
       " 'essential': 5141,\n",
       " 'accessories': 125,\n",
       " 'avoid': 1105,\n",
       " 'accidentally': 132,\n",
       " 'hit': 7103,\n",
       " 'object': 10595,\n",
       " 'heavy': 6959,\n",
       " 'traffic': 15903,\n",
       " 'feature': 5577,\n",
       " 'install': 7697,\n",
       " 'help': 6982,\n",
       " 'double': 4441,\n",
       " 'sided': 13974,\n",
       " 'tape': 15358,\n",
       " 'stick': 14764,\n",
       " 'protects': 12087,\n",
       " 'kind': 8364,\n",
       " 'dents': 3975,\n",
       " 'bumpers': 2102,\n",
       " 'flexible': 5831,\n",
       " 'consists': 3247,\n",
       " 'detailed': 4052,\n",
       " 'reflector': 12605,\n",
       " 'ski': 14095,\n",
       " 'fancy': 5472,\n",
       " 'school': 13449,\n",
       " 'anuradha': 704,\n",
       " 'brooch': 2002,\n",
       " 'brooches': 2003,\n",
       " 'colored': 3004,\n",
       " 'jewellery': 8015,\n",
       " 'studded': 14921,\n",
       " 'sparkling': 14457,\n",
       " 'korean': 8484,\n",
       " 'precious': 11863,\n",
       " 'fashion': 5494,\n",
       " 'girls': 6395,\n",
       " 'alloy': 488,\n",
       " 'plating': 11577,\n",
       " 'na': 10193,\n",
       " 'days': 3810,\n",
       " 'jhaler': 8035,\n",
       " 'floozy': 5859,\n",
       " 'underwired': 16277,\n",
       " 'sure': 15128,\n",
       " 'everyday': 5214,\n",
       " 'grace': 6569,\n",
       " 'crafted': 3468,\n",
       " 'rich': 12936,\n",
       " 'irritation': 7844,\n",
       " 'let': 8819,\n",
       " 'experience': 5307,\n",
       " 'ease': 4674,\n",
       " 'making': 9317,\n",
       " 'lends': 8797,\n",
       " 'softness': 14339,\n",
       " 'feel': 5589,\n",
       " 'pampered': 11038,\n",
       " 'extremely': 5371,\n",
       " 'wear': 16931,\n",
       " 'enhance': 4999,\n",
       " 'assets': 933,\n",
       " 'providing': 12102,\n",
       " 'subtle': 14999,\n",
       " 'soothing': 14400,\n",
       " 'boosting': 1793,\n",
       " 'confidence': 3197,\n",
       " 'level': 8830,\n",
       " 'hrx': 7248,\n",
       " 'sleeveless': 14161,\n",
       " 'pinnakle': 11483,\n",
       " 'dual': 4555,\n",
       " 'compartment': 3107,\n",
       " 'rings': 12968,\n",
       " 'polypropylene': 11711,\n",
       " 'getabhi': 6346,\n",
       " 'tie': 15657,\n",
       " 'jewelizer': 8010,\n",
       " 'snuggles': 14295,\n",
       " 'baby': 1153,\n",
       " 'line': 8920,\n",
       " 'global': 6446,\n",
       " 'nike': 10419,\n",
       " 'musk': 10152,\n",
       " 'deo': 3977,\n",
       " 'gift': 6374,\n",
       " 'combo': 3045,\n",
       " 'zephyrr': 17453,\n",
       " 'stunning': 14941,\n",
       " 'tibetan': 15648,\n",
       " 'pendant': 11271,\n",
       " 'metallic': 9672,\n",
       " 'inlay': 7645,\n",
       " 'beautifully': 1379,\n",
       " 'handcrafted': 6787,\n",
       " 'beads': 1354,\n",
       " 'matching': 9478,\n",
       " 'dresses': 4494,\n",
       " 'sophisticated': 14403,\n",
       " 'aaina': 12,\n",
       " 'decor': 3862,\n",
       " 'traditional': 15899,\n",
       " 'series': 13661,\n",
       " 'wb': 16916,\n",
       " 'storage': 14816,\n",
       " 'vanity': 16472,\n",
       " 'basket': 1298,\n",
       " 'platignum': 11575,\n",
       " 'studio': 14926,\n",
       " 'fountain': 6006,\n",
       " 'pen': 11267,\n",
       " 'aluminium': 523,\n",
       " 'barrel': 1277,\n",
       " 'gripping': 6656,\n",
       " 'cap': 2260,\n",
       " 'section': 13560,\n",
       " 'balance': 1210,\n",
       " 'cushion': 3663,\n",
       " 'reduce': 12573,\n",
       " 'stress': 14868,\n",
       " 'allows': 487,\n",
       " 'secure': 13565,\n",
       " 'nibs': 10394,\n",
       " 'points': 11660,\n",
       " 'whilst': 17020,\n",
       " 'use': 16391,\n",
       " 'stainless': 14663,\n",
       " 'steel': 14728,\n",
       " 'nib': 10393,\n",
       " 'gifting': 6377,\n",
       " 'age': 357,\n",
       " 'groups': 6676,\n",
       " 'pens': 11282,\n",
       " 'want': 16849,\n",
       " 'bold': 1754,\n",
       " 'statement': 14701,\n",
       " 'combine': 3040,\n",
       " 'flair': 5781,\n",
       " 'encourages': 4959,\n",
       " 'expression': 5340,\n",
       " 'balanced': 1211,\n",
       " 'body': 1741,\n",
       " 'medium': 9574,\n",
       " 'mechanism': 9556,\n",
       " 'twist': 16172,\n",
       " 'turquoise': 16139,\n",
       " 'saviour': 13398,\n",
       " 'hpsavthrw': 7239,\n",
       " 'tough': 15844,\n",
       " 'hat': 6884,\n",
       " 'ratchet': 12432,\n",
       " 'fighting': 5674,\n",
       " 'helmet': 6980,\n",
       " 'impact': 7452,\n",
       " 'heat': 6947,\n",
       " 'chemical': 2616,\n",
       " 'hdpe': 6915,\n",
       " 'polymer': 11706,\n",
       " 'point': 11658,\n",
       " 'adjustable': 252,\n",
       " 'head': 6920,\n",
       " 'harness': 6862,\n",
       " 'fittings': 5765,\n",
       " 'absorption': 93,\n",
       " 'washable': 16876,\n",
       " 'sweatband': 15196,\n",
       " 'tensile': 15505,\n",
       " 'nylon': 10587,\n",
       " 'chin': 2666,\n",
       " 'structure': 14911,\n",
       " 'brim': 1967,\n",
       " 'jjc': 8053,\n",
       " 'lh': 8844,\n",
       " 'da': 3718,\n",
       " 'hood': 7179,\n",
       " 'primarily': 11945,\n",
       " 'unwanted': 16345,\n",
       " 'stray': 14852,\n",
       " 'extending': 5353,\n",
       " 'shading': 13714,\n",
       " 'end': 4963,\n",
       " 'benefit': 1462,\n",
       " 'accidental': 131,\n",
       " 'dedicated': 3882,\n",
       " 'match': 9475,\n",
       " 'specific': 14484,\n",
       " 'focal': 5916,\n",
       " 'compatible': 3114,\n",
       " 'tamron': 15338,\n",
       " 'xr': 17319,\n",
       " 'di': 4121,\n",
       " 'ld': 8707,\n",
       " 'aspherical': 922,\n",
       " 'ii': 7393,\n",
       " 'rega': 12619,\n",
       " 'asus': 961,\n",
       " 'jc': 7976,\n",
       " 'rx': 13223,\n",
       " 'adapter': 204,\n",
       " 'cord': 3348,\n",
       " 'included': 7507,\n",
       " 'laptop': 8647,\n",
       " 'charger': 2567,\n",
       " 'enables': 4936,\n",
       " 'operate': 10743,\n",
       " 'charge': 2564,\n",
       " 'battery': 1322,\n",
       " 'electrical': 4806,\n",
       " 'outlets': 10882,\n",
       " 'running': 13205,\n",
       " 'computer': 3159,\n",
       " 'installed': 7699,\n",
       " 'charges': 2569,\n",
       " 'needed': 10310,\n",
       " 'maintains': 9292,\n",
       " 'maintain': 9290,\n",
       " 'highest': 7055,\n",
       " 'parts': 11123,\n",
       " 'confirms': 3206,\n",
       " 'similar': 14021,\n",
       " 'guaranteed': 6693,\n",
       " 'meet': 9584,\n",
       " 'exceed': 5244,\n",
       " 'minimum': 9791,\n",
       " 'requirements': 12780,\n",
       " 'passes': 11138,\n",
       " 'necessary': 10290,\n",
       " 'authentication': 1041,\n",
       " 'certifications': 2498,\n",
       " 'like': 8896,\n",
       " 'ce': 2441,\n",
       " 'rohs': 13051,\n",
       " 'leaving': 8745,\n",
       " 'rest': 12827,\n",
       " 'assured': 945,\n",
       " 'selecting': 13592,\n",
       " 'correct': 3369,\n",
       " 'old': 10678,\n",
       " 'specification': 14486,\n",
       " 'compare': 3102,\n",
       " 'rating': 12437,\n",
       " 'volts': 16767,\n",
       " 'amps': 584,\n",
       " 'watt': 16900,\n",
       " 'pin': 11469,\n",
       " 'connector': 3227,\n",
       " 'stylishvilla': 14966,\n",
       " 'kurta': 8537,\n",
       " 'churidar': 2730,\n",
       " 'festive': 5636,\n",
       " 'salwar': 13300,\n",
       " 'dupatta': 4585,\n",
       " 'net': 10345,\n",
       " 'arra': 847,\n",
       " 'seater': 13547,\n",
       " 'sectional': 13561,\n",
       " 'royal': 13128,\n",
       " 'offers': 10653,\n",
       " 'cooper': 3335,\n",
       " 'sofa': 14322,\n",
       " 'glaze': 6429,\n",
       " 'living': 8987,\n",
       " 'room': 13079,\n",
       " 'furniture': 6167,\n",
       " 'texture': 15544,\n",
       " 'helps': 6986,\n",
       " 'strong': 14907,\n",
       " 'polyester': 11698,\n",
       " 'velvety': 16545,\n",
       " 'pretense': 11921,\n",
       " 'extreme': 5369,\n",
       " 'luxury': 9189,\n",
       " 'assure': 944,\n",
       " 'buying': 2157,\n",
       " 'hmt': 7122,\n",
       " 'femninora': 5617,\n",
       " 'formal': 5984,\n",
       " 'caper': 2269,\n",
       " 'nivea': 10461,\n",
       " 'fresh': 6068,\n",
       " 'natural': 10242,\n",
       " 'timewel': 15695,\n",
       " 'adidas': 242,\n",
       " 'dream': 4481,\n",
       " 'wish': 17136,\n",
       " 'trio': 16032,\n",
       " 'gaura': 6270,\n",
       " 'bombay': 1766,\n",
       " 'checkered': 2600,\n",
       " 'halo': 6772,\n",
       " 'speedwav': 14502,\n",
       " 'manual': 9377,\n",
       " 'rear': 12499,\n",
       " 'view': 16641,\n",
       " 'mirror': 9815,\n",
       " 'surface': 15132,\n",
       " 'convex': 3317,\n",
       " 'cars': 2345,\n",
       " 'interior': 7758,\n",
       " 'angle': 625,\n",
       " 'roof': 13076,\n",
       " 'mounted': 10023,\n",
       " 'tension': 15506,\n",
       " 'driving': 4517,\n",
       " 'reduces': 12576,\n",
       " 'looking': 9065,\n",
       " 'mirrors': 9816,\n",
       " 'roads': 13017,\n",
       " 'distance': 4296,\n",
       " 'travelers': 15954,\n",
       " 'vehicle': 16536,\n",
       " 'clips': 2854,\n",
       " 'highway': 7066,\n",
       " 'clip': 2850,\n",
       " 'holding': 7142,\n",
       " 'operation': 10747,\n",
       " 'placement': 11534,\n",
       " 'volkswagen': 16763,\n",
       " 'year': 17358,\n",
       " 'unit': 16307,\n",
       " 'lexel': 8835,\n",
       " 'braided': 1887,\n",
       " 'fast': 5517,\n",
       " 'charging': 2570,\n",
       " 'meter': 9680,\n",
       " 'iphone': 7826,\n",
       " 'lightning': 8890,\n",
       " 'woven': 17234,\n",
       " 'data': 3793,\n",
       " 'sync': 15264,\n",
       " 'usb': 16388,\n",
       " 'accurate': 148,\n",
       " 'mold': 9921,\n",
       " 'connectors': 3228,\n",
       " 'connection': 3224,\n",
       " 'support': 15113,\n",
       " 'speed': 14497,\n",
       " 'dirty': 4236,\n",
       " 'mobile': 9860,\n",
       " 'tablet': 15285,\n",
       " 'mbps': 9528,\n",
       " 'devices': 4077,\n",
       " 'lx': 9194,\n",
       " 'lighting': 8886,\n",
       " 'summary': 15044,\n",
       " 'months': 9959,\n",
       " 'manufacture': 9382,\n",
       " 'does': 4383,\n",
       " 'external': 5361,\n",
       " 'bag': 1187,\n",
       " 'caused': 2411,\n",
       " 'improper': 7480,\n",
       " 'installation': 7698,\n",
       " ...}"
      ]
     },
     "execution_count": 40,
     "metadata": {},
     "output_type": "execute_result"
    }
   ],
   "source": [
    "vect.vocabulary_"
   ]
  },
  {
   "cell_type": "code",
   "execution_count": 41,
   "id": "interesting-texture",
   "metadata": {
    "scrolled": true
   },
   "outputs": [
    {
     "name": "stdout",
     "output_type": "stream",
     "text": [
      "Accuracy of model on training data: 0.950851983723296\n"
     ]
    }
   ],
   "source": [
    "'''\n",
    "This code block is for training vectorized data\n",
    "\n",
    "'''\n",
    "# Instantiate a Multinomial Naive Bayes model\n",
    "model=MultinomialNB()\n",
    "\n",
    "# Train the model\n",
    "model.fit(X_train_matrix, y_train)\n",
    "\n",
    "# Scoring the trained model\n",
    "print(\"Accuracy of model on training data:\" , model.score(X_train_matrix, y_train))"
   ]
  },
  {
   "cell_type": "code",
   "execution_count": 42,
   "id": "pointed-inspector",
   "metadata": {
    "scrolled": true
   },
   "outputs": [
    {
     "name": "stdout",
     "output_type": "stream",
     "text": [
      "Accuracy of model on testing data: 0.9288075260615306\n"
     ]
    }
   ],
   "source": [
    "'''\n",
    "This code block is for predicting & scoring test data\n",
    "\n",
    "'''\n",
    "\n",
    "# Converting the test data\n",
    "X_test_matrix = vect.transform(X_test) \n",
    "\n",
    "# Scoring for the test data\n",
    "print (\"Accuracy of model on testing data:\", model.score(X_test_matrix, y_test))"
   ]
  },
  {
   "cell_type": "code",
   "execution_count": 43,
   "id": "loved-establishment",
   "metadata": {
    "scrolled": true
   },
   "outputs": [
    {
     "name": "stdout",
     "output_type": "stream",
     "text": [
      "Wall time: 170 ms\n"
     ]
    },
    {
     "data": {
      "text/plain": [
       "MultinomialNB()"
      ]
     },
     "execution_count": 43,
     "metadata": {},
     "output_type": "execute_result"
    }
   ],
   "source": [
    "'''\n",
    "Time taken by our model for traing \n",
    "'''\n",
    "%time model.fit(X_train_matrix, y_train)"
   ]
  },
  {
   "cell_type": "code",
   "execution_count": 44,
   "id": "mature-sarah",
   "metadata": {
    "scrolled": true
   },
   "outputs": [
    {
     "name": "stdout",
     "output_type": "stream",
     "text": [
      "              precision    recall  f1-score   support\n",
      "\n",
      "           0       0.92      0.99      0.95       209\n",
      "           1       0.80      0.61      0.70        93\n",
      "           2       0.91      0.56      0.70        55\n",
      "           3       0.75      0.90      0.82       145\n",
      "           4       1.00      0.14      0.25        21\n",
      "           5       0.99      0.98      0.99      1224\n",
      "           6       0.81      0.76      0.78       120\n",
      "           7       1.00      1.00      1.00         2\n",
      "           8       0.96      0.97      0.97       232\n",
      "           9       0.88      1.00      0.94        36\n",
      "          10       0.86      0.55      0.67        11\n",
      "          11       1.00      0.50      0.67         8\n",
      "          12       1.00      0.50      0.67         6\n",
      "          13       0.89      0.97      0.93       196\n",
      "          14       0.00      0.00      0.00         3\n",
      "          15       0.92      0.99      0.95       134\n",
      "          16       1.00      0.35      0.52        20\n",
      "          17       0.89      1.00      0.94       702\n",
      "          18       0.98      0.92      0.95       128\n",
      "          19       0.97      0.89      0.93       245\n",
      "          20       0.92      0.63      0.75        57\n",
      "          21       1.00      0.40      0.57         5\n",
      "          22       1.00      0.45      0.62        33\n",
      "          23       1.00      1.00      1.00         7\n",
      "          24       0.93      0.97      0.95        69\n",
      "          25       0.80      0.86      0.83        59\n",
      "          26       0.96      0.98      0.97       111\n",
      "          27       0.00      0.00      0.00         2\n",
      "\n",
      "    accuracy                           0.93      3933\n",
      "   macro avg       0.86      0.71      0.75      3933\n",
      "weighted avg       0.93      0.93      0.92      3933\n",
      "\n"
     ]
    },
    {
     "name": "stderr",
     "output_type": "stream",
     "text": [
      "c:\\users\\vaishnavi jha\\appdata\\local\\programs\\python\\python38-32\\lib\\site-packages\\sklearn\\metrics\\_classification.py:1245: UndefinedMetricWarning: Precision and F-score are ill-defined and being set to 0.0 in labels with no predicted samples. Use `zero_division` parameter to control this behavior.\n",
      "  _warn_prf(average, modifier, msg_start, len(result))\n",
      "c:\\users\\vaishnavi jha\\appdata\\local\\programs\\python\\python38-32\\lib\\site-packages\\sklearn\\metrics\\_classification.py:1245: UndefinedMetricWarning: Precision and F-score are ill-defined and being set to 0.0 in labels with no predicted samples. Use `zero_division` parameter to control this behavior.\n",
      "  _warn_prf(average, modifier, msg_start, len(result))\n",
      "c:\\users\\vaishnavi jha\\appdata\\local\\programs\\python\\python38-32\\lib\\site-packages\\sklearn\\metrics\\_classification.py:1245: UndefinedMetricWarning: Precision and F-score are ill-defined and being set to 0.0 in labels with no predicted samples. Use `zero_division` parameter to control this behavior.\n",
      "  _warn_prf(average, modifier, msg_start, len(result))\n"
     ]
    }
   ],
   "source": [
    "# Printing score \n",
    "predicted_result=model.predict(X_test_matrix)\n",
    "print(classification_report(y_test,predicted_result))"
   ]
  },
  {
   "cell_type": "markdown",
   "id": "sudden-capture",
   "metadata": {},
   "source": [
    "Now we will used TfidfVectorizer  and compare the accuracy of models on the basis of method of vectorization<br>\n",
    "We can see clearly that Count Vectorizer give number of frequency with respect to index of vocabulary where as tf-idf consider overall documents of weight of words.<br>\n",
    "Medium article on TfidfVectorizer- https://medium.com/@cmukesh8688/tf-idf-vectorizer-scikit-learn-dbc0244a911a<br>\n",
    "Scikit learn documentation- https://scikit-learn.org/stable/modules/generated/sklearn.feature_extraction.text.TfidfVectorizer.html"
   ]
  },
  {
   "cell_type": "code",
   "execution_count": 45,
   "id": "graphic-riding",
   "metadata": {
    "scrolled": true
   },
   "outputs": [],
   "source": [
    "'''\n",
    "This code block is for converting the training data to Tf-Idf form\n",
    "\n",
    "'''\n",
    "# Removing stop words\n",
    "vectorizer = TfidfVectorizer(analyzer = 'word' , stop_words = 'english')\n",
    "# Converting the train data\n",
    "X_train_tfidf = vectorizer.fit_transform(X_train)"
   ]
  },
  {
   "cell_type": "code",
   "execution_count": 46,
   "id": "current-trial",
   "metadata": {
    "scrolled": true
   },
   "outputs": [
    {
     "name": "stdout",
     "output_type": "stream",
     "text": [
      "Accuracy of model on training data: 0.8824389623601221\n"
     ]
    }
   ],
   "source": [
    "'''\n",
    "This code block is for training\n",
    "\n",
    "'''\n",
    "# Instantiate a Multinomial Naive Bayes model\n",
    "model2=MultinomialNB()\n",
    "\n",
    "# Fitting to multinomial NB model\n",
    "model2.fit(X_train_tfidf, y_train)\n",
    "\n",
    "# Scoring the trained model (Expected to be above 95 percent)\n",
    "print(\"Accuracy of model on training data:\" , model2.score(X_train_tfidf, y_train))"
   ]
  },
  {
   "cell_type": "code",
   "execution_count": 47,
   "id": "floppy-stewart",
   "metadata": {
    "scrolled": true
   },
   "outputs": [
    {
     "name": "stdout",
     "output_type": "stream",
     "text": [
      "Accuracy of model on testing data: 0.8660055936943809\n"
     ]
    }
   ],
   "source": [
    "'''\n",
    "This code block is for predicting & scoring test data\n",
    "\n",
    "'''\n",
    "# Converting the test data\n",
    "X_test_tfidf = vectorizer.transform(X_test) \n",
    "\n",
    "# Printing score\n",
    "print (\"Accuracy of model on testing data:\" , model2.score(X_test_tfidf, y_test))"
   ]
  },
  {
   "cell_type": "markdown",
   "id": "comic-emperor",
   "metadata": {},
   "source": [
    "We used two vectorizer here, CountVectorizer and TfidfVectorizer, and out of these two vectorizer we can observe that the CountVectorizer performed better than TfidfVectorizer.<br>\n",
    "We will use \"model\" to predict the product category in the following clode cells"
   ]
  },
  {
   "cell_type": "code",
   "execution_count": 48,
   "id": "thick-grade",
   "metadata": {
    "scrolled": true
   },
   "outputs": [],
   "source": [
    "nr_correct = (y_test == model.predict(vect.transform(X_test))).sum()"
   ]
  },
  {
   "cell_type": "code",
   "execution_count": 49,
   "id": "received-volunteer",
   "metadata": {
    "scrolled": true
   },
   "outputs": [
    {
     "name": "stdout",
     "output_type": "stream",
     "text": [
      "Out of  (3933,) target categories, the model predicted 3653 categories correctly\n"
     ]
    }
   ],
   "source": [
    "print(\"Out of \", X_test.shape ,\"target categories, the model predicted\", nr_correct, \"categories correctly\")"
   ]
  },
  {
   "cell_type": "code",
   "execution_count": 50,
   "id": "medical-junior",
   "metadata": {
    "scrolled": true
   },
   "outputs": [
    {
     "data": {
      "text/plain": [
       "11547    xtreme mb windtone for tvs pep plus db vehicle...\n",
       "8221     easy gardening home plant container set pack o...\n",
       "9086     times times formal analog watch for women girl...\n",
       "4845     vr designers glass necklace buy vr designers g...\n",
       "11274    getabhi striped tie buy black sky blue getabhi...\n",
       "                               ...                        \n",
       "744      faballey casual short sleeve solid women s top...\n",
       "14549    ocean race graphic print men s round neck t sh...\n",
       "14139    okane printed men s round neck t shirt buy bla...\n",
       "8209     flipkart com buy brood women flats only for rs...\n",
       "4217     zakaah jewels sterling silver plated stone nec...\n",
       "Name: description, Length: 3933, dtype: object"
      ]
     },
     "execution_count": 50,
     "metadata": {},
     "output_type": "execute_result"
    }
   ],
   "source": [
    "X_test"
   ]
  },
  {
   "cell_type": "code",
   "execution_count": 51,
   "id": "nutritional-shannon",
   "metadata": {
    "scrolled": true
   },
   "outputs": [
    {
     "data": {
      "text/plain": [
       "'getabhi striped tie buy black sky blue getabhi striped tie for only rs online in india shop online for apparels huge collection of branded clothes only at flipkart com'"
      ]
     },
     "execution_count": 51,
     "metadata": {},
     "output_type": "execute_result"
    }
   ],
   "source": [
    "test_desc = X_test[11274]\n",
    "test_desc"
   ]
  },
  {
   "cell_type": "code",
   "execution_count": 52,
   "id": "sensitive-celtic",
   "metadata": {
    "scrolled": true
   },
   "outputs": [
    {
     "data": {
      "text/plain": [
       "array(['Clothing'], dtype=object)"
      ]
     },
     "execution_count": 52,
     "metadata": {},
     "output_type": "execute_result"
    }
   ],
   "source": [
    "'''\n",
    "Testing Block: Test your string\n",
    "'''\n",
    "le.inverse_transform(model.predict(vect.transform([test_desc])))"
   ]
  }
 ],
 "metadata": {
  "kernelspec": {
   "display_name": "Python 3",
   "language": "python",
   "name": "python3"
  },
  "language_info": {
   "codemirror_mode": {
    "name": "ipython",
    "version": 3
   },
   "file_extension": ".py",
   "mimetype": "text/x-python",
   "name": "python",
   "nbconvert_exporter": "python",
   "pygments_lexer": "ipython3",
   "version": "3.8.0"
  }
 },
 "nbformat": 4,
 "nbformat_minor": 5
}
