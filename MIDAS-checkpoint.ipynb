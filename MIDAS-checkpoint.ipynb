{
 "cells": [
  {
   "cell_type": "code",
   "execution_count": 1,
   "id": "original-dream",
   "metadata": {
    "scrolled": true
   },
   "outputs": [],
   "source": [
    "#Importing all the necessary libraries and modules \n",
    "import pandas as pd\n",
    "import re \n",
    "import nltk \n",
    "import matplotlib.pyplot as plt\n",
    "from sklearn import preprocessing\n",
    "from sklearn.model_selection import train_test_split\n",
    "\n",
    "from sklearn.feature_extraction.text import CountVectorizer\n",
    "from sklearn.feature_extraction.text import TfidfVectorizer\n",
    "from sklearn.feature_extraction.text import TfidfTransformer\n",
    "\n",
    "from sklearn.naive_bayes import MultinomialNB\n",
    "from sklearn.linear_model import LogisticRegression\n",
    "from sklearn.linear_model import SGDClassifier\n",
    "from sklearn import model_selection, naive_bayes, svm\n",
    "\n",
    "from sklearn.metrics import classification_report\n",
    "from sklearn.metrics import recall_score, precision_score, f1_score\n",
    "from sklearn.metrics import accuracy_score, confusion_matrix\n",
    "\n",
    "from sklearn.pipeline import Pipeline"
   ]
  },
  {
   "cell_type": "code",
   "execution_count": 2,
   "id": "entire-exclusive",
   "metadata": {
    "scrolled": true
   },
   "outputs": [],
   "source": [
    "#Reading the csv file using pandas read_csv\n",
    "df = pd.read_csv(\"flipkart.csv\")"
   ]
  },
  {
   "cell_type": "code",
   "execution_count": 3,
   "id": "assisted-billion",
   "metadata": {
    "scrolled": false
   },
   "outputs": [
    {
     "data": {
      "text/html": [
       "<div>\n",
       "<style scoped>\n",
       "    .dataframe tbody tr th:only-of-type {\n",
       "        vertical-align: middle;\n",
       "    }\n",
       "\n",
       "    .dataframe tbody tr th {\n",
       "        vertical-align: top;\n",
       "    }\n",
       "\n",
       "    .dataframe thead th {\n",
       "        text-align: right;\n",
       "    }\n",
       "</style>\n",
       "<table border=\"1\" class=\"dataframe\">\n",
       "  <thead>\n",
       "    <tr style=\"text-align: right;\">\n",
       "      <th></th>\n",
       "      <th>uniq_id</th>\n",
       "      <th>crawl_timestamp</th>\n",
       "      <th>product_url</th>\n",
       "      <th>product_name</th>\n",
       "      <th>product_category_tree</th>\n",
       "      <th>pid</th>\n",
       "      <th>retail_price</th>\n",
       "      <th>discounted_price</th>\n",
       "      <th>image</th>\n",
       "      <th>is_FK_Advantage_product</th>\n",
       "      <th>description</th>\n",
       "      <th>product_rating</th>\n",
       "      <th>overall_rating</th>\n",
       "      <th>brand</th>\n",
       "      <th>product_specifications</th>\n",
       "    </tr>\n",
       "  </thead>\n",
       "  <tbody>\n",
       "    <tr>\n",
       "      <th>0</th>\n",
       "      <td>c2d766ca982eca8304150849735ffef9</td>\n",
       "      <td>2016-03-25 22:59:23 +0000</td>\n",
       "      <td>http://www.flipkart.com/alisha-solid-women-s-c...</td>\n",
       "      <td>Alisha Solid Women's Cycling Shorts</td>\n",
       "      <td>[\"Clothing &gt;&gt; Women's Clothing &gt;&gt; Lingerie, Sl...</td>\n",
       "      <td>SRTEH2FF9KEDEFGF</td>\n",
       "      <td>999.0</td>\n",
       "      <td>379.0</td>\n",
       "      <td>[\"http://img5a.flixcart.com/image/short/u/4/a/...</td>\n",
       "      <td>False</td>\n",
       "      <td>Key Features of Alisha Solid Women's Cycling S...</td>\n",
       "      <td>No rating available</td>\n",
       "      <td>No rating available</td>\n",
       "      <td>Alisha</td>\n",
       "      <td>{\"product_specification\"=&gt;[{\"key\"=&gt;\"Number of ...</td>\n",
       "    </tr>\n",
       "    <tr>\n",
       "      <th>1</th>\n",
       "      <td>7f7036a6d550aaa89d34c77bd39a5e48</td>\n",
       "      <td>2016-03-25 22:59:23 +0000</td>\n",
       "      <td>http://www.flipkart.com/fabhomedecor-fabric-do...</td>\n",
       "      <td>FabHomeDecor Fabric Double Sofa Bed</td>\n",
       "      <td>[\"Furniture &gt;&gt; Living Room Furniture &gt;&gt; Sofa B...</td>\n",
       "      <td>SBEEH3QGU7MFYJFY</td>\n",
       "      <td>32157.0</td>\n",
       "      <td>22646.0</td>\n",
       "      <td>[\"http://img6a.flixcart.com/image/sofa-bed/j/f...</td>\n",
       "      <td>False</td>\n",
       "      <td>FabHomeDecor Fabric Double Sofa Bed (Finish Co...</td>\n",
       "      <td>No rating available</td>\n",
       "      <td>No rating available</td>\n",
       "      <td>FabHomeDecor</td>\n",
       "      <td>{\"product_specification\"=&gt;[{\"key\"=&gt;\"Installati...</td>\n",
       "    </tr>\n",
       "    <tr>\n",
       "      <th>2</th>\n",
       "      <td>f449ec65dcbc041b6ae5e6a32717d01b</td>\n",
       "      <td>2016-03-25 22:59:23 +0000</td>\n",
       "      <td>http://www.flipkart.com/aw-bellies/p/itmeh4grg...</td>\n",
       "      <td>AW Bellies</td>\n",
       "      <td>[\"Footwear &gt;&gt; Women's Footwear &gt;&gt; Ballerinas &gt;...</td>\n",
       "      <td>SHOEH4GRSUBJGZXE</td>\n",
       "      <td>999.0</td>\n",
       "      <td>499.0</td>\n",
       "      <td>[\"http://img5a.flixcart.com/image/shoe/7/z/z/r...</td>\n",
       "      <td>False</td>\n",
       "      <td>Key Features of AW Bellies Sandals Wedges Heel...</td>\n",
       "      <td>No rating available</td>\n",
       "      <td>No rating available</td>\n",
       "      <td>AW</td>\n",
       "      <td>{\"product_specification\"=&gt;[{\"key\"=&gt;\"Ideal For\"...</td>\n",
       "    </tr>\n",
       "    <tr>\n",
       "      <th>3</th>\n",
       "      <td>0973b37acd0c664e3de26e97e5571454</td>\n",
       "      <td>2016-03-25 22:59:23 +0000</td>\n",
       "      <td>http://www.flipkart.com/alisha-solid-women-s-c...</td>\n",
       "      <td>Alisha Solid Women's Cycling Shorts</td>\n",
       "      <td>[\"Clothing &gt;&gt; Women's Clothing &gt;&gt; Lingerie, Sl...</td>\n",
       "      <td>SRTEH2F6HUZMQ6SJ</td>\n",
       "      <td>699.0</td>\n",
       "      <td>267.0</td>\n",
       "      <td>[\"http://img5a.flixcart.com/image/short/6/2/h/...</td>\n",
       "      <td>False</td>\n",
       "      <td>Key Features of Alisha Solid Women's Cycling S...</td>\n",
       "      <td>No rating available</td>\n",
       "      <td>No rating available</td>\n",
       "      <td>Alisha</td>\n",
       "      <td>{\"product_specification\"=&gt;[{\"key\"=&gt;\"Number of ...</td>\n",
       "    </tr>\n",
       "    <tr>\n",
       "      <th>4</th>\n",
       "      <td>bc940ea42ee6bef5ac7cea3fb5cfbee7</td>\n",
       "      <td>2016-03-25 22:59:23 +0000</td>\n",
       "      <td>http://www.flipkart.com/sicons-all-purpose-arn...</td>\n",
       "      <td>Sicons All Purpose Arnica Dog Shampoo</td>\n",
       "      <td>[\"Pet Supplies &gt;&gt; Grooming &gt;&gt; Skin &amp; Coat Care...</td>\n",
       "      <td>PSOEH3ZYDMSYARJ5</td>\n",
       "      <td>220.0</td>\n",
       "      <td>210.0</td>\n",
       "      <td>[\"http://img5a.flixcart.com/image/pet-shampoo/...</td>\n",
       "      <td>False</td>\n",
       "      <td>Specifications of Sicons All Purpose Arnica Do...</td>\n",
       "      <td>No rating available</td>\n",
       "      <td>No rating available</td>\n",
       "      <td>Sicons</td>\n",
       "      <td>{\"product_specification\"=&gt;[{\"key\"=&gt;\"Pet Type\",...</td>\n",
       "    </tr>\n",
       "  </tbody>\n",
       "</table>\n",
       "</div>"
      ],
      "text/plain": [
       "                            uniq_id            crawl_timestamp  \\\n",
       "0  c2d766ca982eca8304150849735ffef9  2016-03-25 22:59:23 +0000   \n",
       "1  7f7036a6d550aaa89d34c77bd39a5e48  2016-03-25 22:59:23 +0000   \n",
       "2  f449ec65dcbc041b6ae5e6a32717d01b  2016-03-25 22:59:23 +0000   \n",
       "3  0973b37acd0c664e3de26e97e5571454  2016-03-25 22:59:23 +0000   \n",
       "4  bc940ea42ee6bef5ac7cea3fb5cfbee7  2016-03-25 22:59:23 +0000   \n",
       "\n",
       "                                         product_url  \\\n",
       "0  http://www.flipkart.com/alisha-solid-women-s-c...   \n",
       "1  http://www.flipkart.com/fabhomedecor-fabric-do...   \n",
       "2  http://www.flipkart.com/aw-bellies/p/itmeh4grg...   \n",
       "3  http://www.flipkart.com/alisha-solid-women-s-c...   \n",
       "4  http://www.flipkart.com/sicons-all-purpose-arn...   \n",
       "\n",
       "                            product_name  \\\n",
       "0    Alisha Solid Women's Cycling Shorts   \n",
       "1    FabHomeDecor Fabric Double Sofa Bed   \n",
       "2                             AW Bellies   \n",
       "3    Alisha Solid Women's Cycling Shorts   \n",
       "4  Sicons All Purpose Arnica Dog Shampoo   \n",
       "\n",
       "                               product_category_tree               pid  \\\n",
       "0  [\"Clothing >> Women's Clothing >> Lingerie, Sl...  SRTEH2FF9KEDEFGF   \n",
       "1  [\"Furniture >> Living Room Furniture >> Sofa B...  SBEEH3QGU7MFYJFY   \n",
       "2  [\"Footwear >> Women's Footwear >> Ballerinas >...  SHOEH4GRSUBJGZXE   \n",
       "3  [\"Clothing >> Women's Clothing >> Lingerie, Sl...  SRTEH2F6HUZMQ6SJ   \n",
       "4  [\"Pet Supplies >> Grooming >> Skin & Coat Care...  PSOEH3ZYDMSYARJ5   \n",
       "\n",
       "   retail_price  discounted_price  \\\n",
       "0         999.0             379.0   \n",
       "1       32157.0           22646.0   \n",
       "2         999.0             499.0   \n",
       "3         699.0             267.0   \n",
       "4         220.0             210.0   \n",
       "\n",
       "                                               image  is_FK_Advantage_product  \\\n",
       "0  [\"http://img5a.flixcart.com/image/short/u/4/a/...                    False   \n",
       "1  [\"http://img6a.flixcart.com/image/sofa-bed/j/f...                    False   \n",
       "2  [\"http://img5a.flixcart.com/image/shoe/7/z/z/r...                    False   \n",
       "3  [\"http://img5a.flixcart.com/image/short/6/2/h/...                    False   \n",
       "4  [\"http://img5a.flixcart.com/image/pet-shampoo/...                    False   \n",
       "\n",
       "                                         description       product_rating  \\\n",
       "0  Key Features of Alisha Solid Women's Cycling S...  No rating available   \n",
       "1  FabHomeDecor Fabric Double Sofa Bed (Finish Co...  No rating available   \n",
       "2  Key Features of AW Bellies Sandals Wedges Heel...  No rating available   \n",
       "3  Key Features of Alisha Solid Women's Cycling S...  No rating available   \n",
       "4  Specifications of Sicons All Purpose Arnica Do...  No rating available   \n",
       "\n",
       "        overall_rating         brand  \\\n",
       "0  No rating available        Alisha   \n",
       "1  No rating available  FabHomeDecor   \n",
       "2  No rating available            AW   \n",
       "3  No rating available        Alisha   \n",
       "4  No rating available        Sicons   \n",
       "\n",
       "                              product_specifications  \n",
       "0  {\"product_specification\"=>[{\"key\"=>\"Number of ...  \n",
       "1  {\"product_specification\"=>[{\"key\"=>\"Installati...  \n",
       "2  {\"product_specification\"=>[{\"key\"=>\"Ideal For\"...  \n",
       "3  {\"product_specification\"=>[{\"key\"=>\"Number of ...  \n",
       "4  {\"product_specification\"=>[{\"key\"=>\"Pet Type\",...  "
      ]
     },
     "execution_count": 3,
     "metadata": {},
     "output_type": "execute_result"
    }
   ],
   "source": [
    "#To view the first five rows of the dataframe\n",
    "df.head()"
   ]
  },
  {
   "cell_type": "code",
   "execution_count": 4,
   "id": "falling-visibility",
   "metadata": {
    "scrolled": true
   },
   "outputs": [
    {
     "data": {
      "text/plain": [
       "(20000, 15)"
      ]
     },
     "execution_count": 4,
     "metadata": {},
     "output_type": "execute_result"
    }
   ],
   "source": [
    "#Outputs the number of rows and columns in the daqtaframe\n",
    "df.shape"
   ]
  },
  {
   "cell_type": "code",
   "execution_count": 5,
   "id": "relative-royalty",
   "metadata": {
    "scrolled": true
   },
   "outputs": [
    {
     "data": {
      "text/plain": [
       "Index(['uniq_id', 'crawl_timestamp', 'product_url', 'product_name',\n",
       "       'product_category_tree', 'pid', 'retail_price', 'discounted_price',\n",
       "       'image', 'is_FK_Advantage_product', 'description', 'product_rating',\n",
       "       'overall_rating', 'brand', 'product_specifications'],\n",
       "      dtype='object')"
      ]
     },
     "execution_count": 5,
     "metadata": {},
     "output_type": "execute_result"
    }
   ],
   "source": [
    "#Name of all the columns in our dataframe\n",
    "df.columns"
   ]
  },
  {
   "cell_type": "code",
   "execution_count": 6,
   "id": "arranged-coordinate",
   "metadata": {
    "scrolled": true
   },
   "outputs": [
    {
     "data": {
      "text/html": [
       "<div>\n",
       "<style scoped>\n",
       "    .dataframe tbody tr th:only-of-type {\n",
       "        vertical-align: middle;\n",
       "    }\n",
       "\n",
       "    .dataframe tbody tr th {\n",
       "        vertical-align: top;\n",
       "    }\n",
       "\n",
       "    .dataframe thead th {\n",
       "        text-align: right;\n",
       "    }\n",
       "</style>\n",
       "<table border=\"1\" class=\"dataframe\">\n",
       "  <thead>\n",
       "    <tr style=\"text-align: right;\">\n",
       "      <th></th>\n",
       "      <th>retail_price</th>\n",
       "      <th>discounted_price</th>\n",
       "    </tr>\n",
       "  </thead>\n",
       "  <tbody>\n",
       "    <tr>\n",
       "      <th>count</th>\n",
       "      <td>19922.000000</td>\n",
       "      <td>19922.000000</td>\n",
       "    </tr>\n",
       "    <tr>\n",
       "      <th>mean</th>\n",
       "      <td>2979.206104</td>\n",
       "      <td>1973.401767</td>\n",
       "    </tr>\n",
       "    <tr>\n",
       "      <th>std</th>\n",
       "      <td>9009.639341</td>\n",
       "      <td>7333.586040</td>\n",
       "    </tr>\n",
       "    <tr>\n",
       "      <th>min</th>\n",
       "      <td>35.000000</td>\n",
       "      <td>35.000000</td>\n",
       "    </tr>\n",
       "    <tr>\n",
       "      <th>25%</th>\n",
       "      <td>666.000000</td>\n",
       "      <td>350.000000</td>\n",
       "    </tr>\n",
       "    <tr>\n",
       "      <th>50%</th>\n",
       "      <td>1040.000000</td>\n",
       "      <td>550.000000</td>\n",
       "    </tr>\n",
       "    <tr>\n",
       "      <th>75%</th>\n",
       "      <td>1999.000000</td>\n",
       "      <td>999.000000</td>\n",
       "    </tr>\n",
       "    <tr>\n",
       "      <th>max</th>\n",
       "      <td>571230.000000</td>\n",
       "      <td>571230.000000</td>\n",
       "    </tr>\n",
       "  </tbody>\n",
       "</table>\n",
       "</div>"
      ],
      "text/plain": [
       "        retail_price  discounted_price\n",
       "count   19922.000000      19922.000000\n",
       "mean     2979.206104       1973.401767\n",
       "std      9009.639341       7333.586040\n",
       "min        35.000000         35.000000\n",
       "25%       666.000000        350.000000\n",
       "50%      1040.000000        550.000000\n",
       "75%      1999.000000        999.000000\n",
       "max    571230.000000     571230.000000"
      ]
     },
     "execution_count": 6,
     "metadata": {},
     "output_type": "execute_result"
    }
   ],
   "source": [
    "#Ouputs the statistical features of only numerical columns\n",
    "df.describe()"
   ]
  },
  {
   "cell_type": "code",
   "execution_count": 7,
   "id": "horizontal-median",
   "metadata": {
    "scrolled": false
   },
   "outputs": [
    {
     "name": "stdout",
     "output_type": "stream",
     "text": [
      "<class 'pandas.core.frame.DataFrame'>\n",
      "RangeIndex: 20000 entries, 0 to 19999\n",
      "Data columns (total 15 columns):\n",
      " #   Column                   Non-Null Count  Dtype  \n",
      "---  ------                   --------------  -----  \n",
      " 0   uniq_id                  20000 non-null  object \n",
      " 1   crawl_timestamp          20000 non-null  object \n",
      " 2   product_url              20000 non-null  object \n",
      " 3   product_name             20000 non-null  object \n",
      " 4   product_category_tree    20000 non-null  object \n",
      " 5   pid                      20000 non-null  object \n",
      " 6   retail_price             19922 non-null  float64\n",
      " 7   discounted_price         19922 non-null  float64\n",
      " 8   image                    19997 non-null  object \n",
      " 9   is_FK_Advantage_product  20000 non-null  bool   \n",
      " 10  description              19998 non-null  object \n",
      " 11  product_rating           20000 non-null  object \n",
      " 12  overall_rating           20000 non-null  object \n",
      " 13  brand                    14136 non-null  object \n",
      " 14  product_specifications   19986 non-null  object \n",
      "dtypes: bool(1), float64(2), object(12)\n",
      "memory usage: 1.2+ MB\n"
     ]
    }
   ],
   "source": [
    "#Used to ouput total number of non-null values in each row, data type of each column\n",
    "df.info()"
   ]
  },
  {
   "cell_type": "markdown",
   "id": "lyric-palestine",
   "metadata": {},
   "source": [
    ">In this task we will take the \"__description__\" column as our main feature.<br>\n",
    ">We can see that we have two null values in description column, in the code cell below we are trying to get the index of these two instances."
   ]
  },
  {
   "cell_type": "code",
   "execution_count": 8,
   "id": "contemporary-agenda",
   "metadata": {
    "scrolled": true
   },
   "outputs": [
    {
     "data": {
      "text/plain": [
       "Int64Index([553, 17299], dtype='int64')"
      ]
     },
     "execution_count": 8,
     "metadata": {},
     "output_type": "execute_result"
    }
   ],
   "source": [
    "df[df['description'].isnull()].index"
   ]
  },
  {
   "cell_type": "code",
   "execution_count": 9,
   "id": "ready-trailer",
   "metadata": {
    "scrolled": true
   },
   "outputs": [
    {
     "name": "stdout",
     "output_type": "stream",
     "text": [
      "nan\n",
      "nan\n"
     ]
    }
   ],
   "source": [
    "#Printing out the description of the index 553 and 17299\n",
    "print(df['description'][553])\n",
    "print(df['description'][17299])"
   ]
  },
  {
   "cell_type": "markdown",
   "id": "painful-necklace",
   "metadata": {},
   "source": [
    ">If we have decided to take description column as the main feature, we can drop the above two mentioned instances from our data frame as it doesn't have any description and thus it can't be used for either training or testing our model. "
   ]
  },
  {
   "cell_type": "code",
   "execution_count": 10,
   "id": "injured-spencer",
   "metadata": {
    "scrolled": true
   },
   "outputs": [],
   "source": [
    "df.drop([553, 17299] , inplace = True)"
   ]
  },
  {
   "cell_type": "code",
   "execution_count": 11,
   "id": "lucky-gibraltar",
   "metadata": {
    "scrolled": true
   },
   "outputs": [
    {
     "data": {
      "text/plain": [
       "(19998, 15)"
      ]
     },
     "execution_count": 11,
     "metadata": {},
     "output_type": "execute_result"
    }
   ],
   "source": [
    "# We have dropped two rows\n",
    "df.shape"
   ]
  },
  {
   "cell_type": "code",
   "execution_count": 12,
   "id": "based-transsexual",
   "metadata": {
    "scrolled": true
   },
   "outputs": [
    {
     "name": "stdout",
     "output_type": "stream",
     "text": [
      "Specifications of Pick Pocket Embroidered Women's Waistcoat General Details Pattern Embroidered Occasion Casual Ideal For Women's Waistcoat Details Lining Polyester Fabric Bengal Silk Additional Details Style Code TL-012 Fabric Care First Time Dry Clean\n"
     ]
    }
   ],
   "source": [
    "#Let's print out one random description to see what does our features look like \n",
    "print(df['description'][37])"
   ]
  },
  {
   "cell_type": "markdown",
   "id": "decreased-withdrawal",
   "metadata": {},
   "source": [
    ">We see that there are many characters in the description which are not useful for us. Thus the next step that we adopt is of cleaning the strings of the desription column. We can clean these strings with the help of *regex* library."
   ]
  },
  {
   "cell_type": "code",
   "execution_count": 13,
   "id": "accompanied-terrain",
   "metadata": {
    "scrolled": true
   },
   "outputs": [],
   "source": [
    "def preprocessing_string(str_arg):\n",
    "    '''\n",
    "    input: str_arg --> Takes string to clean\n",
    "    output: cleaned_str --> Gives back cleaned string\n",
    "    This fuction cleans the text in the mentioned ways as comments after the line.This has been copied from some other kernel.\n",
    "\n",
    "    '''\n",
    "    cleaned_str=re.sub('[^a-z\\s]+',' ',str_arg,flags=re.IGNORECASE) #every char except alphabets is replaced\n",
    "    cleaned_str=re.sub('(\\s+)',' ',cleaned_str) #multiple spaces are replaced by single space\n",
    "    cleaned_str=cleaned_str.lower() #converting the cleaned string to lower case\n",
    "    \n",
    "    return cleaned_str # Returning the preprocessed string in tokenized form"
   ]
  },
  {
   "cell_type": "code",
   "execution_count": 14,
   "id": "mature-cameroon",
   "metadata": {
    "scrolled": true
   },
   "outputs": [
    {
     "name": "stdout",
     "output_type": "stream",
     "text": [
      "Key Features of Alisha Solid Women's Cycling Shorts Cotton Lycra Navy, Red, Navy,Specifications of Alisha Solid Women's Cycling Shorts Shorts Details Number of Contents in Sales Package Pack of 3 Fabric Cotton Lycra Type Cycling Shorts General Details Pattern Solid Ideal For Women's Fabric Care Gentle Machine Wash in Lukewarm Water, Do Not Bleach Additional Details Style Code ALTHT_3P_21 In the Box 3 shorts\n",
      "\n",
      "\n",
      "key features of alisha solid women s cycling shorts cotton lycra navy red navy specifications of alisha solid women s cycling shorts shorts details number of contents in sales package pack of fabric cotton lycra type cycling shorts general details pattern solid ideal for women s fabric care gentle machine wash in lukewarm water do not bleach additional details style code altht p in the box shorts\n"
     ]
    }
   ],
   "source": [
    "'''\n",
    "    Lets see how our string look after we appply the \"preprocessing_string\" function on it.\n",
    "'''\n",
    "print(df[\"description\"][0])\n",
    "print('\\n')\n",
    "print(preprocessing_string(df[\"description\"][0]))"
   ]
  },
  {
   "cell_type": "markdown",
   "id": "junior-airport",
   "metadata": {},
   "source": [
    ">As mentioned in the task, the main goal is to find the category of product. The \"__product_category_tree__\" column in dataframe is our target.<br>"
   ]
  },
  {
   "cell_type": "code",
   "execution_count": 15,
   "id": "waiting-skirt",
   "metadata": {
    "scrolled": true
   },
   "outputs": [
    {
     "data": {
      "text/plain": [
       "0        [\"Clothing >> Women's Clothing >> Lingerie, Sl...\n",
       "1        [\"Furniture >> Living Room Furniture >> Sofa B...\n",
       "2        [\"Footwear >> Women's Footwear >> Ballerinas >...\n",
       "3        [\"Clothing >> Women's Clothing >> Lingerie, Sl...\n",
       "4        [\"Pet Supplies >> Grooming >> Skin & Coat Care...\n",
       "                               ...                        \n",
       "19995    [\"Baby Care >> Baby & Kids Gifts >> Stickers >...\n",
       "19996    [\"Baby Care >> Baby & Kids Gifts >> Stickers >...\n",
       "19997    [\"Baby Care >> Baby & Kids Gifts >> Stickers >...\n",
       "19998    [\"Baby Care >> Baby & Kids Gifts >> Stickers >...\n",
       "19999    [\"Baby Care >> Baby & Kids Gifts >> Stickers >...\n",
       "Name: product_category_tree, Length: 19998, dtype: object"
      ]
     },
     "execution_count": 15,
     "metadata": {},
     "output_type": "execute_result"
    }
   ],
   "source": [
    "#lets look at the product_category_tree column\n",
    "df['product_category_tree']"
   ]
  },
  {
   "cell_type": "markdown",
   "id": "touched-israeli",
   "metadata": {},
   "source": [
    ">We can see that there are numerous categories in the dataframe, also we can notice that in each category there are some sub categories, as per the task requirement we only need focus on the \"*main*\" or so called \"*parent*\" categories.<br>\n",
    "For this purpose we need to process these categories in order to extract the \"main\" category of the product."
   ]
  },
  {
   "cell_type": "code",
   "execution_count": 16,
   "id": "engaged-franklin",
   "metadata": {
    "scrolled": true
   },
   "outputs": [],
   "source": [
    "# Category processing\n",
    "df['product_category_tree'] = df['product_category_tree'].apply(lambda x : x.split('>>')[0][2:].strip())"
   ]
  },
  {
   "cell_type": "code",
   "execution_count": 17,
   "id": "toxic-broadcast",
   "metadata": {
    "scrolled": true
   },
   "outputs": [
    {
     "name": "stdout",
     "output_type": "stream",
     "text": [
      "Vishudh Printed Women's Straight Kurta\"]\n",
      "Clothing\n"
     ]
    }
   ],
   "source": [
    "#lets look at some of the main categories extracted by the help of the lambda, split and strip.\n",
    "print(df['product_category_tree'][50])\n",
    "print(df[\"product_category_tree\"][0])"
   ]
  },
  {
   "cell_type": "code",
   "execution_count": 18,
   "id": "asian-going",
   "metadata": {
    "scrolled": true
   },
   "outputs": [
    {
     "data": {
      "text/plain": [
       "266"
      ]
     },
     "execution_count": 18,
     "metadata": {},
     "output_type": "execute_result"
    }
   ],
   "source": [
    "#Total number of uniques \"parent\"\n",
    "df['product_category_tree'].nunique()"
   ]
  },
  {
   "cell_type": "code",
   "execution_count": 19,
   "id": "macro-nepal",
   "metadata": {
    "scrolled": true
   },
   "outputs": [
    {
     "data": {
      "text/plain": [
       "array(['Clothing', 'Furniture', 'Footwear', 'Pet Supplies',\n",
       "       'Eternal Gandhi Super Series Crystal Paper Weight...\"]',\n",
       "       'Pens & Stationery', 'Sports & Fitness',\n",
       "       'Beauty and Personal Care',\n",
       "       'Bengal Blooms Rose Artificial Plant  with Pot (3...\"]',\n",
       "       'Bags, Wallets & Belts', 'Home Decor & Festive Needs',\n",
       "       'Automotive', 'Tools & Hardware',\n",
       "       'Vishudh Printed Women\\'s Straight Kurta\"]',\n",
       "       'Vishudh Printed Women\\'s Anarkali Kurta\"]',\n",
       "       'BuildTrack PIR Wireless Motion Sensor - One Swit...\"]',\n",
       "       'Skayvon SUMMERSIBLE SINGLE PHASE PUMP CONTROLLER...\"]',\n",
       "       'MASARA Solid Women\\'s Straight Kurta\"]',\n",
       "       'Skayvon SUBMERSIBBLE THREE PHASE PUMP CONTROLLER...\"]',\n",
       "       'Behringer Xenyx 502 Analog Sound Mixer\"]',\n",
       "       'Noor Embroidered Women\\'s Straight Kurta\"]',\n",
       "       'Libas Printed Women\\'s A-line Kurta\"]',\n",
       "       'Libas Printed Women\\'s Anarkali Kurta\"]', 'Home Furnishing',\n",
       "       'Baby Care', 'Mobiles & Accessories', 'Food & Nutrition',\n",
       "       'Watches', 'Toys & School Supplies', 'Jewellery',\n",
       "       'Cellbazaar Blackberry 8520 WHITE LCD LCD (YIT-562)\"]',\n",
       "       'Dressberry Gold Synthetic  Clutch\"]',\n",
       "       'Mast & Harbour Black Synthetic  Clutch\"]',\n",
       "       'Sisel Printed Poly Cotton Women\\'s Stole\"]',\n",
       "       'Knight Ace Kraasa Sports Running Shoes, Cycling ...\"]',\n",
       "       'Indistar Self Design Viscose Women\\'s Stole\"]',\n",
       "       'Glacier Running Shoes\"]', 'Dressberry Black Synthetic  Clutch\"]',\n",
       "       'Asics Gel-Cumulus 17 Running Shoes\"]',\n",
       "       'Mast & Harbour Gold Synthetic  Clutch\"]',\n",
       "       'Asics Gel-Kayano 22 Running Shoes\"]',\n",
       "       'Dressberry Orange Synthetic  Clutch\"]',\n",
       "       'Dressberry Green Synthetic  Clutch\"]', 'Escan Lace Up\"]',\n",
       "       'Nine Maternity Wear Women\\'s Fit and Flare Dress\"]',\n",
       "       'Sunglasses\"]', 'Kitchen & Dining', 'Home & Kitchen', 'Computers',\n",
       "       'Cameras & Accessories', 'ANAND ARCHIES Girls Flats\"]',\n",
       "       'ANAND ARCHIES Girls Wedges\"]',\n",
       "       'Prime Printed 8 Seater Table Cover (Multicolor, ...\"]',\n",
       "       'Health & Personal Care Appliances',\n",
       "       'Speedwav 240437 Sun Shade For Hyundai i10 (Dashb...\"]',\n",
       "       'Vitamins Solid Baby Girl\\'s Basic Shorts\"]', 'Gaming',\n",
       "       'Home Improvement', 'Sumo Baby Walker (Red)\"]',\n",
       "       'Kombee Girl\\'s Printed Red, Pink Top & Capri Set\"]',\n",
       "       'NEWGEN TECH EO-HS3303 218 Wired Headset (White)\"]',\n",
       "       'Automation & Robotics',\n",
       "       'K&P Dr.Ambedkar Large 04 Showpiece  -  19 cm (Po...\"]',\n",
       "       'K&P Lord Ganesha Large 03 Showpiece  -  19 cm (P...\"]',\n",
       "       'Adidas IND PRO THI GUA Thigh Guard (White, Blue,...\"]',\n",
       "       'Bootwale Bellies\"]',\n",
       "       'clickforsign Avoid Contanimation Wash your Hands...\"]',\n",
       "       'Treppe Bellies\"]', 'Kanvas Bellies\"]',\n",
       "       'Klaur Melbourne Bellies\"]',\n",
       "       'Clickforsign Vehicles parked Illegally will be t...\"]',\n",
       "       'clickforsign Sound horn Before entering Emergenc...\"]',\n",
       "       'kem Flow Gold skinny Fit Baby Girl\\'s Blue Jeans\"]',\n",
       "       'Carbanao Chrome Grill Chevrolet Cruze Car Grill ...\"]',\n",
       "       'Oddy RS 1.5 X 2 100 Sheets Self Stick Reposition...\"]',\n",
       "       'Synergy SFJB0105 Grocery Bag (Blue)\"]',\n",
       "       'SHOPOJ White Paper Sky Lantern (80 cm X 34 cm, P...\"]',\n",
       "       'SUPERMOD Men\\'s Brief\"]', 'Sunglasses',\n",
       "       'Lilliput Top Baby Girl\\'s  Combo\"]',\n",
       "       'Frabjous German silver Rings For Women Alloy Zir...\"]',\n",
       "       'Zevrr Sterling Silver Swarovski Zirconia Platinu...\"]',\n",
       "       'Rasav Jewels Yellow Gold Diamond 18 K Ring\"]',\n",
       "       'Royal Seal Creations 40 ST COLOR Silver Zircon N...\"]',\n",
       "       'Home Entertainment',\n",
       "       'ANASAZI Casual 3/4 Sleeve Solid Women\\'s Top\"]',\n",
       "       'INVENTURE RETAIL Nail Cutter\"]',\n",
       "       'Fabpoppy Printed Women\\'s Jumpsuit\"]',\n",
       "       'Power Smart Quick Charging Pack For PAN CGR-DU-2...\"]',\n",
       "       'Gking Hand Stiched Steering Cover For Maruti Ert...\"]',\n",
       "       'GM Power mate 4 Strip Surge Protector (White)\"]',\n",
       "       'Shrih SH-0192 Wired USB Flexible Keyboard (Red)\"]',\n",
       "       'Threads & Pals Full Sleeve Printed, Solid Men\\'s ...\"]',\n",
       "       'Threads & Pals Full Sleeve Self Design Men\\'s Swe...\"]',\n",
       "       'Gking Hand Stiched Steering Cover For Renault Sc...\"]',\n",
       "       'Power Smart Quick Charging Pack For PAN CGR-D28 ...\"]',\n",
       "       'xy decor Cotton Sofa Cover (white Pack of 6)\"]',\n",
       "       'Favourite BikerZ 3514 RAD air filter Ionic Air F...\"]',\n",
       "       'Disney Printed Baby Boy\\'s Hooded Grey T-Shirt\"]',\n",
       "       'Little Stars Girl\\'s A-line Multicolor Dress\"]',\n",
       "       'Wearable Smart Devices',\n",
       "       'The Crazy Me 1 Compartments Eco-Friendly leather...\"]',\n",
       "       'fourgee Slim Fit Boy\\'s Black Jeans\"]',\n",
       "       'Laser X Checkered Men\\'s Boxer (Pack of 4)\"]',\n",
       "       'INKT INKT A5 Wiro Notebook A5 Notebook Ring Boun...\"]',\n",
       "       'E\\'Hiose Girl\\'s Leggings (Pack of 6)\"]',\n",
       "       'Lucky Thailand GL/ LG30 Glass (300 ml, Clear, Pa...\"]',\n",
       "       'Ocean GP/Pyramid Glass (300 ml, Clear, Pack of 12)\"]',\n",
       "       'Wella Elements Leight Weight Renewing Conditione...\"]',\n",
       "       'Pu-Good Women Flats\"]', 'Olvin Aviator Sunglasses\"]',\n",
       "       'TSG Breeze Printed Women\\'s Round Neck Multicolor...\"]',\n",
       "       'Pout Brass Bangle\"]', 'classyworld Brass Cufflink (Silver-01)\"]',\n",
       "       'HANS Men\\'s Crew Length Socks\"]',\n",
       "       'TIMBERLAKE Slim Fit Fit Women\\'s Brown Jeans\"]',\n",
       "       'Olvin Oval Sunglasses\"]',\n",
       "       'Urban Girl Foundation Brush (Pack of 12)\"]',\n",
       "       'FEET FLOW Women Flats\"]', 'Jazz Eyewears Over-sized Sunglasses\"]',\n",
       "       'Miss Wow Slim Fit Women\\'s Blue Jeans\"]',\n",
       "       'Dilan Jewels Alloy Zircon 18K Yellow Gold Bangle...\"]',\n",
       "       'SMART TRADERS Women Wedges\"]',\n",
       "       'Clovia Women\\'s Full Coverage Bra\"]',\n",
       "       'Olvin Wayfarer Sunglasses\"]',\n",
       "       'PrivateLifes MasterPiece Women\\'s Push-up Bra\"]',\n",
       "       'COIRFIT Single Coir Mattress\"]', 'Clovia Women\\'s T-Shirt Bra\"]',\n",
       "       'Spa Culture Fit Fit Women\\'s Black Jeans\"]',\n",
       "       'run of luck Solid Women\\'s Round Neck Dark Blue T...\"]',\n",
       "       'SAY UV Sterilizer Solid Filter Cartridge (0, Pac...\"]',\n",
       "       'Urban Girl Foundation Brush (Pack of 7)\"]',\n",
       "       'Legmark Slim Fit Women\\'s Light Blue Jeans\"]',\n",
       "       'Siyas Collection Lac Cubic Zirconia Bangle Set (...\"]',\n",
       "       'Dassler Slim Fit Women\\'s Multicolor Jeans\"]',\n",
       "       'piftif Women\\'s Sports Bra\"]', 'REMSON INDIA Women Flats\"]',\n",
       "       'killys Men\\'s Solid No Show Socks\"]', 'INDILEGO Women Flats\"]',\n",
       "       'Firangi Cotton, Polyester Free Floor Mat Firangi...\"]',\n",
       "       'TIMBERLAKE Slim Fit Fit Women\\'s Red Jeans\"]',\n",
       "       'Starsy Solid Women\\'s Round Neck Green T-Shirt\"]',\n",
       "       'Oly Two Fit Fit Women\\'s Black Jeans\"]',\n",
       "       'Olvin Rectangular Sunglasses\"]',\n",
       "       'soie Fashion Women\\'s Sports Bra\"]',\n",
       "       'Auraa Men\\'s, Women\\'s Solid No Show Socks\"]',\n",
       "       'e-Fresh Boy\\'s Brief (Pack of 5)\"]',\n",
       "       'TIMBERLAKE Slim Fit Fit Women\\'s Blue Jeans\"]',\n",
       "       'NEWGEN TECH EO-HS3303 179 Wired Headset (White)\"]',\n",
       "       'Attitude Printed Women\\'s Round Neck Black T-Shirt\"]',\n",
       "       'Kalpaveda Copper Bowl (Gold, Pack of 1)\"]', 'Walkline Slippers\"]',\n",
       "       'D&D Women Flats\"]', 'e-Fresh Baby Boy\\'s Brief (Pack of 10)\"]',\n",
       "       'NEWGEN TECH EO-HS3303 58 Wired Headset (White)\"]',\n",
       "       'Ajaero Slim Fit Women\\'s Dark Blue Jeans\"]',\n",
       "       'Ruhi\\'s Creations Cotton Floral King sized Double...\"]',\n",
       "       'SAY Thread Wounded Candle 10\\\\\" Set of 4 pcs Solid...\"]',\n",
       "       'The Cotton Company Solid Women\\'s Polo Neck Pink ...\"]',\n",
       "       'Samprada Modern art Tapestry (Black, Pink)\"]',\n",
       "       'Naaz Dart game Board Game\"]',\n",
       "       'Oly Two Fit Fit Women\\'s Dark Blue Jeans\"]',\n",
       "       'Camey Men\\'s Quarter Length Socks\"]',\n",
       "       'fourgee Slim Fit Women\\'s Blue Jeans\"]',\n",
       "       'classyworld Brass Cufflink (Grey-02)\"]',\n",
       "       'Viral Girl Women\\'s Full Coverage Bra\"]',\n",
       "       'Wellon Fittings set (16 pieces) for RO Water Pur...\"]',\n",
       "       'Urban Girl Foundation Brush (Pack of 10)\"]',\n",
       "       'Amita Home Furnishing Cotton Printed Single Beds...\"]',\n",
       "       'Impala Alloy Cufflink (White)\"]',\n",
       "       'Ruhi\\'s Creations Polyester Silk Blend Cartoon Ki...\"]',\n",
       "       'Naaz 2 in 1 Paper Quilling Board Game\"]',\n",
       "       'Starsy Printed Women\\'s Round Neck Black T-Shirt\"]',\n",
       "       'Fly U Slim Fit Fit Women\\'s Brown Jeans\"]',\n",
       "       'Crafty Hands Kutchchi Mirrorwork Tapestry (Maroon)\"]',\n",
       "       'tadd Men\\'s, Women\\'s Ankle Length Socks\"]',\n",
       "       'Dolz Slim Fit Fit Women\\'s Brown Jeans\"]',\n",
       "       'Shrih Toe & Foot Protector Pain Relief Pad (Pack...\"]',\n",
       "       'LondonHouze Printed Women\\'s Round Neck Grey T-Shirt\"]',\n",
       "       'Legmark Slim Fit Women\\'s Blue Jeans\"]',\n",
       "       'Linzina Fashions LIN-HOSS-1.5 Faucet Set\"]',\n",
       "       'soie Fashion Women\\'s Full Coverage Bra\"]',\n",
       "       'Clovia Women\\'s Plunge Bra\"]', 'Foot Candy Women Flats\"]',\n",
       "       'Amita Home Furnishing Cotton Floral Single Bedsh...\"]',\n",
       "       '883 Police Full Sleeve Solid Men\\'s Jacket\"]',\n",
       "       'Style World Women Flats\"]', 'Just Wow Women Flats\"]',\n",
       "       'SMART TRADERS Women Flats\"]',\n",
       "       'Ruhi\\'s Creations Cotton Cartoon King sized Doubl...\"]',\n",
       "       'SJ Bushnell 122/1000M Binoculars (36 mm, Black)\"]',\n",
       "       'SJ Barstel 56m / 1000m Binoculars (30 mm, Black)\"]',\n",
       "       'SJ Comet Zoom DPSI Binoculars (30 mm, Black)\"]',\n",
       "       'Pia International 10X70X70 WITH ZOOM SAKURA Bino...\"]',\n",
       "       'SHOPOJ Purple Paper Sky Lantern (80 cm X 34 cm, ...\"]',\n",
       "       'Car vastra 1pcs Car Vastra Honda Beige Backrest ...\"]',\n",
       "       'SHOPOJ Yellow Paper Sky Lantern (80 cm X 34 cm, ...\"]',\n",
       "       'SHOPOJ Multicolor Paper Sky Lantern (80 cm X 34 ...\"]',\n",
       "       'Sj Bushnell 119M / 1000 Binoculars (36 mm, Black)\"]',\n",
       "       'FIFO Bottom Women\\'s  Combo\"]',\n",
       "       'Himmlisch 20503 Car Bottle Holder (Plastic)\"]',\n",
       "       'V&G Professional HD-37 Hair Dryer (Red)\"]',\n",
       "       'Anuradha Art Stylish Hair Clip (Blue)\"]',\n",
       "       'Shonaya Printed Bhagalpuri Art Silk Sari\"]',\n",
       "       'Anuradha Art Stylish Hair Clip (Black)\"]',\n",
       "       'JUSF2 Black Color Hair Band (Multicolor)\"]',\n",
       "       'Sonaxo Men Running Shoes\"]',\n",
       "       'Koie  Battery - For Samsung 7562 Premium Quality...\"]',\n",
       "       'OEM 170774 Bike Side Stand\"]', 'Kittens Boys Flats\"]',\n",
       "       'AutoKraftZ Optimum Locking Device For Bajaj Puls...\"]',\n",
       "       'GALLOWAY skinny Fit Women\\'s Jeans\"]',\n",
       "       'Dremel 2615.023.132 Plastic Friction Work Bench ...\"]', 'Eyewear',\n",
       "       'ABEEZ Boys, Men, Girls (Black, Pack of 1)\"]',\n",
       "       'Joyra Heart Sterling Silver Swarovski Crystal, S...\"]',\n",
       "       'BLM Casual Printed Women\\'s Kurti\"]',\n",
       "       'SMART DENIM Solid Women\\'s White Denim Shorts\"]',\n",
       "       'ATV Pouch for Acer Liquid Z330 (STEEL BLUE)\"]',\n",
       "       'Be 13 Printed Boy\\'s Round Neck T-Shirt (Pack of 2)\"]',\n",
       "       'Taurus Black & white Lace Up\"]',\n",
       "       'Abhinl Fashion Cotton Printed Semi-stitched Salw...\"]',\n",
       "       'UFO Self Design Round Neck Casual Girl\\'s Sweater\"]',\n",
       "       'LGRL Women\\'s Leggings\"]', 'Breakbounce Men\\'s Vest\"]',\n",
       "       'UFO Full Sleeve Solid Girl\\'s Jacket\"]',\n",
       "       'BALAJI EXPORTS Bottled Wine Cooler (9 Bottles)\"]',\n",
       "       'Siemens 5SL Betagard 5SL MCB (1)\"]',\n",
       "       'Remax Rm-10000 Remax Vanguard 10000mah 10000 mAh...\"]',\n",
       "       'Boreal Roller Brush\"]',\n",
       "       'Srajanaa sr114 Travel Shaving Kit (Black)\"]',\n",
       "       'Selfcare Women\\'s Thong Panty (Pack of 3)\"]',\n",
       "       'Sugandh Vatika 24 Natural Masala, Sandal Incense...\"]',\n",
       "       'Arial Morris Women Flats\"]', 'eBooks',\n",
       "       'Zikrak Exim Women Wedges\"]', 'Zixtro Bug (Black, Backpack)\"]',\n",
       "       'New Darling Women\\'s Printed Top & Pyjama Set\"]',\n",
       "       'RajeshFashion Women\\'s Leggings\"]',\n",
       "       'United Colors of Benetton Girl\\'s Trousers\"]',\n",
       "       'SRPC BAOER STARWALKER EXECUTIVE ROLLERBALL Pen G...\"]',\n",
       "       'Kraft Seeds Rosemary Herb (Pack Of 5) Seed (75 p...\"]',\n",
       "       'Autoplus M AP15 Arm Sleeve (Black)\"]',\n",
       "       'Autoplus M AP18 Arm Sleeve (Black)\"]',\n",
       "       'Kraft Seeds Thyme Herbs Seed (200 per packet)\"]',\n",
       "       'Kraft Seeds Dill Herb Seed (50 per packet)\"]',\n",
       "       'Leading lady Women\\'s Camisole\"]', 'Yo Baby Girl\\'s Trousers\"]',\n",
       "       'THERISE MD0005 Wired Headset (Pink)\"]',\n",
       "       'Nut Khut Embroidered Kurta & Churidar\"]',\n",
       "       'Vinenzia Printed Winter Men\\'s Gloves\"]',\n",
       "       'Planet Waves Woodstock Strap (Multicolor)\"]',\n",
       "       'Speedwav 216456 Manual Rear View Mirror (Right, ...\"]',\n",
       "       'Speedwav 216510 Manual Rear View Mirror (Right, ...\"]',\n",
       "       'Speedwav 216552 Manual Rear View Mirror (Right, ...\"]',\n",
       "       'Speedwav 186136 Manual Rear View Mirror (Right, ...\"]',\n",
       "       'Small Toes Bellies\"]',\n",
       "       'EASIES Solid Single Breasted Casual Men\\'s Blazer\"]',\n",
       "       'Clovia Lingerie Set\"]',\n",
       "       'Speedwav 186926 Royal Enfield 350 Twin Spark LED...\"]',\n",
       "       'Speedwav 186879 Bajaj Pulsar 200 NS DTS-i LED In...\"]',\n",
       "       'Household Supplies', 'Pazel Slim Fit Men\\'s Jeans\"]',\n",
       "       'SMART TRADERS Girls Bellies\"]',\n",
       "       'Corcepts Universal Tablet HD Ultra Clear Transpa...\"]',\n",
       "       'Areon Luxurious Fragrance Long Lasting Car,Home,...\"]'],\n",
       "      dtype=object)"
      ]
     },
     "execution_count": 19,
     "metadata": {},
     "output_type": "execute_result"
    }
   ],
   "source": [
    "#Printing out all the unique categories\n",
    "df['product_category_tree'].unique()"
   ]
  },
  {
   "cell_type": "markdown",
   "id": "alpine-trick",
   "metadata": {},
   "source": [
    ">As we can notice there are many examples where the product doesn't have a definite category.<br>\n",
    "For example instead of categorising the product under clothing, it's rather filled the product detail as the category.<br>\n",
    "See the code cell below, which shows a example of indefinite category."
   ]
  },
  {
   "cell_type": "code",
   "execution_count": 20,
   "id": "other-animal",
   "metadata": {
    "scrolled": true
   },
   "outputs": [
    {
     "name": "stdout",
     "output_type": "stream",
     "text": [
      "Vishudh Printed Women's Straight Kurta\"]\n"
     ]
    }
   ],
   "source": [
    "print(df['product_category_tree'][50])"
   ]
  },
  {
   "cell_type": "markdown",
   "id": "everyday-arena",
   "metadata": {},
   "source": [
    ">In order to prevent such instances where the product category is not definite we will chose only those categories which have a definite property such as clothing, footwear, camera and acessories etc.<br>\n",
    "We have chosen the first 28 categories.\n",
    "We can run the following code to determine the index until which we have a definite product category<br>\n",
    "We can run the following python code to get a list all the definite categories in descending order by \"uniq_id\", then understand why we chose  first 28 categories\n",
    "\n",
    "```python \n",
    "list(df.groupby('product_category_tree').count().sort_values(by='uniq_id',ascending=False).head(30).index)\n",
    "```"
   ]
  },
  {
   "cell_type": "code",
   "execution_count": 21,
   "id": "uniform-philadelphia",
   "metadata": {
    "scrolled": true
   },
   "outputs": [],
   "source": [
    "# Taking only top categories\n",
    "top_cat = list(df.groupby('product_category_tree').count().sort_values(by='uniq_id',ascending=False).head(28).index)"
   ]
  },
  {
   "cell_type": "code",
   "execution_count": 22,
   "id": "knowing-paragraph",
   "metadata": {
    "scrolled": true
   },
   "outputs": [
    {
     "name": "stdout",
     "output_type": "stream",
     "text": [
      "['Clothing', 'Jewellery', 'Footwear', 'Mobiles & Accessories', 'Automotive', 'Home Decor & Festive Needs', 'Beauty and Personal Care', 'Home Furnishing', 'Kitchen & Dining', 'Computers', 'Watches', 'Baby Care', 'Tools & Hardware', 'Toys & School Supplies', 'Pens & Stationery', 'Bags, Wallets & Belts', 'Furniture', 'Sports & Fitness', 'Cameras & Accessories', 'Home Improvement', 'Health & Personal Care Appliances', 'Sunglasses', 'Gaming', 'Pet Supplies', 'Home & Kitchen', 'Home Entertainment', 'eBooks', 'Eyewear']\n"
     ]
    }
   ],
   "source": [
    "print(top_cat)"
   ]
  },
  {
   "cell_type": "code",
   "execution_count": 23,
   "id": "enhanced-market",
   "metadata": {
    "scrolled": true
   },
   "outputs": [],
   "source": [
    "# Selecting only relevant columns\n",
    "processed_df = df[df['product_category_tree'].isin(top_cat)][['product_category_tree','description']]"
   ]
  },
  {
   "cell_type": "code",
   "execution_count": 24,
   "id": "photographic-yukon",
   "metadata": {
    "scrolled": false
   },
   "outputs": [
    {
     "data": {
      "text/html": [
       "<div>\n",
       "<style scoped>\n",
       "    .dataframe tbody tr th:only-of-type {\n",
       "        vertical-align: middle;\n",
       "    }\n",
       "\n",
       "    .dataframe tbody tr th {\n",
       "        vertical-align: top;\n",
       "    }\n",
       "\n",
       "    .dataframe thead th {\n",
       "        text-align: right;\n",
       "    }\n",
       "</style>\n",
       "<table border=\"1\" class=\"dataframe\">\n",
       "  <thead>\n",
       "    <tr style=\"text-align: right;\">\n",
       "      <th></th>\n",
       "      <th>product_category_tree</th>\n",
       "      <th>description</th>\n",
       "    </tr>\n",
       "  </thead>\n",
       "  <tbody>\n",
       "    <tr>\n",
       "      <th>0</th>\n",
       "      <td>Clothing</td>\n",
       "      <td>Key Features of Alisha Solid Women's Cycling S...</td>\n",
       "    </tr>\n",
       "    <tr>\n",
       "      <th>1</th>\n",
       "      <td>Furniture</td>\n",
       "      <td>FabHomeDecor Fabric Double Sofa Bed (Finish Co...</td>\n",
       "    </tr>\n",
       "    <tr>\n",
       "      <th>2</th>\n",
       "      <td>Footwear</td>\n",
       "      <td>Key Features of AW Bellies Sandals Wedges Heel...</td>\n",
       "    </tr>\n",
       "    <tr>\n",
       "      <th>3</th>\n",
       "      <td>Clothing</td>\n",
       "      <td>Key Features of Alisha Solid Women's Cycling S...</td>\n",
       "    </tr>\n",
       "    <tr>\n",
       "      <th>4</th>\n",
       "      <td>Pet Supplies</td>\n",
       "      <td>Specifications of Sicons All Purpose Arnica Do...</td>\n",
       "    </tr>\n",
       "    <tr>\n",
       "      <th>...</th>\n",
       "      <td>...</td>\n",
       "      <td>...</td>\n",
       "    </tr>\n",
       "    <tr>\n",
       "      <th>19995</th>\n",
       "      <td>Baby Care</td>\n",
       "      <td>Buy WallDesign Small Vinyl Sticker for Rs.730 ...</td>\n",
       "    </tr>\n",
       "    <tr>\n",
       "      <th>19996</th>\n",
       "      <td>Baby Care</td>\n",
       "      <td>Buy Wallmantra Large Vinyl Stickers Sticker fo...</td>\n",
       "    </tr>\n",
       "    <tr>\n",
       "      <th>19997</th>\n",
       "      <td>Baby Care</td>\n",
       "      <td>Buy Elite Collection Medium Acrylic Sticker fo...</td>\n",
       "    </tr>\n",
       "    <tr>\n",
       "      <th>19998</th>\n",
       "      <td>Baby Care</td>\n",
       "      <td>Buy Elite Collection Medium Acrylic Sticker fo...</td>\n",
       "    </tr>\n",
       "    <tr>\n",
       "      <th>19999</th>\n",
       "      <td>Baby Care</td>\n",
       "      <td>Buy Elite Collection Medium Acrylic Sticker fo...</td>\n",
       "    </tr>\n",
       "  </tbody>\n",
       "</table>\n",
       "<p>19661 rows × 2 columns</p>\n",
       "</div>"
      ],
      "text/plain": [
       "      product_category_tree                                        description\n",
       "0                  Clothing  Key Features of Alisha Solid Women's Cycling S...\n",
       "1                 Furniture  FabHomeDecor Fabric Double Sofa Bed (Finish Co...\n",
       "2                  Footwear  Key Features of AW Bellies Sandals Wedges Heel...\n",
       "3                  Clothing  Key Features of Alisha Solid Women's Cycling S...\n",
       "4              Pet Supplies  Specifications of Sicons All Purpose Arnica Do...\n",
       "...                     ...                                                ...\n",
       "19995             Baby Care  Buy WallDesign Small Vinyl Sticker for Rs.730 ...\n",
       "19996             Baby Care  Buy Wallmantra Large Vinyl Stickers Sticker fo...\n",
       "19997             Baby Care  Buy Elite Collection Medium Acrylic Sticker fo...\n",
       "19998             Baby Care  Buy Elite Collection Medium Acrylic Sticker fo...\n",
       "19999             Baby Care  Buy Elite Collection Medium Acrylic Sticker fo...\n",
       "\n",
       "[19661 rows x 2 columns]"
      ]
     },
     "execution_count": 24,
     "metadata": {},
     "output_type": "execute_result"
    }
   ],
   "source": [
    "processed_df"
   ]
  },
  {
   "cell_type": "markdown",
   "id": "sublime-palestine",
   "metadata": {},
   "source": [
    ">In the code cell below we are plotting a bar plot to show which category has maximum number of product.<br>\n",
    "We should notice that the total no. of products will not be equal to 20,000 as we have removed some rows from our original dataset as mentioned in the above cells<br>"
   ]
  },
  {
   "cell_type": "code",
   "execution_count": 25,
   "id": "independent-paintball",
   "metadata": {
    "scrolled": false
   },
   "outputs": [
    {
     "data": {
      "image/png": "[encoded data removed]",
      "text/plain": [
       "<Figure size 864x576 with 1 Axes>"
      ]
     },
     "metadata": {
      "needs_background": "light"
     },
     "output_type": "display_data"
    },
    {
     "name": "stdout",
     "output_type": "stream",
     "text": [
      "Top Main Categories by Sales.\n",
      "\n",
      "Clothing                             6197\n",
      "Jewellery                            3531\n",
      "Footwear                             1227\n",
      "Mobiles & Accessories                1099\n",
      "Automotive                           1012\n",
      "Home Decor & Festive Needs            929\n",
      "Beauty and Personal Care              710\n",
      "Home Furnishing                       699\n",
      "Kitchen & Dining                      647\n",
      "Computers                             578\n",
      "Watches                               530\n",
      "Baby Care                             483\n",
      "Tools & Hardware                      391\n",
      "Toys & School Supplies                330\n",
      "Pens & Stationery                     313\n",
      "Bags, Wallets & Belts                 265\n",
      "Furniture                             180\n",
      "Sports & Fitness                      166\n",
      "Cameras & Accessories                  82\n",
      "Home Improvement                       81\n",
      "Health & Personal Care Appliances      43\n",
      "Sunglasses                             35\n",
      "Gaming                                 35\n",
      "Pet Supplies                           30\n",
      "Home & Kitchen                         24\n",
      "Home Entertainment                     19\n",
      "eBooks                                 15\n",
      "Eyewear                                10\n",
      "Name: product_category_tree, dtype: int64\n"
     ]
    }
   ],
   "source": [
    "plt.figure(figsize=(12,8))\n",
    "df['product_category_tree'].value_counts()[:28].sort_values(ascending=True).plot(kind='bar')\n",
    "plt.title('Main Category',fontsize=20)\n",
    "plt.yticks(fontsize=12)\n",
    "plt.xticks(fontsize=12)\n",
    "plt.show()\n",
    "print('Top Main Categories by Sales.\\n')\n",
    "print(df['product_category_tree'].value_counts()[:28])"
   ]
  },
  {
   "cell_type": "code",
   "execution_count": 26,
   "id": "heard-damage",
   "metadata": {
    "scrolled": true
   },
   "outputs": [],
   "source": [
    "# Cleaning strings\n",
    "processed_df['description'] = processed_df['description'].astype('str').apply(preprocessing_string)"
   ]
  },
  {
   "cell_type": "code",
   "execution_count": 27,
   "id": "national-navigator",
   "metadata": {
    "scrolled": false
   },
   "outputs": [
    {
     "data": {
      "text/html": [
       "<div>\n",
       "<style scoped>\n",
       "    .dataframe tbody tr th:only-of-type {\n",
       "        vertical-align: middle;\n",
       "    }\n",
       "\n",
       "    .dataframe tbody tr th {\n",
       "        vertical-align: top;\n",
       "    }\n",
       "\n",
       "    .dataframe thead th {\n",
       "        text-align: right;\n",
       "    }\n",
       "</style>\n",
       "<table border=\"1\" class=\"dataframe\">\n",
       "  <thead>\n",
       "    <tr style=\"text-align: right;\">\n",
       "      <th></th>\n",
       "      <th>product_category_tree</th>\n",
       "      <th>description</th>\n",
       "    </tr>\n",
       "  </thead>\n",
       "  <tbody>\n",
       "    <tr>\n",
       "      <th>0</th>\n",
       "      <td>Clothing</td>\n",
       "      <td>key features of alisha solid women s cycling s...</td>\n",
       "    </tr>\n",
       "    <tr>\n",
       "      <th>1</th>\n",
       "      <td>Furniture</td>\n",
       "      <td>fabhomedecor fabric double sofa bed finish col...</td>\n",
       "    </tr>\n",
       "    <tr>\n",
       "      <th>2</th>\n",
       "      <td>Footwear</td>\n",
       "      <td>key features of aw bellies sandals wedges heel...</td>\n",
       "    </tr>\n",
       "    <tr>\n",
       "      <th>3</th>\n",
       "      <td>Clothing</td>\n",
       "      <td>key features of alisha solid women s cycling s...</td>\n",
       "    </tr>\n",
       "    <tr>\n",
       "      <th>4</th>\n",
       "      <td>Pet Supplies</td>\n",
       "      <td>specifications of sicons all purpose arnica do...</td>\n",
       "    </tr>\n",
       "    <tr>\n",
       "      <th>...</th>\n",
       "      <td>...</td>\n",
       "      <td>...</td>\n",
       "    </tr>\n",
       "    <tr>\n",
       "      <th>19995</th>\n",
       "      <td>Baby Care</td>\n",
       "      <td>buy walldesign small vinyl sticker for rs onli...</td>\n",
       "    </tr>\n",
       "    <tr>\n",
       "      <th>19996</th>\n",
       "      <td>Baby Care</td>\n",
       "      <td>buy wallmantra large vinyl stickers sticker fo...</td>\n",
       "    </tr>\n",
       "    <tr>\n",
       "      <th>19997</th>\n",
       "      <td>Baby Care</td>\n",
       "      <td>buy elite collection medium acrylic sticker fo...</td>\n",
       "    </tr>\n",
       "    <tr>\n",
       "      <th>19998</th>\n",
       "      <td>Baby Care</td>\n",
       "      <td>buy elite collection medium acrylic sticker fo...</td>\n",
       "    </tr>\n",
       "    <tr>\n",
       "      <th>19999</th>\n",
       "      <td>Baby Care</td>\n",
       "      <td>buy elite collection medium acrylic sticker fo...</td>\n",
       "    </tr>\n",
       "  </tbody>\n",
       "</table>\n",
       "<p>19661 rows × 2 columns</p>\n",
       "</div>"
      ],
      "text/plain": [
       "      product_category_tree                                        description\n",
       "0                  Clothing  key features of alisha solid women s cycling s...\n",
       "1                 Furniture  fabhomedecor fabric double sofa bed finish col...\n",
       "2                  Footwear  key features of aw bellies sandals wedges heel...\n",
       "3                  Clothing  key features of alisha solid women s cycling s...\n",
       "4              Pet Supplies  specifications of sicons all purpose arnica do...\n",
       "...                     ...                                                ...\n",
       "19995             Baby Care  buy walldesign small vinyl sticker for rs onli...\n",
       "19996             Baby Care  buy wallmantra large vinyl stickers sticker fo...\n",
       "19997             Baby Care  buy elite collection medium acrylic sticker fo...\n",
       "19998             Baby Care  buy elite collection medium acrylic sticker fo...\n",
       "19999             Baby Care  buy elite collection medium acrylic sticker fo...\n",
       "\n",
       "[19661 rows x 2 columns]"
      ]
     },
     "execution_count": 27,
     "metadata": {},
     "output_type": "execute_result"
    }
   ],
   "source": [
    "processed_df"
   ]
  },
  {
   "cell_type": "code",
   "execution_count": 28,
   "id": "worldwide-forest",
   "metadata": {
    "scrolled": true
   },
   "outputs": [],
   "source": [
    "# Creating a list of categories for later use\n",
    "cat_list = list(processed_df['product_category_tree'].unique())"
   ]
  },
  {
   "cell_type": "code",
   "execution_count": 29,
   "id": "dietary-beijing",
   "metadata": {
    "scrolled": true
   },
   "outputs": [
    {
     "name": "stdout",
     "output_type": "stream",
     "text": [
      "['Clothing', 'Furniture', 'Footwear', 'Pet Supplies', 'Pens & Stationery', 'Sports & Fitness', 'Beauty and Personal Care', 'Bags, Wallets & Belts', 'Home Decor & Festive Needs', 'Automotive', 'Tools & Hardware', 'Home Furnishing', 'Baby Care', 'Mobiles & Accessories', 'Watches', 'Toys & School Supplies', 'Jewellery', 'Kitchen & Dining', 'Home & Kitchen', 'Computers', 'Cameras & Accessories', 'Health & Personal Care Appliances', 'Gaming', 'Home Improvement', 'Sunglasses', 'Home Entertainment', 'Eyewear', 'eBooks']\n"
     ]
    }
   ],
   "source": [
    "# Printing the list of top categories\n",
    "print(cat_list)"
   ]
  },
  {
   "cell_type": "code",
   "execution_count": 30,
   "id": "fitting-charlotte",
   "metadata": {
    "scrolled": true
   },
   "outputs": [],
   "source": [
    "# Encoding the product category\n",
    "le = preprocessing.LabelEncoder()\n",
    "category_encoded=le.fit_transform(processed_df['product_category_tree'])\n",
    "processed_df['product_category_tree'] = category_encoded"
   ]
  },
  {
   "cell_type": "code",
   "execution_count": 31,
   "id": "olive-companion",
   "metadata": {
    "scrolled": false
   },
   "outputs": [
    {
     "name": "stdout",
     "output_type": "stream",
     "text": [
      "['0-Automotive']\n",
      "['1-Baby Care']\n",
      "['2-Bags, Wallets & Belts']\n",
      "['3-Beauty and Personal Care']\n",
      "['4-Cameras & Accessories']\n",
      "['5-Clothing']\n",
      "['6-Computers']\n",
      "['7-Eyewear']\n",
      "['8-Footwear']\n",
      "['9-Furniture']\n",
      "['10-Gaming']\n",
      "['11-Health & Personal Care Appliances']\n",
      "['12-Home & Kitchen']\n",
      "['13-Home Decor & Festive Needs']\n",
      "['14-Home Entertainment']\n",
      "['15-Home Furnishing']\n",
      "['16-Home Improvement']\n",
      "['17-Jewellery']\n",
      "['18-Kitchen & Dining']\n",
      "['19-Mobiles & Accessories']\n",
      "['20-Pens & Stationery']\n",
      "['21-Pet Supplies']\n",
      "['22-Sports & Fitness']\n",
      "['23-Sunglasses']\n",
      "['24-Tools & Hardware']\n",
      "['25-Toys & School Supplies']\n",
      "['26-Watches']\n",
      "['27-eBooks']\n"
     ]
    }
   ],
   "source": [
    "#Printing the encoded value and their corresponding values\n",
    "for i in range(28):\n",
    "    print(str(i) + \"-\" + le.inverse_transform([i]))"
   ]
  },
  {
   "cell_type": "code",
   "execution_count": 32,
   "id": "speaking-commission",
   "metadata": {
    "scrolled": true
   },
   "outputs": [
    {
     "data": {
      "text/html": [
       "<div>\n",
       "<style scoped>\n",
       "    .dataframe tbody tr th:only-of-type {\n",
       "        vertical-align: middle;\n",
       "    }\n",
       "\n",
       "    .dataframe tbody tr th {\n",
       "        vertical-align: top;\n",
       "    }\n",
       "\n",
       "    .dataframe thead th {\n",
       "        text-align: right;\n",
       "    }\n",
       "</style>\n",
       "<table border=\"1\" class=\"dataframe\">\n",
       "  <thead>\n",
       "    <tr style=\"text-align: right;\">\n",
       "      <th></th>\n",
       "      <th>product_category_tree</th>\n",
       "      <th>description</th>\n",
       "    </tr>\n",
       "  </thead>\n",
       "  <tbody>\n",
       "    <tr>\n",
       "      <th>0</th>\n",
       "      <td>5</td>\n",
       "      <td>key features of alisha solid women s cycling s...</td>\n",
       "    </tr>\n",
       "    <tr>\n",
       "      <th>1</th>\n",
       "      <td>9</td>\n",
       "      <td>fabhomedecor fabric double sofa bed finish col...</td>\n",
       "    </tr>\n",
       "    <tr>\n",
       "      <th>2</th>\n",
       "      <td>8</td>\n",
       "      <td>key features of aw bellies sandals wedges heel...</td>\n",
       "    </tr>\n",
       "    <tr>\n",
       "      <th>3</th>\n",
       "      <td>5</td>\n",
       "      <td>key features of alisha solid women s cycling s...</td>\n",
       "    </tr>\n",
       "    <tr>\n",
       "      <th>4</th>\n",
       "      <td>21</td>\n",
       "      <td>specifications of sicons all purpose arnica do...</td>\n",
       "    </tr>\n",
       "  </tbody>\n",
       "</table>\n",
       "</div>"
      ],
      "text/plain": [
       "   product_category_tree                                        description\n",
       "0                      5  key features of alisha solid women s cycling s...\n",
       "1                      9  fabhomedecor fabric double sofa bed finish col...\n",
       "2                      8  key features of aw bellies sandals wedges heel...\n",
       "3                      5  key features of alisha solid women s cycling s...\n",
       "4                     21  specifications of sicons all purpose arnica do..."
      ]
     },
     "execution_count": 32,
     "metadata": {},
     "output_type": "execute_result"
    }
   ],
   "source": [
    "processed_df.head()"
   ]
  },
  {
   "cell_type": "markdown",
   "id": "legendary-desert",
   "metadata": {},
   "source": [
    ">We have taken only those products which have a definite categories.<br>\n",
    "In the code cell below we can notice the change in the shape of our dataframe."
   ]
  },
  {
   "cell_type": "code",
   "execution_count": 33,
   "id": "identical-removal",
   "metadata": {
    "scrolled": true
   },
   "outputs": [
    {
     "data": {
      "text/plain": [
       "(19661, 2)"
      ]
     },
     "execution_count": 33,
     "metadata": {},
     "output_type": "execute_result"
    }
   ],
   "source": [
    "#Shape of processed_df\n",
    "processed_df.shape"
   ]
  },
  {
   "cell_type": "markdown",
   "id": "rolled-imagination",
   "metadata": {},
   "source": [
    ">The following code cell is for spliting our data into traing and testing data<br>\n",
    "We are splitting our dataset as follows:<br>\n",
    "Training Data - 80%<br>\n",
    "Testing Data  - 20%"
   ]
  },
  {
   "cell_type": "code",
   "execution_count": 34,
   "id": "opening-dakota",
   "metadata": {
    "scrolled": true
   },
   "outputs": [],
   "source": [
    "X_train, X_test, y_train, y_test = train_test_split(processed_df['description'],processed_df['product_category_tree'],test_size=0.2)"
   ]
  },
  {
   "cell_type": "code",
   "execution_count": 35,
   "id": "fantastic-theorem",
   "metadata": {
    "scrolled": true
   },
   "outputs": [
    {
     "name": "stdout",
     "output_type": "stream",
     "text": [
      "(15728,)\n",
      "(15728,)\n",
      "(3933,)\n",
      "(3933,)\n"
     ]
    }
   ],
   "source": [
    "print(X_train.shape)\n",
    "print(y_train.shape)\n",
    "print(X_test.shape)\n",
    "print(y_test.shape)"
   ]
  },
  {
   "cell_type": "markdown",
   "id": "driving-event",
   "metadata": {},
   "source": [
    ">Let's look at our training features"
   ]
  },
  {
   "cell_type": "code",
   "execution_count": 36,
   "id": "ranking-number",
   "metadata": {
    "scrolled": true
   },
   "outputs": [
    {
     "name": "stdout",
     "output_type": "stream",
     "text": [
      "7685     specifications of totalcare expert metal glass...\n",
      "18364    speedwav red led strobe brake lights set of fo...\n",
      "18247    specifications of katwa clasic floral seater t...\n",
      "806      kea casual sleeveless solid women s top price ...\n",
      "5572     goldnera alloy necklace buy goldnera alloy nec...\n",
      "Name: description, dtype: object\n"
     ]
    }
   ],
   "source": [
    "print(X_train.head())"
   ]
  },
  {
   "cell_type": "markdown",
   "id": "possible-rocket",
   "metadata": {},
   "source": [
    ">Let's look at our training labels"
   ]
  },
  {
   "cell_type": "code",
   "execution_count": 37,
   "id": "skilled-fiction",
   "metadata": {
    "scrolled": true
   },
   "outputs": [
    {
     "name": "stdout",
     "output_type": "stream",
     "text": [
      "7685      0\n",
      "18364     0\n",
      "18247    15\n",
      "806       5\n",
      "5572     17\n",
      "Name: product_category_tree, dtype: int32\n"
     ]
    }
   ],
   "source": [
    "print(y_train.head())"
   ]
  },
  {
   "cell_type": "markdown",
   "id": "stable-principle",
   "metadata": {},
   "source": [
    ">Scikit-learn’s CountVectorizer is used to transform a corpora of text to a vector of term / token counts. It also provides the capability to preprocess your text data prior to generating the vector representation making it a highly flexible feature representation module for text.<br>\n",
    ">- CountVectorizer - https://medium.com/swlh/understanding-count-vectorizer-5dd71530c1b<br>\n",
    ">- Stop words - https://medium.com/@saitejaponugoti/stop-words-in-nlp-5b248dadad47<br>\n",
    ">- Vectorization https://developers.google.com/machine-learning/guides/text-classification/step-3#vectorization<br>\n",
    ">- https://scikit-learn.org/stable/modules/generated/sklearn.feature_extraction.text.CountVectorizer.html"
   ]
  },
  {
   "cell_type": "code",
   "execution_count": 38,
   "id": "acting-rough",
   "metadata": {
    "scrolled": true
   },
   "outputs": [],
   "source": [
    "'''\n",
    "This code block is for converting the training data to vectorized form\n",
    "\n",
    "'''\n",
    "# Instantiating the vectorizer and removing stop words\n",
    "vect = CountVectorizer(analyzer='word', stop_words = 'english')\n",
    "# Converting the train data\n",
    "X_train_matrix = vect.fit_transform(X_train) "
   ]
  },
  {
   "cell_type": "code",
   "execution_count": 39,
   "id": "certain-protection",
   "metadata": {
    "scrolled": true
   },
   "outputs": [
    {
     "data": {
      "text/plain": [
       "(15728, 17577)"
      ]
     },
     "execution_count": 39,
     "metadata": {},
     "output_type": "execute_result"
    }
   ],
   "source": [
    "# vect.get_feature_names()\n",
    "X_train_matrix.shape"
   ]
  },
  {
   "cell_type": "markdown",
   "id": "designing-index",
   "metadata": {},
   "source": [
    "rows x columns<br>\n",
    "document = rows<br>\n",
    "term = columns<br>"
   ]
  },
  {
   "cell_type": "code",
   "execution_count": 40,
   "id": "detected-allen",
   "metadata": {
    "scrolled": true
   },
   "outputs": [
    {
     "data": {
      "text/plain": [
       "{'specifications': 14536,\n",
       " 'totalcare': 15891,\n",
       " 'expert': 5359,\n",
       " 'metal': 9682,\n",
       " 'glass': 6458,\n",
       " 'shiner': 13864,\n",
       " 'car': 2320,\n",
       " 'washer': 16931,\n",
       " 'ml': 9869,\n",
       " 'general': 6341,\n",
       " 'brand': 1927,\n",
       " 'quantity': 12299,\n",
       " 'model': 9906,\n",
       " 'number': 10596,\n",
       " 'box': 1879,\n",
       " 'vehicle': 16592,\n",
       " 'washing': 16933,\n",
       " 'liquid': 8962,\n",
       " 'speedwav': 14552,\n",
       " 'red': 12605,\n",
       " 'led': 8755,\n",
       " 'strobe': 14958,\n",
       " 'brake': 1919,\n",
       " 'lights': 8897,\n",
       " 'set': 13714,\n",
       " 'force': 6008,\n",
       " 'projector': 12084,\n",
       " 'lens': 8809,\n",
       " 'price': 11986,\n",
       " 'rs': 13192,\n",
       " 'riding': 13003,\n",
       " 'safely': 13295,\n",
       " 'considered': 3288,\n",
       " 'challenge': 2568,\n",
       " 'safe': 13290,\n",
       " 'braking': 1921,\n",
       " 'suddenly': 15061,\n",
       " 'taking': 15377,\n",
       " 'turn': 16191,\n",
       " 'make': 9311,\n",
       " 'stylish': 15015,\n",
       " 'stand': 14722,\n",
       " 'crowd': 3622,\n",
       " 'help': 7018,\n",
       " 'road': 13063,\n",
       " 'unwanted': 16401,\n",
       " 'weather': 16988,\n",
       " 'conditions': 3232,\n",
       " 'feature': 5624,\n",
       " 'easy': 4744,\n",
       " 'fitx': 5808,\n",
       " 'durable': 4661,\n",
       " 'long': 9055,\n",
       " 'lasting': 8665,\n",
       " 'flashes': 5841,\n",
       " 'applied': 763,\n",
       " 'works': 17254,\n",
       " 'current': 3711,\n",
       " 'product': 12060,\n",
       " 'type': 16246,\n",
       " 'rear': 12545,\n",
       " 'light': 8884,\n",
       " 'install': 7721,\n",
       " 'cutting': 3757,\n",
       " 'wire': 17168,\n",
       " 'enhnaces': 5056,\n",
       " 'overall': 10948,\n",
       " 'looks': 9070,\n",
       " 'makes': 9317,\n",
       " 'appealing': 744,\n",
       " 'saves': 13434,\n",
       " 'making': 9321,\n",
       " 'visible': 16753,\n",
       " 'note': 10549,\n",
       " 'needs': 10354,\n",
       " 'connected': 3270,\n",
       " 'bulb': 2110,\n",
       " 'connection': 3272,\n",
       " 'wires': 17172,\n",
       " 'package': 11004,\n",
       " 'contents': 3326,\n",
       " 'sey': 13736,\n",
       " 'diameter': 4193,\n",
       " 'cm': 2954,\n",
       " 'power': 11856,\n",
       " 'consumption': 3310,\n",
       " 'color': 3048,\n",
       " 'temperature': 15551,\n",
       " 'voltage': 16817,\n",
       " 'year': 17400,\n",
       " 'lifespan': 8874,\n",
       " 'hours': 7255,\n",
       " 'katwa': 8279,\n",
       " 'clasic': 2847,\n",
       " 'floral': 5911,\n",
       " 'seater': 13587,\n",
       " 'table': 15336,\n",
       " 'cover': 3480,\n",
       " 'green': 6661,\n",
       " 'pvc': 12259,\n",
       " 'sales': 13326,\n",
       " 'pack': 11003,\n",
       " 'shape': 13777,\n",
       " 'rectangle': 12601,\n",
       " 'material': 9487,\n",
       " 'fancy': 5522,\n",
       " 'id': 7388,\n",
       " 'kc': 8290,\n",
       " 'fn': 5953,\n",
       " 'mto': 10102,\n",
       " 'design': 4074,\n",
       " 'print': 12012,\n",
       " 'dimensions': 4263,\n",
       " 'length': 8805,\n",
       " 'inch': 7525,\n",
       " 'width': 17107,\n",
       " 'seating': 13588,\n",
       " 'capacity': 2299,\n",
       " 'additional': 225,\n",
       " 'features': 5626,\n",
       " 'care': 2343,\n",
       " 'instructions': 7736,\n",
       " 'use': 16446,\n",
       " 'sponge': 14616,\n",
       " 'soapy': 14347,\n",
       " 'water': 16942,\n",
       " 'best': 1503,\n",
       " 'possible': 11826,\n",
       " 'detergent': 4121,\n",
       " 'machine': 9219,\n",
       " 'wash': 16926,\n",
       " 'wipe': 17161,\n",
       " 'clean': 2868,\n",
       " 'damp': 3809,\n",
       " 'cloth': 2932,\n",
       " 'avoid': 1111,\n",
       " 'scrubbing': 13547,\n",
       " 'dip': 4290,\n",
       " 'dry': 4597,\n",
       " 'squeeze': 14668,\n",
       " 'shade': 13748,\n",
       " 'iron': 7857,\n",
       " 'kea': 8297,\n",
       " 'casual': 2428,\n",
       " 'sleeveless': 14207,\n",
       " 'solid': 14407,\n",
       " 'women': 17219,\n",
       " 'come': 3096,\n",
       " 'bright': 1987,\n",
       " 'colourful': 3065,\n",
       " 'combinational': 3086,\n",
       " 'tops': 15873,\n",
       " 'womens': 17220,\n",
       " 'meet': 9592,\n",
       " 'demands': 4012,\n",
       " 'satisfy': 13417,\n",
       " 'taste': 15453,\n",
       " 'western': 17040,\n",
       " 'culture': 3680,\n",
       " 'goldnera': 6546,\n",
       " 'alloy': 494,\n",
       " 'necklace': 10336,\n",
       " 'buy': 2182,\n",
       " 'flipkart': 5888,\n",
       " 'com': 3079,\n",
       " 'genuine': 6359,\n",
       " 'products': 12064,\n",
       " 'day': 3865,\n",
       " 'replacement': 12799,\n",
       " 'guarantee': 6729,\n",
       " 'free': 6087,\n",
       " 'shipping': 13876,\n",
       " 'cash': 2412,\n",
       " 'delivery': 4003,\n",
       " 'jjc': 8074,\n",
       " 'et': 5209,\n",
       " 'hood': 7212,\n",
       " 'pilot': 11499,\n",
       " 'roller': 13103,\n",
       " 'ball': 1227,\n",
       " 'pen': 11308,\n",
       " 'hmt': 7153,\n",
       " 'hq': 7270,\n",
       " 'analog': 597,\n",
       " 'watch': 16937,\n",
       " 'online': 10753,\n",
       " 'india': 7568,\n",
       " 'round': 13162,\n",
       " 'dial': 4190,\n",
       " 'golden': 6542,\n",
       " 'strap': 14893,\n",
       " 'stainless': 14714,\n",
       " 'steel': 14777,\n",
       " 'case': 2407,\n",
       " 'bezel': 1520,\n",
       " 'resistant': 12857,\n",
       " 'great': 6656,\n",
       " 'discounts': 4318,\n",
       " 'iesd': 7408,\n",
       " 'bone': 1792,\n",
       " 'vitalwalls': 16771,\n",
       " 'frame': 6074,\n",
       " 'canvas': 2292,\n",
       " 'painting': 11037,\n",
       " 'premium': 11933,\n",
       " 'art': 870,\n",
       " 'ready': 12532,\n",
       " 'seller': 13639,\n",
       " 'exquisite': 5388,\n",
       " 'famous': 5517,\n",
       " 'artist': 890,\n",
       " 'sure': 15181,\n",
       " 'add': 217,\n",
       " 'beauty': 1399,\n",
       " 'aesthetics': 328,\n",
       " 'space': 14485,\n",
       " 'offers': 10696,\n",
       " 'beautiful': 1393,\n",
       " 'accuracy': 154,\n",
       " 'high': 7084,\n",
       " 'quality': 12294,\n",
       " 'framing': 6078,\n",
       " 'gicl': 6405,\n",
       " 'french': 6100,\n",
       " 'spray': 14635,\n",
       " 'printing': 12016,\n",
       " 'process': 12046,\n",
       " 'millions': 9784,\n",
       " 'ink': 7667,\n",
       " 'droplets': 4590,\n",
       " 'sprayed': 14636,\n",
       " 'surface': 15185,\n",
       " 'creating': 3561,\n",
       " 'natural': 10278,\n",
       " 'transitions': 15988,\n",
       " 'size': 14125,\n",
       " 'selling': 13641,\n",
       " 'digital': 4248,\n",
       " 'colour': 3061,\n",
       " 'correct': 3416,\n",
       " 'fast': 5564,\n",
       " 'divine': 4401,\n",
       " 'forever': 6019,\n",
       " 'presents': 11950,\n",
       " 'chains': 2561,\n",
       " 'amazing': 545,\n",
       " 'finishes': 5776,\n",
       " 'everyday': 5266,\n",
       " 'wear': 16978,\n",
       " 'purposes': 12244,\n",
       " 'base': 1296,\n",
       " 'materials': 9492,\n",
       " 'like': 8901,\n",
       " 'acrylic': 184,\n",
       " 'copper': 3388,\n",
       " 'adorable': 278,\n",
       " 'shopping': 13940,\n",
       " 'gallery': 6255,\n",
       " 'leggings': 8780,\n",
       " 'shop': 13915,\n",
       " 'apparels': 742,\n",
       " 'huge': 7301,\n",
       " 'collection': 3041,\n",
       " 'branded': 1929,\n",
       " 'clothes': 2933,\n",
       " 'bluestone': 1719,\n",
       " 'charming': 2628,\n",
       " 'prince': 12005,\n",
       " 'yellow': 17405,\n",
       " 'gold': 6538,\n",
       " 'diamond': 4196,\n",
       " 'ruby': 13214,\n",
       " 'ring': 13012,\n",
       " 'goodwill': 6562,\n",
       " 'impex': 7484,\n",
       " 'shirt': 13878,\n",
       " 'white': 17080,\n",
       " 'walldesign': 16884,\n",
       " 'small': 14264,\n",
       " 'vinyl': 16729,\n",
       " 'sticker': 14817,\n",
       " 'prices': 11989,\n",
       " 'flirtchick': 5894,\n",
       " 'plated': 11598,\n",
       " 'voylla': 16828,\n",
       " 'key': 8325,\n",
       " 'ted': 15521,\n",
       " 'smith': 14288,\n",
       " 'rim': 13009,\n",
       " 'wayfarer': 16962,\n",
       " 'black': 1617,\n",
       " 'plastic': 11594,\n",
       " 'hard': 6880,\n",
       " 'mm': 9875,\n",
       " 'style': 15001,\n",
       " 'classic': 2854,\n",
       " 'code': 3002,\n",
       " 'ts': 16135,\n",
       " 'tr': 15936,\n",
       " 'supported': 15167,\n",
       " 'single': 14096,\n",
       " 'vision': 16755,\n",
       " 'ideal': 7392,\n",
       " 'men': 9630,\n",
       " 'body': 1758,\n",
       " 'temple': 15555,\n",
       " 'weight': 17020,\n",
       " 'warranty': 16923,\n",
       " 'covered': 3483,\n",
       " 'scratch': 13532,\n",
       " 'mis': 9839,\n",
       " 'match': 9482,\n",
       " 'replace': 12796,\n",
       " 'summary': 15096,\n",
       " 'days': 3867,\n",
       " 'service': 13706,\n",
       " 'issue': 7887,\n",
       " 'mail': 9288,\n",
       " 'info': 7638,\n",
       " 'trinitieyewearimpex': 16083,\n",
       " 'gmail': 6509,\n",
       " 'damage': 3802,\n",
       " 'piece': 11479,\n",
       " 'repaired': 12784,\n",
       " 'spectacle': 14541,\n",
       " 'interchangeable': 7770,\n",
       " 'srsb': 14681,\n",
       " 'dora': 4489,\n",
       " 'balloon': 1231,\n",
       " 'train': 15961,\n",
       " 'pencil': 11310,\n",
       " 'jewel': 8024,\n",
       " 'touch': 15899,\n",
       " 'pretty': 11972,\n",
       " 'play': 11609,\n",
       " 'dew': 4146,\n",
       " 'drops': 4593,\n",
       " 'kanu': 8233,\n",
       " 'book': 1808,\n",
       " 'asus': 970,\n",
       " 'flip': 5887,\n",
       " 'tablet': 15339,\n",
       " 'synthetic': 15324,\n",
       " 'lined': 8930,\n",
       " 'finest': 5765,\n",
       " 'microfiber': 9736,\n",
       " 'interiors': 7780,\n",
       " 'used': 16447,\n",
       " 'manufacture': 9387,\n",
       " 'provide': 12142,\n",
       " 'device': 4137,\n",
       " 'optimal': 10806,\n",
       " 'levels': 8838,\n",
       " 'protection': 12125,\n",
       " 'elements': 4888,\n",
       " 'allowing': 492,\n",
       " 'condition': 3228,\n",
       " 'magnetic': 9256,\n",
       " 'latch': 8667,\n",
       " 'keeps': 8304,\n",
       " 'securely': 13606,\n",
       " 'tucked': 16159,\n",
       " 'inside': 7703,\n",
       " 'sonata': 14430,\n",
       " 'ym': 17421,\n",
       " 'deployment': 4049,\n",
       " 'clasp': 2849,\n",
       " 'khoobee': 8357,\n",
       " 'cotton': 3443,\n",
       " 'printed': 12013,\n",
       " 'salwar': 13339,\n",
       " 'suit': 15078,\n",
       " 'dupatta': 4648,\n",
       " 'dressberry': 4555,\n",
       " 'enamel': 4993,\n",
       " 'bangle': 1260,\n",
       " 'raymond': 12495,\n",
       " 'abstract': 97,\n",
       " 'double': 4505,\n",
       " 'blanket': 1642,\n",
       " 'grey': 6672,\n",
       " 'blessed': 1670,\n",
       " 'plant': 11583,\n",
       " 'container': 3315,\n",
       " 'autocare': 1059,\n",
       " 'innova': 7680,\n",
       " 'mat': 9481,\n",
       " 'toyota': 15927,\n",
       " 'softspun': 14382,\n",
       " 'multi': 10124,\n",
       " 'purpose': 12242,\n",
       " 'towel': 15916,\n",
       " 'stop': 14862,\n",
       " 'shoppers': 13937,\n",
       " 'flats': 5848,\n",
       " 'nivia': 10502,\n",
       " 'neck': 10331,\n",
       " 'nutcase': 10610,\n",
       " 'wrap': 17292,\n",
       " 'polka': 11717,\n",
       " 'dots': 4502,\n",
       " 'cool': 3377,\n",
       " 'bottle': 1853,\n",
       " 'multicolor': 10130,\n",
       " 'brings': 1999,\n",
       " 'designer': 4077,\n",
       " 'bottles': 1854,\n",
       " 'reflect': 12650,\n",
       " 'attitude': 1020,\n",
       " 'aluminium': 528,\n",
       " 'comes': 3097,\n",
       " 'harness': 6899,\n",
       " 'hook': 7218,\n",
       " 'waterproof': 16949,\n",
       " 'fresh': 6108,\n",
       " 'quirky': 12331,\n",
       " 'playful': 11615,\n",
       " 'maxima': 9526,\n",
       " 'lcgc': 8715,\n",
       " 'attivo': 1021,\n",
       " 'blue': 1712,\n",
       " 'buckle': 2082,\n",
       " 'rectangular': 12602,\n",
       " 'brase': 1940,\n",
       " 'mad': 9225,\n",
       " 'paithani': 11048,\n",
       " 'diary': 4207,\n",
       " 'bound': 1864,\n",
       " 'rockmantra': 13086,\n",
       " 'mini': 9801,\n",
       " 'monstor': 9980,\n",
       " 'ceramic': 2531,\n",
       " 'mug': 10116,\n",
       " 'thrilling': 15695,\n",
       " 'start': 14745,\n",
       " 'exclusive': 5313,\n",
       " 'creation': 3562,\n",
       " 'porcelain': 11779,\n",
       " 'crafting': 3517,\n",
       " 'ensuring': 5080,\n",
       " 'stays': 14768,\n",
       " 'permanent': 11369,\n",
       " 'years': 17402,\n",
       " 'perfect': 11343,\n",
       " 'pick': 11465,\n",
       " 'gift': 6407,\n",
       " 'loved': 9109,\n",
       " 'ones': 10749,\n",
       " 'dishwasher': 4331,\n",
       " 'microwave': 9750,\n",
       " 'details': 4113,\n",
       " 'playhood': 11617,\n",
       " 'cb': 2461,\n",
       " 'important': 7488,\n",
       " 'parts': 11169,\n",
       " 'vary': 16554,\n",
       " 'shown': 13967,\n",
       " 'image': 7443,\n",
       " 'boys': 1888,\n",
       " 'girls': 6429,\n",
       " 'tents': 15572,\n",
       " 'camping': 2265,\n",
       " 'sets': 13715,\n",
       " 'character': 2603,\n",
       " 'chhota': 2689,\n",
       " 'bheem': 1548,\n",
       " 'role': 13098,\n",
       " 'destudio': 4107,\n",
       " 'extra': 5406,\n",
       " 'large': 8657,\n",
       " 'wall': 16882,\n",
       " 'thelostpuppy': 15639,\n",
       " 'apple': 754,\n",
       " 'ipad': 7845,\n",
       " 'air': 400,\n",
       " 'designed': 4076,\n",
       " 'protect': 12121,\n",
       " 'impress': 7495,\n",
       " 'lost': 9090,\n",
       " 'puppy': 12212,\n",
       " 'robust': 13079,\n",
       " 'mobile': 9887,\n",
       " 'covers': 3485,\n",
       " 'sizes': 14127,\n",
       " 'special': 14521,\n",
       " 'anti': 686,\n",
       " 'slip': 14236,\n",
       " 'technology': 15514,\n",
       " 'protects': 12129,\n",
       " 'phone': 11435,\n",
       " 'ways': 16963,\n",
       " 'matte': 9506,\n",
       " 'finish': 5774,\n",
       " 'superior': 15145,\n",
       " 'elegance': 4878,\n",
       " 'class': 2851,\n",
       " 'sturdiness': 14995,\n",
       " 'ahhaaaa': 387,\n",
       " 'embroidered': 4958,\n",
       " 'bms': 1735,\n",
       " 'lifestyle': 8875,\n",
       " 'wallet': 16886,\n",
       " 'self': 13633,\n",
       " 'ecru': 4778,\n",
       " 'nirvana': 10488,\n",
       " 'mochi': 9898,\n",
       " 'liza': 8997,\n",
       " 'heels': 7002,\n",
       " 'silver': 14063,\n",
       " 'streak': 14907,\n",
       " 'blood': 1694,\n",
       " 'world': 17257,\n",
       " 'star': 14735,\n",
       " 'kadhai': 8194,\n",
       " 'herberto': 7048,\n",
       " 'girl': 6426,\n",
       " 'layered': 8699,\n",
       " 'dress': 4554,\n",
       " 'etti': 5232,\n",
       " 'aero': 321,\n",
       " 'royal': 13174,\n",
       " 'brown': 2042,\n",
       " 'ice': 7378,\n",
       " 'combo': 3093,\n",
       " 'ecomradhikas': 4772,\n",
       " 'kurti': 8547,\n",
       " 'harp': 6901,\n",
       " 'lady': 8604,\n",
       " 'stark': 14738,\n",
       " 'maxi': 9524,\n",
       " 'occasion': 10662,\n",
       " 'fabric': 5449,\n",
       " 'georgette': 6369,\n",
       " 'oviyon': 10968,\n",
       " 'shopoj': 13932,\n",
       " 'bellies': 1454,\n",
       " 'ethnic': 5220,\n",
       " 'heel': 6999,\n",
       " 'height': 7006,\n",
       " 'mojaris': 9943,\n",
       " 'creative': 3565,\n",
       " 'artful': 875,\n",
       " 'colorful': 3054,\n",
       " 'spacial': 14488,\n",
       " 'fastivals': 5572,\n",
       " 'daily': 3790,\n",
       " 'soft': 14369,\n",
       " 'extremely': 5415,\n",
       " 'comfortable': 3108,\n",
       " 'new': 10404,\n",
       " 'range': 12445,\n",
       " 'launched': 8682,\n",
       " 'footwears': 6006,\n",
       " 'traditional': 15956,\n",
       " 'modern': 9912,\n",
       " 'official': 10700,\n",
       " 'preferd': 11916,\n",
       " 'pieces': 11480,\n",
       " 'sandal': 13352,\n",
       " 'depending': 4045,\n",
       " 'insole': 7704,\n",
       " 'metro': 9705,\n",
       " 'sheet': 13825,\n",
       " 'outer': 10916,\n",
       " 'pair': 11041,\n",
       " 'legrand': 8783,\n",
       " 'myrius': 10215,\n",
       " 'motor': 10028,\n",
       " 'starter': 14747,\n",
       " 'way': 16961,\n",
       " 'electrical': 4869,\n",
       " 'switch': 15291,\n",
       " 'annapurna': 658,\n",
       " 'silks': 14057,\n",
       " 'woven': 17279,\n",
       " 'kanjivaram': 8232,\n",
       " 'handloom': 6834,\n",
       " 'silk': 14053,\n",
       " 'sari': 13394,\n",
       " 'wine': 17139,\n",
       " 'cement': 2509,\n",
       " 'twin': 16223,\n",
       " 'twine': 16224,\n",
       " 'line': 8927,\n",
       " 'orange': 10821,\n",
       " 'trendy': 16043,\n",
       " 'look': 9066,\n",
       " 'daughter': 3860,\n",
       " 'buying': 2185,\n",
       " 'coloured': 3063,\n",
       " 'rayon': 12496,\n",
       " 'lace': 8581,\n",
       " 'gathers': 6300,\n",
       " 'waist': 16863,\n",
       " 'team': 15490,\n",
       " 'cute': 3745,\n",
       " 'shoes': 13906,\n",
       " 'sandals': 13354,\n",
       " 'complete': 3176,\n",
       " 'midi': 9756,\n",
       " 'knee': 8437,\n",
       " 'pattern': 11221,\n",
       " 'sleeve': 14205,\n",
       " 'warm': 16913,\n",
       " 'tumble': 16175,\n",
       " 'medium': 9581,\n",
       " 'heat': 6983,\n",
       " 'dark': 3833,\n",
       " 'colours': 3069,\n",
       " 'separately': 13676,\n",
       " 'charu': 2631,\n",
       " 'diva': 4388,\n",
       " 'studio': 14979,\n",
       " 'footwear': 6005,\n",
       " 'digilight': 4243,\n",
       " 'rice': 12984,\n",
       " 'diwali': 4411,\n",
       " 'adorn': 282,\n",
       " 'home': 7192,\n",
       " 'gorgeous': 6571,\n",
       " 'lighting': 8891,\n",
       " 'solutions': 14418,\n",
       " 'house': 7256,\n",
       " 'available': 1079,\n",
       " 'varied': 16541,\n",
       " 'array': 863,\n",
       " 'types': 16248,\n",
       " 'beautify': 1396,\n",
       " 'abode': 72,\n",
       " 'order': 10828,\n",
       " 'today': 15810,\n",
       " 'compliments': 3187,\n",
       " 'flow': 5922,\n",
       " 'asian': 919,\n",
       " 'gems': 6332,\n",
       " 'jewels': 8042,\n",
       " 'dhaatu': 4164,\n",
       " 'opal': 10770,\n",
       " 'united': 16364,\n",
       " 'colors': 3057,\n",
       " 'benetton': 1482,\n",
       " 'inject': 7662,\n",
       " 'zest': 17505,\n",
       " 'life': 8873,\n",
       " 'colored': 3052,\n",
       " 'fashion': 5542,\n",
       " 'esteemed': 5203,\n",
       " 'alluring': 497,\n",
       " 'fit': 5797,\n",
       " 'materialized': 9490,\n",
       " 'optimum': 10810,\n",
       " 'professional': 12066,\n",
       " 'designers': 4078,\n",
       " 'skin': 14155,\n",
       " 'ensures': 5079,\n",
       " 'breathability': 1961,\n",
       " 'clothing': 2934,\n",
       " 'shorts': 13951,\n",
       " 'jeans': 8003,\n",
       " 'matching': 9485,\n",
       " 'gifted': 6409,\n",
       " 'friend': 6120,\n",
       " 'delight': 3996,\n",
       " 'impressive': 7500,\n",
       " 'gki': 6441,\n",
       " 'euro': 5238,\n",
       " 'tennis': 15568,\n",
       " 'racquet': 12362,\n",
       " 'senior': 13653,\n",
       " 'imagination': 7446,\n",
       " 'striped': 14950,\n",
       " 'pipe': 11531,\n",
       " 'pressure': 11962,\n",
       " 'nissan': 10491,\n",
       " 'micra': 9729,\n",
       " 'db': 3873,\n",
       " 'horn': 7231,\n",
       " 'tired': 15774,\n",
       " 'low': 9120,\n",
       " 'sound': 14463,\n",
       " 'whicle': 17065,\n",
       " 'head': 6954,\n",
       " 'turner': 16193,\n",
       " 'blow': 1704,\n",
       " 'melodies': 9620,\n",
       " 'tune': 16181,\n",
       " 'increased': 7549,\n",
       " 'enhanced': 5050,\n",
       " 'loud': 9100,\n",
       " 'helps': 7022,\n",
       " 'lane': 8641,\n",
       " 'ahead': 384,\n",
       " 'installed': 7723,\n",
       " 'driving': 4580,\n",
       " 'roads': 13065,\n",
       " 'highways': 7099,\n",
       " 'highway': 7098,\n",
       " 'travelers': 16006,\n",
       " 'journey': 8120,\n",
       " 'stock': 14847,\n",
       " 'availability': 1077,\n",
       " 'tone': 15840,\n",
       " 'trumpet': 16125,\n",
       " 'cone': 3238,\n",
       " 'compressor': 3198,\n",
       " 'netgear': 10391,\n",
       " 'wireless': 17171,\n",
       " 'adsl': 293,\n",
       " 'modem': 9909,\n",
       " 'router': 13167,\n",
       " 'broadband': 2017,\n",
       " 'edition': 4793,\n",
       " 'dgn': 4160,\n",
       " 'fastrack': 5574,\n",
       " 'nd': 10313,\n",
       " 'pp': 11867,\n",
       " 'teevirus': 15535,\n",
       " 'couture': 3479,\n",
       " 'pink': 11512,\n",
       " 'adroitz': 292,\n",
       " 'socket': 14360,\n",
       " 'holder': 7173,\n",
       " 'sony': 14440,\n",
       " 'xperia': 17358,\n",
       " 'sp': 14483,\n",
       " 'orientation': 10857,\n",
       " 'portrait': 11799,\n",
       " 'mount': 10040,\n",
       " 'dashboard': 3850,\n",
       " 'yes': 17407,\n",
       " 'description': 4065,\n",
       " 'clips': 2910,\n",
       " 'adjustable': 257,\n",
       " 'max': 9522,\n",
       " 'opening': 10779,\n",
       " 'fits': 5801,\n",
       " 'inches': 7526,\n",
       " 'phones': 11437,\n",
       " 'elastic': 4853,\n",
       " 'fixation': 5811,\n",
       " 'rubber': 13208,\n",
       " 'band': 1246,\n",
       " 'steer': 14781,\n",
       " 'wheel': 17056,\n",
       " 'won': 17222,\n",
       " 'effect': 4808,\n",
       " 'installation': 7722,\n",
       " 'need': 10347,\n",
       " 'tools': 15855,\n",
       " 'just': 8174,\n",
       " 'seconds': 13593,\n",
       " 'safety': 13298,\n",
       " 'highly': 7095,\n",
       " 'compact': 3139,\n",
       " 'moved': 10055,\n",
       " 'freely': 6095,\n",
       " 'security': 13608,\n",
       " 'risk': 13035,\n",
       " 'embedded': 4931,\n",
       " 'silicone': 14051,\n",
       " 'pad': 11017,\n",
       " 'scratching': 13534,\n",
       " 'gash': 6291,\n",
       " 'cradle': 3510,\n",
       " 'fuson': 6219,\n",
       " 'samsung': 13347,\n",
       " 'galaxy': 6252,\n",
       " 'allure': 496,\n",
       " 'auto': 1058,\n",
       " 'kalai': 8204,\n",
       " 'tata': 15457,\n",
       " 'nano': 10253,\n",
       " 'stylistry': 15022,\n",
       " 'tootpado': 15862,\n",
       " 'punches': 12199,\n",
       " 'punching': 12200,\n",
       " 'machines': 9220,\n",
       " 'spring': 14643,\n",
       " 'action': 187,\n",
       " 'lever': 8839,\n",
       " 'punch': 12197,\n",
       " 'easier': 4738,\n",
       " 'simple': 14070,\n",
       " 'crisp': 3596,\n",
       " 'perfectly': 11349,\n",
       " 'shaped': 13778,\n",
       " 'designs': 4083,\n",
       " 'paper': 11120,\n",
       " 'create': 3558,\n",
       " 'stencil': 14791,\n",
       " 'shapes': 13783,\n",
       " 'die': 4216,\n",
       " 'cuts': 3754,\n",
       " 'templates': 15554,\n",
       " 'nesting': 10386,\n",
       " 'graduating': 6613,\n",
       " 'layers': 8701,\n",
       " 'cleanly': 2875,\n",
       " 'time': 15748,\n",
       " 'consistently': 3295,\n",
       " 'specially': 14529,\n",
       " 'kids': 8368,\n",
       " 'diy': 4414,\n",
       " 'artwork': 900,\n",
       " 'wrapping': 17296,\n",
       " 'envelopes': 5115,\n",
       " 'memory': 9629,\n",
       " 'books': 1811,\n",
       " 'greeting': 6665,\n",
       " 'cards': 2342,\n",
       " 'tags': 15361,\n",
       " 'scrapbooks': 13529,\n",
       " 'decorations': 3926,\n",
       " 'craft': 3511,\n",
       " 'lxbxh': 9200,\n",
       " 'cut': 3744,\n",
       " 'multicolour': 10133,\n",
       " 'sheets': 13828,\n",
       " 'lotus': 9098,\n",
       " 'flower': 5923,\n",
       " 'shaper': 13780,\n",
       " 'heads': 6964,\n",
       " 'gossip': 6574,\n",
       " 'loafers': 9021,\n",
       " 'love': 9106,\n",
       " 'paired': 11043,\n",
       " 'outfit': 10918,\n",
       " 'flaunt': 5856,\n",
       " 'twist': 16231,\n",
       " 'dance': 3814,\n",
       " 'floor': 5905,\n",
       " 'worn': 17261,\n",
       " 'little': 8981,\n",
       " 'fun': 6176,\n",
       " 'filled': 5736,\n",
       " 'night': 10448,\n",
       " 'dhrohar': 4179,\n",
       " 'bling': 1674,\n",
       " 'candy': 2281,\n",
       " 'polo': 11724,\n",
       " 'regular': 12684,\n",
       " 'suitable': 15079,\n",
       " 'half': 6801,\n",
       " 'polycotton': 11732,\n",
       " 'rakshita': 12432,\n",
       " 'bring': 1997,\n",
       " 'work': 17244,\n",
       " 'weekend': 17011,\n",
       " 'spruce': 14649,\n",
       " 'wearing': 16984,\n",
       " 'rich': 12985,\n",
       " 'total': 15890,\n",
       " 'comfort': 3106,\n",
       " 'pockets': 11683,\n",
       " 'similar': 14067,\n",
       " 'blk': 1685,\n",
       " 'wht': 17098,\n",
       " 'org': 10838,\n",
       " 'yves': 17457,\n",
       " 'bertelin': 1499,\n",
       " 'ybscr': 17397,\n",
       " 'mechanism': 9566,\n",
       " 'quartz': 12305,\n",
       " 'party': 11170,\n",
       " 'wedding': 17004,\n",
       " 'source': 14469,\n",
       " 'battery': 1333,\n",
       " 'powered': 11859,\n",
       " 'month': 9983,\n",
       " 'plating': 11604,\n",
       " 'yrs': 17447,\n",
       " 'movement': 10056,\n",
       " 'card': 2336,\n",
       " 'wooden': 17232,\n",
       " 'junk': 8169,\n",
       " 'brass': 1941,\n",
       " 'dori': 4491,\n",
       " 'mxofere': 10198,\n",
       " 'almod': 500,\n",
       " 'honey': 7206,\n",
       " 'soap': 14344,\n",
       " 'neem': 10358,\n",
       " 'tulsi': 16174,\n",
       " 'teatree': 15502,\n",
       " 'facewash': 5470,\n",
       " 'kit': 8401,\n",
       " 'intex': 7799,\n",
       " 'feet': 5643,\n",
       " 'swimming': 15276,\n",
       " 'pool': 11764,\n",
       " 'hand': 6815,\n",
       " 'pump': 12194,\n",
       " 'inflatables': 7635,\n",
       " 'deep': 3943,\n",
       " 'tube': 16154,\n",
       " 'bra': 1902,\n",
       " 'utmost': 16469,\n",
       " 'softness': 14380,\n",
       " 'exclusively': 5314,\n",
       " 'understands': 16324,\n",
       " 'improves': 7508,\n",
       " 'contours': 3336,\n",
       " 'non': 10523,\n",
       " 'padded': 11018,\n",
       " 'boosting': 1816,\n",
       " 'confidence': 3242,\n",
       " 'jewelry': 8041,\n",
       " 'sterling': 14802,\n",
       " 'cubic': 3661,\n",
       " 'zirconia': 17532,\n",
       " 'sapphire': 13383,\n",
       " 'rhodium': 12973,\n",
       " 'bracelet': 1903,\n",
       " 'feminine': 5657,\n",
       " 'rosy': 13148,\n",
       " 'created': 3559,\n",
       " 'sapphires': 13384,\n",
       " 'alternate': 516,\n",
       " 'brilliant': 1994,\n",
       " 'cz': 3778,\n",
       " 'sleek': 14194,\n",
       " 'links': 8947,\n",
       " 'striking': 14941,\n",
       " 'gem': 6327,\n",
       " 'tgw': 15619,\n",
       " 'ct': 3650,\n",
       " 'koldfire': 8475,\n",
       " 'whirpool': 17073,\n",
       " 'ac': 107,\n",
       " 'compatible': 3161,\n",
       " 'remote': 12758,\n",
       " 'controller': 3348,\n",
       " 'aa': 0,\n",
       " 'aaa': 1,\n",
       " 'keypads': 8332,\n",
       " 'control': 3345,\n",
       " 'virgin': 16738,\n",
       " 'indicated': 7579,\n",
       " 'tv': 16209,\n",
       " 'required': 12830,\n",
       " 'complimentary': 3185,\n",
       " 'batteries': 1331,\n",
       " 'tested': 15592,\n",
       " 'inserted': 7700,\n",
       " 'enjoy': 5058,\n",
       " 'favourite': 5593,\n",
       " 'shows': 13973,\n",
       " 'programs': 12080,\n",
       " 'accessing': 126,\n",
       " 'options': 10815,\n",
       " 'right': 13005,\n",
       " 'couch': 3450,\n",
       " 'illustrated': 7439,\n",
       " 'indication': 7581,\n",
       " 'original': 10866,\n",
       " 'slightly': 14226,\n",
       " 'certainly': 2537,\n",
       " 'accurately': 156,\n",
       " 'matches': 9484,\n",
       " 'displayed': 4349,\n",
       " 'compatibility': 3159,\n",
       " 'names': 10247,\n",
       " 'whirlpool': 17072,\n",
       " 'devices': 4138,\n",
       " 'controlled': 3347,\n",
       " 'trendz': 16044,\n",
       " 'crystal': 3642,\n",
       " 'mani': 9362,\n",
       " 'pendants': 11313,\n",
       " 'mangalsutra': 9359,\n",
       " 'suave': 15034,\n",
       " 'naturals': 10280,\n",
       " 'everlasting': 5263,\n",
       " 'sunshine': 15128,\n",
       " 'conditioner': 3229,\n",
       " 'conditioning': 3231,\n",
       " 'hair': 6792,\n",
       " 'damaged': 3803,\n",
       " 'traits': 15966,\n",
       " 'rk': 13049,\n",
       " 'dailyobjects': 3791,\n",
       " 'slim': 14228,\n",
       " 'largest': 8659,\n",
       " 'customisable': 3734,\n",
       " 'smartphone': 14272,\n",
       " 'cases': 2410,\n",
       " 'curated': 3697,\n",
       " 'licensed': 8867,\n",
       " 'painstakingly': 11033,\n",
       " 'sourced': 14470,\n",
       " 'artists': 894,\n",
       " 'currently': 3712,\n",
       " 'countries': 3460,\n",
       " 'different': 4226,\n",
       " 'models': 9908,\n",
       " 'smartphones': 14273,\n",
       " 'related': 12714,\n",
       " 'video': 16692,\n",
       " 'wi': 17099,\n",
       " 'retail': 12896,\n",
       " ...}"
      ]
     },
     "execution_count": 40,
     "metadata": {},
     "output_type": "execute_result"
    }
   ],
   "source": [
    "vect.vocabulary_"
   ]
  },
  {
   "cell_type": "code",
   "execution_count": 41,
   "id": "interesting-texture",
   "metadata": {
    "scrolled": true
   },
   "outputs": [
    {
     "name": "stdout",
     "output_type": "stream",
     "text": [
      "Accuracy of model on training data: 0.9505340793489319\n"
     ]
    }
   ],
   "source": [
    "'''\n",
    "This code block is for training vectorized data\n",
    "\n",
    "'''\n",
    "# Instantiate a Multinomial Naive Bayes model\n",
    "model=MultinomialNB()\n",
    "\n",
    "# Train the model\n",
    "model.fit(X_train_matrix, y_train)\n",
    "\n",
    "# Scoring the trained model\n",
    "print(\"Accuracy of model on training data:\" , model.score(X_train_matrix, y_train))"
   ]
  },
  {
   "cell_type": "code",
   "execution_count": 42,
   "id": "pointed-inspector",
   "metadata": {
    "scrolled": true
   },
   "outputs": [
    {
     "name": "stdout",
     "output_type": "stream",
     "text": [
      "Accuracy of model on testing data: 0.9359267734553776\n"
     ]
    }
   ],
   "source": [
    "'''\n",
    "This code block is for predicting & scoring test data\n",
    "\n",
    "'''\n",
    "\n",
    "# Converting the test data\n",
    "X_test_matrix = vect.transform(X_test) \n",
    "\n",
    "# Scoring for the test data\n",
    "print (\"Accuracy of model on testing data:\", model.score(X_test_matrix, y_test))"
   ]
  },
  {
   "cell_type": "code",
   "execution_count": 43,
   "id": "loved-establishment",
   "metadata": {
    "scrolled": true
   },
   "outputs": [
    {
     "name": "stdout",
     "output_type": "stream",
     "text": [
      "Wall time: 155 ms\n"
     ]
    },
    {
     "data": {
      "text/plain": [
       "MultinomialNB()"
      ]
     },
     "execution_count": 43,
     "metadata": {},
     "output_type": "execute_result"
    }
   ],
   "source": [
    "'''\n",
    "Time taken by our model for traing \n",
    "'''\n",
    "%time model.fit(X_train_matrix, y_train)"
   ]
  },
  {
   "cell_type": "code",
   "execution_count": 44,
   "id": "mature-sarah",
   "metadata": {
    "scrolled": false
   },
   "outputs": [
    {
     "name": "stdout",
     "output_type": "stream",
     "text": [
      "              precision    recall  f1-score   support\n",
      "\n",
      "           0       0.93      0.98      0.96       221\n",
      "           1       0.81      0.71      0.76        86\n",
      "           2       0.79      0.55      0.65        55\n",
      "           3       0.78      0.94      0.85       125\n",
      "           4       1.00      0.08      0.14        13\n",
      "           5       0.99      0.98      0.99      1223\n",
      "           6       0.92      0.73      0.81       119\n",
      "           7       1.00      0.67      0.80         3\n",
      "           8       0.98      0.99      0.98       264\n",
      "           9       0.93      0.90      0.91        29\n",
      "          10       0.60      0.75      0.67         4\n",
      "          11       1.00      0.50      0.67         6\n",
      "          12       1.00      0.67      0.80         3\n",
      "          13       0.93      0.98      0.95       203\n",
      "          14       1.00      0.20      0.33         5\n",
      "          15       0.90      1.00      0.95       113\n",
      "          16       1.00      0.24      0.38        17\n",
      "          17       0.90      1.00      0.95       709\n",
      "          18       0.98      0.92      0.95       135\n",
      "          19       0.98      0.92      0.95       236\n",
      "          20       0.95      0.63      0.76        62\n",
      "          21       1.00      0.62      0.77         8\n",
      "          22       0.83      0.41      0.55        37\n",
      "          23       1.00      1.00      1.00         7\n",
      "          24       0.86      0.97      0.91        71\n",
      "          25       0.79      0.84      0.82        64\n",
      "          26       0.96      0.99      0.98       110\n",
      "          27       1.00      0.40      0.57         5\n",
      "\n",
      "    accuracy                           0.94      3933\n",
      "   macro avg       0.92      0.73      0.78      3933\n",
      "weighted avg       0.94      0.94      0.93      3933\n",
      "\n"
     ]
    }
   ],
   "source": [
    "# Printing score \n",
    "predicted_result=model.predict(X_test_matrix)\n",
    "print(classification_report(y_test,predicted_result))"
   ]
  },
  {
   "cell_type": "markdown",
   "id": "sudden-capture",
   "metadata": {},
   "source": [
    ">Now we will use TfidfVectorizer  and compare the accuracy of models on the basis of method of vectorization.<br>\n",
    "We can clearly see that Count Vectorizer give number of frequency with respect to index of vocabulary where as tf-idf consider overall documents of weight of words.<br>\n",
    ">- Medium article on TfidfVectorizer- https://medium.com/@cmukesh8688/tf-idf-vectorizer-scikit-learn-dbc0244a911a<br>\n",
    ">- Scikit learn documentation\n",
    "https://scikitlearn.org/stable/modules/generated/sklearn.feature_extraction.text.TfidfVectorizer.html"
   ]
  },
  {
   "cell_type": "code",
   "execution_count": 45,
   "id": "graphic-riding",
   "metadata": {
    "scrolled": true
   },
   "outputs": [],
   "source": [
    "'''\n",
    "This code block is for converting the training data to Tf-Idf form\n",
    "\n",
    "'''\n",
    "# Removing stop words\n",
    "vectorizer = TfidfVectorizer(analyzer = 'word' , stop_words = 'english')\n",
    "# Converting the train data\n",
    "X_train_tfidf = vectorizer.fit_transform(X_train)"
   ]
  },
  {
   "cell_type": "code",
   "execution_count": 46,
   "id": "current-trial",
   "metadata": {
    "scrolled": true
   },
   "outputs": [
    {
     "name": "stdout",
     "output_type": "stream",
     "text": [
      "Accuracy of model on training data: 0.8825025432349949\n"
     ]
    }
   ],
   "source": [
    "'''\n",
    "This code block is for training\n",
    "\n",
    "'''\n",
    "# Instantiate a Multinomial Naive Bayes model\n",
    "model2=MultinomialNB()\n",
    "\n",
    "# Fitting to multinomial NB model\n",
    "model2.fit(X_train_tfidf, y_train)\n",
    "\n",
    "# Scoring the trained model (Expected to be above 95 percent)\n",
    "print(\"Accuracy of model on training data:\" , model2.score(X_train_tfidf, y_train))"
   ]
  },
  {
   "cell_type": "code",
   "execution_count": 47,
   "id": "floppy-stewart",
   "metadata": {
    "scrolled": true
   },
   "outputs": [
    {
     "name": "stdout",
     "output_type": "stream",
     "text": [
      "Accuracy of model on testing data: 0.8721078057462497\n"
     ]
    }
   ],
   "source": [
    "'''\n",
    "This code block is for predicting & scoring test data\n",
    "\n",
    "'''\n",
    "# Converting the test data\n",
    "X_test_tfidf = vectorizer.transform(X_test) \n",
    "\n",
    "# Printing score\n",
    "print (\"Accuracy of model on testing data:\" , model2.score(X_test_tfidf, y_test))"
   ]
  },
  {
   "cell_type": "markdown",
   "id": "comic-emperor",
   "metadata": {},
   "source": [
    ">We used two vectorizer here, CountVectorizer and TfidfVectorizer, and out of these two vectorizer we can observe that the CountVectorizer performed better than TfidfVectorizer.<br>"
   ]
  },
  {
   "cell_type": "markdown",
   "id": "seasonal-london",
   "metadata": {},
   "source": [
    ">In the following models we will use Pipeline class in Scilkit-Learn that behaves like a compound classifier.<br>"
   ]
  },
  {
   "cell_type": "markdown",
   "id": "conscious-assumption",
   "metadata": {},
   "source": [
    "### Using Logistic Regression"
   ]
  },
  {
   "cell_type": "code",
   "execution_count": 48,
   "id": "conceptual-ontario",
   "metadata": {},
   "outputs": [
    {
     "name": "stderr",
     "output_type": "stream",
     "text": [
      "c:\\users\\vaishnavi jha\\appdata\\local\\programs\\python\\python38-32\\lib\\site-packages\\sklearn\\linear_model\\_logistic.py:763: ConvergenceWarning: lbfgs failed to converge (status=1):\n",
      "STOP: TOTAL NO. of ITERATIONS REACHED LIMIT.\n",
      "\n",
      "Increase the number of iterations (max_iter) or scale the data as shown in:\n",
      "    https://scikit-learn.org/stable/modules/preprocessing.html\n",
      "Please also refer to the documentation for alternative solver options:\n",
      "    https://scikit-learn.org/stable/modules/linear_model.html#logistic-regression\n",
      "  n_iter_i = _check_optimize_result(\n"
     ]
    },
    {
     "name": "stdout",
     "output_type": "stream",
     "text": [
      "Accuracy 0.9633867276887872\n",
      "Accuracy of model on training data: 0.9756485249237029\n",
      "                                   precision    recall  f1-score   support\n",
      "\n",
      "                         Clothing       0.97      0.98      0.98       221\n",
      "                        Jewellery       0.99      0.79      0.88        86\n",
      "                         Footwear       0.88      0.82      0.85        55\n",
      "            Mobiles & Accessories       0.99      0.93      0.96       125\n",
      "                       Automotive       1.00      0.77      0.87        13\n",
      "       Home Decor & Festive Needs       0.96      1.00      0.98      1223\n",
      "         Beauty and Personal Care       0.95      0.96      0.95       119\n",
      "                  Home Furnishing       1.00      0.67      0.80         3\n",
      "                 Kitchen & Dining       0.98      0.98      0.98       264\n",
      "                        Computers       0.97      0.97      0.97        29\n",
      "                          Watches       1.00      0.50      0.67         4\n",
      "                        Baby Care       1.00      0.83      0.91         6\n",
      "                 Tools & Hardware       0.00      0.00      0.00         3\n",
      "           Toys & School Supplies       0.92      0.99      0.95       203\n",
      "                Pens & Stationery       0.00      0.00      0.00         5\n",
      "            Bags, Wallets & Belts       0.93      0.98      0.96       113\n",
      "                        Furniture       1.00      0.53      0.69        17\n",
      "                 Sports & Fitness       0.99      1.00      0.99       709\n",
      "            Cameras & Accessories       0.92      0.96      0.94       135\n",
      "                 Home Improvement       0.96      1.00      0.98       236\n",
      "Health & Personal Care Appliances       0.95      0.66      0.78        62\n",
      "                       Sunglasses       1.00      0.62      0.77         8\n",
      "                           Gaming       0.86      0.68      0.76        37\n",
      "                     Pet Supplies       1.00      1.00      1.00         7\n",
      "                   Home & Kitchen       0.99      0.94      0.96        71\n",
      "               Home Entertainment       0.82      0.83      0.82        64\n",
      "                           eBooks       1.00      0.99      1.00       110\n",
      "                          Eyewear       0.00      0.00      0.00         5\n",
      "\n",
      "                         accuracy                           0.96      3933\n",
      "                        macro avg       0.86      0.76      0.80      3933\n",
      "                     weighted avg       0.96      0.96      0.96      3933\n",
      "\n"
     ]
    },
    {
     "name": "stderr",
     "output_type": "stream",
     "text": [
      "c:\\users\\vaishnavi jha\\appdata\\local\\programs\\python\\python38-32\\lib\\site-packages\\sklearn\\metrics\\_classification.py:1245: UndefinedMetricWarning: Precision and F-score are ill-defined and being set to 0.0 in labels with no predicted samples. Use `zero_division` parameter to control this behavior.\n",
      "  _warn_prf(average, modifier, msg_start, len(result))\n",
      "c:\\users\\vaishnavi jha\\appdata\\local\\programs\\python\\python38-32\\lib\\site-packages\\sklearn\\metrics\\_classification.py:1245: UndefinedMetricWarning: Precision and F-score are ill-defined and being set to 0.0 in labels with no predicted samples. Use `zero_division` parameter to control this behavior.\n",
      "  _warn_prf(average, modifier, msg_start, len(result))\n",
      "c:\\users\\vaishnavi jha\\appdata\\local\\programs\\python\\python38-32\\lib\\site-packages\\sklearn\\metrics\\_classification.py:1245: UndefinedMetricWarning: Precision and F-score are ill-defined and being set to 0.0 in labels with no predicted samples. Use `zero_division` parameter to control this behavior.\n",
      "  _warn_prf(average, modifier, msg_start, len(result))\n"
     ]
    }
   ],
   "source": [
    "logreg = Pipeline([('vect', CountVectorizer()),\n",
    "                ('tfidf', TfidfTransformer()),\n",
    "                ('clf', LogisticRegression()),\n",
    "               ])\n",
    "logreg.fit(X_train, y_train)\n",
    "\n",
    "y_pred = logreg.predict(X_test)\n",
    "\n",
    "print('Accuracy %s' % accuracy_score(y_pred, y_test))\n",
    "print (\"Accuracy of model on training data:\" , logreg.score(X_train, y_train))\n",
    "print(classification_report(y_test, y_pred,target_names=top_cat))"
   ]
  },
  {
   "cell_type": "markdown",
   "id": "greater-narrative",
   "metadata": {},
   "source": [
    "### Using Stochastic Gradient Descent (SGD)"
   ]
  },
  {
   "cell_type": "code",
   "execution_count": 49,
   "id": "enhanced-content",
   "metadata": {},
   "outputs": [
    {
     "name": "stdout",
     "output_type": "stream",
     "text": [
      "Accuracy 0.9486397152301043\n",
      "Accuracy of model on training data: 0.9595625635808749\n",
      "                                   precision    recall  f1-score   support\n",
      "\n",
      "                         Clothing       0.95      0.98      0.97       221\n",
      "                        Jewellery       0.92      0.56      0.70        86\n",
      "                         Footwear       0.88      0.84      0.86        55\n",
      "            Mobiles & Accessories       0.97      0.91      0.94       125\n",
      "                       Automotive       1.00      0.85      0.92        13\n",
      "       Home Decor & Festive Needs       0.95      1.00      0.97      1223\n",
      "         Beauty and Personal Care       0.92      0.90      0.91       119\n",
      "                  Home Furnishing       1.00      0.33      0.50         3\n",
      "                 Kitchen & Dining       0.96      0.98      0.97       264\n",
      "                        Computers       0.93      0.97      0.95        29\n",
      "                          Watches       0.50      0.25      0.33         4\n",
      "                        Baby Care       1.00      0.83      0.91         6\n",
      "                 Tools & Hardware       1.00      0.33      0.50         3\n",
      "           Toys & School Supplies       0.93      0.96      0.95       203\n",
      "                Pens & Stationery       0.00      0.00      0.00         5\n",
      "            Bags, Wallets & Belts       0.89      0.96      0.93       113\n",
      "                        Furniture       1.00      0.41      0.58        17\n",
      "                 Sports & Fitness       0.98      1.00      0.99       709\n",
      "            Cameras & Accessories       0.95      0.92      0.94       135\n",
      "                 Home Improvement       0.94      0.98      0.96       236\n",
      "Health & Personal Care Appliances       1.00      0.52      0.68        62\n",
      "                       Sunglasses       1.00      0.62      0.77         8\n",
      "                           Gaming       0.88      0.57      0.69        37\n",
      "                     Pet Supplies       0.78      1.00      0.88         7\n",
      "                   Home & Kitchen       0.95      0.97      0.96        71\n",
      "               Home Entertainment       0.75      0.83      0.79        64\n",
      "                           eBooks       1.00      1.00      1.00       110\n",
      "                          Eyewear       0.00      0.00      0.00         5\n",
      "\n",
      "                         accuracy                           0.95      3933\n",
      "                        macro avg       0.86      0.73      0.77      3933\n",
      "                     weighted avg       0.95      0.95      0.94      3933\n",
      "\n"
     ]
    },
    {
     "name": "stderr",
     "output_type": "stream",
     "text": [
      "c:\\users\\vaishnavi jha\\appdata\\local\\programs\\python\\python38-32\\lib\\site-packages\\sklearn\\metrics\\_classification.py:1245: UndefinedMetricWarning: Precision and F-score are ill-defined and being set to 0.0 in labels with no predicted samples. Use `zero_division` parameter to control this behavior.\n",
      "  _warn_prf(average, modifier, msg_start, len(result))\n",
      "c:\\users\\vaishnavi jha\\appdata\\local\\programs\\python\\python38-32\\lib\\site-packages\\sklearn\\metrics\\_classification.py:1245: UndefinedMetricWarning: Precision and F-score are ill-defined and being set to 0.0 in labels with no predicted samples. Use `zero_division` parameter to control this behavior.\n",
      "  _warn_prf(average, modifier, msg_start, len(result))\n",
      "c:\\users\\vaishnavi jha\\appdata\\local\\programs\\python\\python38-32\\lib\\site-packages\\sklearn\\metrics\\_classification.py:1245: UndefinedMetricWarning: Precision and F-score are ill-defined and being set to 0.0 in labels with no predicted samples. Use `zero_division` parameter to control this behavior.\n",
      "  _warn_prf(average, modifier, msg_start, len(result))\n"
     ]
    }
   ],
   "source": [
    "sgd = Pipeline([('vect', CountVectorizer()),\n",
    "                ('tfidf', TfidfTransformer()),\n",
    "                ('clf', SGDClassifier(loss='hinge', penalty='l2',alpha=1e-3, random_state=42, max_iter=5, tol=None)),\n",
    "               ])\n",
    "sgd.fit(X_train, y_train)\n",
    "\n",
    "y_pred = sgd.predict(X_test)\n",
    "\n",
    "print('Accuracy %s' % accuracy_score(y_pred, y_test))\n",
    "print (\"Accuracy of model on training data:\" , sgd.score(X_train, y_train))\n",
    "print(classification_report(y_test, y_pred,target_names=top_cat))"
   ]
  },
  {
   "cell_type": "markdown",
   "id": "engaged-regular",
   "metadata": {},
   "source": [
    "### Using Support Vector Machines(SVM)"
   ]
  },
  {
   "cell_type": "code",
   "execution_count": 50,
   "id": "alternative-cancellation",
   "metadata": {},
   "outputs": [
    {
     "name": "stdout",
     "output_type": "stream",
     "text": [
      "Accuracy 0.9750826341215357\n",
      "Accuracy of model on training data: 0.9911622583926755\n",
      "                                   precision    recall  f1-score   support\n",
      "\n",
      "                         Clothing       0.99      0.99      0.99       221\n",
      "                        Jewellery       0.90      0.85      0.87        86\n",
      "                         Footwear       0.94      0.91      0.93        55\n",
      "            Mobiles & Accessories       1.00      0.96      0.98       125\n",
      "                       Automotive       1.00      0.92      0.96        13\n",
      "       Home Decor & Festive Needs       0.99      0.99      0.99      1223\n",
      "         Beauty and Personal Care       0.94      0.96      0.95       119\n",
      "                  Home Furnishing       1.00      1.00      1.00         3\n",
      "                 Kitchen & Dining       1.00      0.98      0.99       264\n",
      "                        Computers       0.97      0.97      0.97        29\n",
      "                          Watches       1.00      0.50      0.67         4\n",
      "                        Baby Care       1.00      1.00      1.00         6\n",
      "                 Tools & Hardware       0.67      0.67      0.67         3\n",
      "           Toys & School Supplies       0.94      1.00      0.97       203\n",
      "                Pens & Stationery       1.00      0.20      0.33         5\n",
      "            Bags, Wallets & Belts       0.94      1.00      0.97       113\n",
      "                        Furniture       1.00      0.71      0.83        17\n",
      "                 Sports & Fitness       1.00      1.00      1.00       709\n",
      "            Cameras & Accessories       0.94      0.98      0.96       135\n",
      "                 Home Improvement       0.98      1.00      0.99       236\n",
      "Health & Personal Care Appliances       0.98      0.74      0.84        62\n",
      "                       Sunglasses       1.00      0.75      0.86         8\n",
      "                           Gaming       0.85      0.92      0.88        37\n",
      "                     Pet Supplies       1.00      1.00      1.00         7\n",
      "                   Home & Kitchen       0.99      0.96      0.97        71\n",
      "               Home Entertainment       0.81      0.88      0.84        64\n",
      "                           eBooks       1.00      1.00      1.00       110\n",
      "                          Eyewear       0.00      0.00      0.00         5\n",
      "\n",
      "                         accuracy                           0.98      3933\n",
      "                        macro avg       0.92      0.85      0.87      3933\n",
      "                     weighted avg       0.97      0.98      0.97      3933\n",
      "\n"
     ]
    },
    {
     "name": "stderr",
     "output_type": "stream",
     "text": [
      "c:\\users\\vaishnavi jha\\appdata\\local\\programs\\python\\python38-32\\lib\\site-packages\\sklearn\\metrics\\_classification.py:1245: UndefinedMetricWarning: Precision and F-score are ill-defined and being set to 0.0 in labels with no predicted samples. Use `zero_division` parameter to control this behavior.\n",
      "  _warn_prf(average, modifier, msg_start, len(result))\n",
      "c:\\users\\vaishnavi jha\\appdata\\local\\programs\\python\\python38-32\\lib\\site-packages\\sklearn\\metrics\\_classification.py:1245: UndefinedMetricWarning: Precision and F-score are ill-defined and being set to 0.0 in labels with no predicted samples. Use `zero_division` parameter to control this behavior.\n",
      "  _warn_prf(average, modifier, msg_start, len(result))\n",
      "c:\\users\\vaishnavi jha\\appdata\\local\\programs\\python\\python38-32\\lib\\site-packages\\sklearn\\metrics\\_classification.py:1245: UndefinedMetricWarning: Precision and F-score are ill-defined and being set to 0.0 in labels with no predicted samples. Use `zero_division` parameter to control this behavior.\n",
      "  _warn_prf(average, modifier, msg_start, len(result))\n"
     ]
    }
   ],
   "source": [
    "svmsvc = Pipeline([('vect', CountVectorizer()),\n",
    "                ('tfidf', TfidfTransformer()),\n",
    "                ('clf', svm.SVC(C=1.0, kernel='linear', degree=3, gamma='auto')),\n",
    "               ])\n",
    "svmsvc.fit(X_train, y_train)\n",
    "\n",
    "y_pred = svmsvc.predict(X_test)\n",
    "\n",
    "print('Accuracy %s' % accuracy_score(y_pred, y_test))\n",
    "print (\"Accuracy of model on training data:\" , svmsvc.score(X_train, y_train))\n",
    "print(classification_report(y_test, y_pred,target_names=top_cat))"
   ]
  },
  {
   "cell_type": "markdown",
   "id": "specific-intro",
   "metadata": {},
   "source": [
    ">Checking how our model works overall!<br>  "
   ]
  },
  {
   "cell_type": "code",
   "execution_count": 51,
   "id": "happy-convertible",
   "metadata": {},
   "outputs": [
    {
     "name": "stdout",
     "output_type": "stream",
     "text": [
      "3835\n"
     ]
    }
   ],
   "source": [
    "#In this codeblock we are calculating the total no.of correct predictions made by our model using svm algorithm\n",
    "nr_correct = (y_test == svmsvc.predict((X_test))).sum()\n",
    "print(nr_correct)"
   ]
  },
  {
   "cell_type": "code",
   "execution_count": 52,
   "id": "medical-junior",
   "metadata": {
    "scrolled": true
   },
   "outputs": [
    {
     "data": {
      "text/plain": [
       "19997    buy elite collection medium acrylic sticker fo...\n",
       "7570     key features of awesome self design faux georg...\n",
       "9971     smugglerzinc solid men s polo neck t shirt buy...\n",
       "15676    kujaparis casual shoes buy kujaparis casual sh...\n",
       "10267    key features of anti gravity black rucksack l ...\n",
       "                               ...                        \n",
       "511      selfcare soft comfortable newly launched girl ...\n",
       "19242    specifications of transcend premium memory ddr...\n",
       "10074    sportking women s leggings price rs these legg...\n",
       "8163     key features of gaga canvas painting theme han...\n",
       "14873    reckler slim fit men s jeans buy two black shi...\n",
       "Name: description, Length: 3933, dtype: object"
      ]
     },
     "execution_count": 52,
     "metadata": {},
     "output_type": "execute_result"
    }
   ],
   "source": [
    "X_test"
   ]
  },
  {
   "cell_type": "code",
   "execution_count": 53,
   "id": "nutritional-shannon",
   "metadata": {
    "scrolled": true
   },
   "outputs": [
    {
     "data": {
      "text/plain": [
       "'key features of gaga canvas painting theme hand painting frame included specifications of gaga canvas painting inch x inch general brand gaga model number am frame included yes painting type canvas painting theme hand painting dimensions weight kg height inch width inch in the box pack of '"
      ]
     },
     "execution_count": 53,
     "metadata": {},
     "output_type": "execute_result"
    }
   ],
   "source": [
    "test_desc = X_test[8163]\n",
    "test_desc"
   ]
  },
  {
   "cell_type": "markdown",
   "id": "direct-mainland",
   "metadata": {},
   "source": [
    ">Testing Blocks: Test your string"
   ]
  },
  {
   "cell_type": "code",
   "execution_count": 54,
   "id": "sensitive-celtic",
   "metadata": {
    "scrolled": true
   },
   "outputs": [
    {
     "data": {
      "text/plain": [
       "array(['Home Decor & Festive Needs'], dtype=object)"
      ]
     },
     "execution_count": 54,
     "metadata": {},
     "output_type": "execute_result"
    }
   ],
   "source": [
    "'''\n",
    "Multinomial Naive Bayes\n",
    "'''\n",
    "le.inverse_transform(model.predict(vect.transform([test_desc])))"
   ]
  },
  {
   "cell_type": "code",
   "execution_count": 55,
   "id": "accredited-bradford",
   "metadata": {},
   "outputs": [
    {
     "data": {
      "text/plain": [
       "array(['Home Decor & Festive Needs'], dtype=object)"
      ]
     },
     "execution_count": 55,
     "metadata": {},
     "output_type": "execute_result"
    }
   ],
   "source": [
    "'''\n",
    "Logistic Regression\n",
    "'''\n",
    "le.inverse_transform(logreg.predict([test_desc]))"
   ]
  },
  {
   "cell_type": "code",
   "execution_count": 56,
   "id": "cooperative-brown",
   "metadata": {},
   "outputs": [
    {
     "data": {
      "text/plain": [
       "array(['Home Decor & Festive Needs'], dtype=object)"
      ]
     },
     "execution_count": 56,
     "metadata": {},
     "output_type": "execute_result"
    }
   ],
   "source": [
    "'''\n",
    "Stochastic Gradient Descent (SGD)\n",
    "'''\n",
    "le.inverse_transform(sgd.predict([test_desc]))"
   ]
  },
  {
   "cell_type": "code",
   "execution_count": 57,
   "id": "settled-savannah",
   "metadata": {},
   "outputs": [
    {
     "data": {
      "text/plain": [
       "array(['Home Decor & Festive Needs'], dtype=object)"
      ]
     },
     "execution_count": 57,
     "metadata": {},
     "output_type": "execute_result"
    }
   ],
   "source": [
    "'''\n",
    "Support Vector Machines\n",
    "'''\n",
    "le.inverse_transform(svmsvc.predict([test_desc]))"
   ]
  },
  {
   "cell_type": "markdown",
   "id": "communist-electricity",
   "metadata": {},
   "source": [
    ">We can input any description from the dataset and check how accurate our models are.<br><br>\n",
    "\n",
    ">Out of all the algorithms we used we notice that the Support vector machine algorithm gives the highest accuracy.<br>"
   ]
  }
 ],
 "metadata": {
  "kernelspec": {
   "display_name": "Python 3",
   "language": "python",
   "name": "python3"
  },
  "language_info": {
   "codemirror_mode": {
    "name": "ipython",
    "version": 3
   },
   "file_extension": ".py",
   "mimetype": "text/x-python",
   "name": "python",
   "nbconvert_exporter": "python",
   "pygments_lexer": "ipython3",
   "version": "3.8.0"
  }
 },
 "nbformat": 4,
 "nbformat_minor": 5
}
